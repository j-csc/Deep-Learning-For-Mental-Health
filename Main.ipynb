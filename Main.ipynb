{
 "cells": [
  {
   "cell_type": "markdown",
   "metadata": {},
   "source": [
    "## Using Deep Learning to Examine the Association of the Built Environment With Prevalence of Neigborhood Mental Health Issues"
   ]
  },
  {
   "cell_type": "markdown",
   "metadata": {},
   "source": [
    "Importing necessary libraries"
   ]
  },
  {
   "cell_type": "code",
   "execution_count": 30,
   "metadata": {},
   "outputs": [
    {
     "ename": "ModuleNotFoundError",
     "evalue": "No module named 'folium'",
     "output_type": "error",
     "traceback": [
      "\u001b[0;31m---------------------------------------------------------------------------\u001b[0m",
      "\u001b[0;31mModuleNotFoundError\u001b[0m                       Traceback (most recent call last)",
      "\u001b[0;32m<ipython-input-30-4ab5e0f4ce91>\u001b[0m in \u001b[0;36m<module>\u001b[0;34m\u001b[0m\n\u001b[1;32m      3\u001b[0m \u001b[0;32mimport\u001b[0m \u001b[0mmatplotlib\u001b[0m\u001b[0;34m.\u001b[0m\u001b[0mpyplot\u001b[0m \u001b[0;32mas\u001b[0m \u001b[0mplt\u001b[0m\u001b[0;34m\u001b[0m\u001b[0;34m\u001b[0m\u001b[0m\n\u001b[1;32m      4\u001b[0m \u001b[0;32mimport\u001b[0m \u001b[0mseaborn\u001b[0m \u001b[0;32mas\u001b[0m \u001b[0msns\u001b[0m\u001b[0;34m\u001b[0m\u001b[0;34m\u001b[0m\u001b[0m\n\u001b[0;32m----> 5\u001b[0;31m \u001b[0;32mimport\u001b[0m \u001b[0mfolium\u001b[0m\u001b[0;34m\u001b[0m\u001b[0;34m\u001b[0m\u001b[0m\n\u001b[0m\u001b[1;32m      6\u001b[0m \u001b[0msns\u001b[0m\u001b[0;34m.\u001b[0m\u001b[0mset_style\u001b[0m\u001b[0;34m(\u001b[0m\u001b[0;34m\"whitegrid\"\u001b[0m\u001b[0;34m)\u001b[0m\u001b[0;34m\u001b[0m\u001b[0;34m\u001b[0m\u001b[0m\n",
      "\u001b[0;31mModuleNotFoundError\u001b[0m: No module named 'folium'"
     ]
    }
   ],
   "source": [
    "import pandas as pd\n",
    "import numpy as np\n",
    "import matplotlib.pyplot as plt\n",
    "import seaborn as sns\n",
    "import folium\n",
    "sns.set_style(\"whitegrid\")"
   ]
  },
  {
   "cell_type": "markdown",
   "metadata": {},
   "source": [
    "### Exploratory Data Analysis"
   ]
  },
  {
   "cell_type": "code",
   "execution_count": 25,
   "metadata": {},
   "outputs": [
    {
     "data": {
      "text/plain": [
       "(29006, 24)"
      ]
     },
     "execution_count": 25,
     "metadata": {},
     "output_type": "execute_result"
    }
   ],
   "source": [
    "# Load csv file\n",
    "df = pd.read_csv(\"500_Cities__Mental_health_not_good_for___14_days_among_adults_aged___18_years.csv\")\n",
    "\n",
    "# Show size\n",
    "df.shape"
   ]
  },
  {
   "cell_type": "markdown",
   "metadata": {},
   "source": [
    "> Add Commentary"
   ]
  },
  {
   "cell_type": "code",
   "execution_count": 26,
   "metadata": {},
   "outputs": [
    {
     "name": "stdout",
     "output_type": "stream",
     "text": [
      "<class 'pandas.core.frame.DataFrame'>\n",
      "RangeIndex: 29006 entries, 0 to 29005\n",
      "Data columns (total 10 columns):\n",
      "StateAbbr                29006 non-null object\n",
      "UniqueID                 29006 non-null object\n",
      "DataValueTypeID          29006 non-null object\n",
      "Data_Value               28212 non-null float64\n",
      "Low_Confidence_Limit     28212 non-null float64\n",
      "High_Confidence_Limit    28212 non-null float64\n",
      "PopulationCount          29006 non-null object\n",
      "GeoLocation              29004 non-null object\n",
      "CityFIPS                 29004 non-null float64\n",
      "TractFIPS                28004 non-null float64\n",
      "dtypes: float64(5), object(5)\n",
      "memory usage: 2.2+ MB\n"
     ]
    }
   ],
   "source": [
    "# Dropping unneccessary columns\n",
    "df = df.drop([\"Year\",\"StateDesc\", \"CityName\",\n",
    "       \"DataSource\", \"Category\", \"Measure\", \"Data_Value_Unit\",\n",
    "       \"Data_Value_Type\", \"Data_Value_Footnote_Symbol\", \"Data_Value_Footnote\",\n",
    "       \"CategoryID\", \"MeasureId\", \"GeographicLevel\",\n",
    "       \"Short_Question_Text\"], axis=1)\n",
    "\n",
    "# This is what we have now\n",
    "df.info()"
   ]
  },
  {
   "cell_type": "code",
   "execution_count": 27,
   "metadata": {},
   "outputs": [
    {
     "name": "stdout",
     "output_type": "stream",
     "text": [
      "StateAbbr | 0.0 | object\n",
      "UniqueID | 0.0 | object\n",
      "DataValueTypeID | 0.0 | object\n",
      "Data_Value | 0.027373646831689996 | float64\n",
      "Low_Confidence_Limit | 0.027373646831689996 | float64\n",
      "High_Confidence_Limit | 0.027373646831689996 | float64\n",
      "PopulationCount | 0.0 | object\n",
      "GeoLocation | 6.895125146521409e-05 | object\n",
      "CityFIPS | 6.895125146521409e-05 | float64\n",
      "TractFIPS | 0.03454457698407226 | float64\n",
      "\n",
      "Dropped 1796 data points\n"
     ]
    }
   ],
   "source": [
    "# Dropping duplicates\n",
    "df = df.drop_duplicates()\n",
    "\n",
    "# Finding missing values\n",
    "n_records = len(df)\n",
    "def missing_values_df(df):\n",
    "    for col in df:\n",
    "        print(\"{} | {} | {}\".format(\n",
    "            col, len(df[df[col].isnull()]) / (1.0*n_records), df[col].dtype\n",
    "        ))\n",
    "missing_values_df(df)\n",
    "\n",
    "# Dropping missing values (can impute or replace with 0)\n",
    "orig_size = df.shape[0]\n",
    "df = df.dropna()\n",
    "curr_size = df.shape[0]\n",
    "print(\"\\nDropped {} data points\".format(orig_size - curr_size))"
   ]
  },
  {
   "cell_type": "markdown",
   "metadata": {},
   "source": [
    "> Add Commentary"
   ]
  },
  {
   "cell_type": "code",
   "execution_count": 28,
   "metadata": {
    "scrolled": true
   },
   "outputs": [
    {
     "data": {
      "text/html": [
       "<div>\n",
       "<style scoped>\n",
       "    .dataframe tbody tr th:only-of-type {\n",
       "        vertical-align: middle;\n",
       "    }\n",
       "\n",
       "    .dataframe tbody tr th {\n",
       "        vertical-align: top;\n",
       "    }\n",
       "\n",
       "    .dataframe thead th {\n",
       "        text-align: right;\n",
       "    }\n",
       "</style>\n",
       "<table border=\"1\" class=\"dataframe\">\n",
       "  <thead>\n",
       "    <tr style=\"text-align: right;\">\n",
       "      <th></th>\n",
       "      <th>Data_Value</th>\n",
       "      <th>Low_Confidence_Limit</th>\n",
       "      <th>High_Confidence_Limit</th>\n",
       "      <th>CityFIPS</th>\n",
       "      <th>TractFIPS</th>\n",
       "    </tr>\n",
       "  </thead>\n",
       "  <tbody>\n",
       "    <tr>\n",
       "      <th>count</th>\n",
       "      <td>27210.000000</td>\n",
       "      <td>27210.000000</td>\n",
       "      <td>27210.000000</td>\n",
       "      <td>2.721000e+04</td>\n",
       "      <td>2.721000e+04</td>\n",
       "    </tr>\n",
       "    <tr>\n",
       "      <th>mean</th>\n",
       "      <td>13.110595</td>\n",
       "      <td>11.836549</td>\n",
       "      <td>14.469688</td>\n",
       "      <td>2.605539e+06</td>\n",
       "      <td>2.586284e+10</td>\n",
       "    </tr>\n",
       "    <tr>\n",
       "      <th>std</th>\n",
       "      <td>3.410292</td>\n",
       "      <td>3.166492</td>\n",
       "      <td>3.650666</td>\n",
       "      <td>1.681206e+06</td>\n",
       "      <td>1.671749e+10</td>\n",
       "    </tr>\n",
       "    <tr>\n",
       "      <th>min</th>\n",
       "      <td>4.100000</td>\n",
       "      <td>3.100000</td>\n",
       "      <td>5.700000</td>\n",
       "      <td>1.500300e+04</td>\n",
       "      <td>1.073000e+09</td>\n",
       "    </tr>\n",
       "    <tr>\n",
       "      <th>25%</th>\n",
       "      <td>10.500000</td>\n",
       "      <td>9.400000</td>\n",
       "      <td>11.700000</td>\n",
       "      <td>6.815540e+05</td>\n",
       "      <td>8.001009e+09</td>\n",
       "    </tr>\n",
       "    <tr>\n",
       "      <th>50%</th>\n",
       "      <td>12.700000</td>\n",
       "      <td>11.400000</td>\n",
       "      <td>14.000000</td>\n",
       "      <td>2.622000e+06</td>\n",
       "      <td>2.607700e+10</td>\n",
       "    </tr>\n",
       "    <tr>\n",
       "      <th>75%</th>\n",
       "      <td>15.400000</td>\n",
       "      <td>14.000000</td>\n",
       "      <td>16.900000</td>\n",
       "      <td>4.052500e+06</td>\n",
       "      <td>4.010910e+10</td>\n",
       "    </tr>\n",
       "    <tr>\n",
       "      <th>max</th>\n",
       "      <td>29.400000</td>\n",
       "      <td>26.600000</td>\n",
       "      <td>32.600000</td>\n",
       "      <td>5.613900e+06</td>\n",
       "      <td>5.602100e+10</td>\n",
       "    </tr>\n",
       "  </tbody>\n",
       "</table>\n",
       "</div>"
      ],
      "text/plain": [
       "         Data_Value  Low_Confidence_Limit  High_Confidence_Limit  \\\n",
       "count  27210.000000          27210.000000           27210.000000   \n",
       "mean      13.110595             11.836549              14.469688   \n",
       "std        3.410292              3.166492               3.650666   \n",
       "min        4.100000              3.100000               5.700000   \n",
       "25%       10.500000              9.400000              11.700000   \n",
       "50%       12.700000             11.400000              14.000000   \n",
       "75%       15.400000             14.000000              16.900000   \n",
       "max       29.400000             26.600000              32.600000   \n",
       "\n",
       "           CityFIPS     TractFIPS  \n",
       "count  2.721000e+04  2.721000e+04  \n",
       "mean   2.605539e+06  2.586284e+10  \n",
       "std    1.681206e+06  1.671749e+10  \n",
       "min    1.500300e+04  1.073000e+09  \n",
       "25%    6.815540e+05  8.001009e+09  \n",
       "50%    2.622000e+06  2.607700e+10  \n",
       "75%    4.052500e+06  4.010910e+10  \n",
       "max    5.613900e+06  5.602100e+10  "
      ]
     },
     "execution_count": 28,
     "metadata": {},
     "output_type": "execute_result"
    }
   ],
   "source": [
    "# A quick look at the desciptive statistics of the dataset\n",
    "df.describe()"
   ]
  },
  {
   "cell_type": "markdown",
   "metadata": {},
   "source": [
    "> Add Commentary"
   ]
  },
  {
   "cell_type": "code",
   "execution_count": 29,
   "metadata": {},
   "outputs": [
    {
     "data": {
      "text/plain": [
       "array([[<matplotlib.axes._subplots.AxesSubplot object at 0x1a1d2896d8>,\n",
       "        <matplotlib.axes._subplots.AxesSubplot object at 0x1a1b527390>,\n",
       "        <matplotlib.axes._subplots.AxesSubplot object at 0x1a1d3b9518>],\n",
       "       [<matplotlib.axes._subplots.AxesSubplot object at 0x1a1d9d6b70>,\n",
       "        <matplotlib.axes._subplots.AxesSubplot object at 0x1a1cb8e208>,\n",
       "        <matplotlib.axes._subplots.AxesSubplot object at 0x1a19ef3128>]],\n",
       "      dtype=object)"
      ]
     },
     "execution_count": 29,
     "metadata": {},
     "output_type": "execute_result"
    },
    {
     "data": {
      "image/png": "[encoded data removed]",
      "text/plain": [
       "<Figure size 1080x432 with 6 Axes>"
      ]
     },
     "metadata": {},
     "output_type": "display_data"
    }
   ],
   "source": [
    "df.select_dtypes(include=np.number).hist(bins=20, figsize=(15,6), layout=(2,3))"
   ]
  },
  {
   "cell_type": "markdown",
   "metadata": {},
   "source": [
    "> Add Commentary"
   ]
  },
  {
   "cell_type": "markdown",
   "metadata": {},
   "source": [
    "Now, we will visualize how the percentage of survey takers with mental health is distributed across the country."
   ]
  },
  {
   "cell_type": "code",
   "execution_count": null,
   "metadata": {},
   "outputs": [],
   "source": []
  }
 ],
 "metadata": {
  "kernelspec": {
   "display_name": "Python 3",
   "language": "python",
   "name": "python3"
  },
  "language_info": {
   "codemirror_mode": {
    "name": "ipython",
    "version": 3
   },
   "file_extension": ".py",
   "mimetype": "text/x-python",
   "name": "python",
   "nbconvert_exporter": "python",
   "pygments_lexer": "ipython3",
   "version": "3.7.1"
  }
 },
 "nbformat": 4,
 "nbformat_minor": 2
}
