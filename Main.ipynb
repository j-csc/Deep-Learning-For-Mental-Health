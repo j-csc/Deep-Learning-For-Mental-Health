{
 "cells": [
  {
   "cell_type": "markdown",
   "metadata": {},
   "source": [
    "## Using Deep Learning to Examine the Association of the Built Environment With Prevalence of Neigborhood Mental Health Issues"
   ]
  },
  {
   "cell_type": "markdown",
   "metadata": {},
   "source": [
    "Importing necessary libraries"
   ]
  },
  {
   "cell_type": "code",
   "execution_count": 58,
   "metadata": {},
   "outputs": [],
   "source": [
    "import pandas as pd\n",
    "import numpy as np\n",
    "import matplotlib.pyplot as plt\n",
    "import seaborn as sns\n",
    "sns.set_style(\"whitegrid\")"
   ]
  },
  {
   "cell_type": "markdown",
   "metadata": {},
   "source": [
    "### Exploratory Data Analysis"
   ]
  },
  {
   "cell_type": "code",
   "execution_count": 52,
   "metadata": {},
   "outputs": [
    {
     "data": {
      "text/plain": [
       "696144"
      ]
     },
     "execution_count": 52,
     "metadata": {},
     "output_type": "execute_result"
    }
   ],
   "source": [
    "# Load csv file\n",
    "df = pd.read_csv(\"500_Cities__Mental_health_not_good_for___14_days_among_adults_aged___18_years.csv\")\n",
    "\n",
    "# Show size\n",
    "df.size"
   ]
  },
  {
   "cell_type": "markdown",
   "metadata": {},
   "source": [
    "> Add Commentary"
   ]
  },
  {
   "cell_type": "code",
   "execution_count": 53,
   "metadata": {},
   "outputs": [
    {
     "name": "stdout",
     "output_type": "stream",
     "text": [
      "<class 'pandas.core.frame.DataFrame'>\n",
      "RangeIndex: 29006 entries, 0 to 29005\n",
      "Data columns (total 11 columns):\n",
      "StateAbbr                29006 non-null object\n",
      "GeographicLevel          29006 non-null object\n",
      "UniqueID                 29006 non-null object\n",
      "DataValueTypeID          29006 non-null object\n",
      "Data_Value               28212 non-null float64\n",
      "Low_Confidence_Limit     28212 non-null float64\n",
      "High_Confidence_Limit    28212 non-null float64\n",
      "PopulationCount          29006 non-null object\n",
      "GeoLocation              29004 non-null object\n",
      "CityFIPS                 29004 non-null float64\n",
      "TractFIPS                28004 non-null float64\n",
      "dtypes: float64(5), object(6)\n",
      "memory usage: 2.4+ MB\n"
     ]
    }
   ],
   "source": [
    "# Dropping unneccessary columns\n",
    "df = df.drop([\"Year\",\"StateDesc\", \"CityName\",\n",
    "       \"DataSource\", \"Category\", \"Measure\", \"Data_Value_Unit\",\n",
    "       \"Data_Value_Type\", \"Data_Value_Footnote_Symbol\", \"Data_Value_Footnote\",\n",
    "       \"CategoryID\", \"MeasureId\",\n",
    "       \"Short_Question_Text\"], axis=1)\n",
    "\n",
    "# This is what we have now\n",
    "df.info()"
   ]
  },
  {
   "cell_type": "markdown",
   "metadata": {},
   "source": [
    "> Add Commentary"
   ]
  },
  {
   "cell_type": "code",
   "execution_count": 54,
   "metadata": {
    "scrolled": true
   },
   "outputs": [
    {
     "data": {
      "text/html": [
       "<div>\n",
       "<style scoped>\n",
       "    .dataframe tbody tr th:only-of-type {\n",
       "        vertical-align: middle;\n",
       "    }\n",
       "\n",
       "    .dataframe tbody tr th {\n",
       "        vertical-align: top;\n",
       "    }\n",
       "\n",
       "    .dataframe thead th {\n",
       "        text-align: right;\n",
       "    }\n",
       "</style>\n",
       "<table border=\"1\" class=\"dataframe\">\n",
       "  <thead>\n",
       "    <tr style=\"text-align: right;\">\n",
       "      <th></th>\n",
       "      <th>Data_Value</th>\n",
       "      <th>Low_Confidence_Limit</th>\n",
       "      <th>High_Confidence_Limit</th>\n",
       "      <th>CityFIPS</th>\n",
       "      <th>TractFIPS</th>\n",
       "    </tr>\n",
       "  </thead>\n",
       "  <tbody>\n",
       "    <tr>\n",
       "      <th>count</th>\n",
       "      <td>28212.000000</td>\n",
       "      <td>28212.000000</td>\n",
       "      <td>28212.000000</td>\n",
       "      <td>2.900400e+04</td>\n",
       "      <td>2.800400e+04</td>\n",
       "    </tr>\n",
       "    <tr>\n",
       "      <th>mean</th>\n",
       "      <td>13.097115</td>\n",
       "      <td>11.859397</td>\n",
       "      <td>14.417071</td>\n",
       "      <td>2.607162e+06</td>\n",
       "      <td>2.593797e+10</td>\n",
       "    </tr>\n",
       "    <tr>\n",
       "      <th>std</th>\n",
       "      <td>3.371893</td>\n",
       "      <td>3.135327</td>\n",
       "      <td>3.616578</td>\n",
       "      <td>1.686484e+06</td>\n",
       "      <td>1.675674e+10</td>\n",
       "    </tr>\n",
       "    <tr>\n",
       "      <th>min</th>\n",
       "      <td>4.100000</td>\n",
       "      <td>3.100000</td>\n",
       "      <td>5.700000</td>\n",
       "      <td>1.500300e+04</td>\n",
       "      <td>1.073000e+09</td>\n",
       "    </tr>\n",
       "    <tr>\n",
       "      <th>25%</th>\n",
       "      <td>10.500000</td>\n",
       "      <td>9.400000</td>\n",
       "      <td>11.700000</td>\n",
       "      <td>6.813440e+05</td>\n",
       "      <td>8.001009e+09</td>\n",
       "    </tr>\n",
       "    <tr>\n",
       "      <th>50%</th>\n",
       "      <td>12.700000</td>\n",
       "      <td>11.500000</td>\n",
       "      <td>13.900000</td>\n",
       "      <td>2.622000e+06</td>\n",
       "      <td>2.608100e+10</td>\n",
       "    </tr>\n",
       "    <tr>\n",
       "      <th>75%</th>\n",
       "      <td>15.300000</td>\n",
       "      <td>14.000000</td>\n",
       "      <td>16.800000</td>\n",
       "      <td>4.055000e+06</td>\n",
       "      <td>4.010911e+10</td>\n",
       "    </tr>\n",
       "    <tr>\n",
       "      <th>max</th>\n",
       "      <td>29.400000</td>\n",
       "      <td>26.600000</td>\n",
       "      <td>32.600000</td>\n",
       "      <td>5.613900e+06</td>\n",
       "      <td>5.602100e+10</td>\n",
       "    </tr>\n",
       "  </tbody>\n",
       "</table>\n",
       "</div>"
      ],
      "text/plain": [
       "         Data_Value  Low_Confidence_Limit  High_Confidence_Limit  \\\n",
       "count  28212.000000          28212.000000           28212.000000   \n",
       "mean      13.097115             11.859397              14.417071   \n",
       "std        3.371893              3.135327               3.616578   \n",
       "min        4.100000              3.100000               5.700000   \n",
       "25%       10.500000              9.400000              11.700000   \n",
       "50%       12.700000             11.500000              13.900000   \n",
       "75%       15.300000             14.000000              16.800000   \n",
       "max       29.400000             26.600000              32.600000   \n",
       "\n",
       "           CityFIPS     TractFIPS  \n",
       "count  2.900400e+04  2.800400e+04  \n",
       "mean   2.607162e+06  2.593797e+10  \n",
       "std    1.686484e+06  1.675674e+10  \n",
       "min    1.500300e+04  1.073000e+09  \n",
       "25%    6.813440e+05  8.001009e+09  \n",
       "50%    2.622000e+06  2.608100e+10  \n",
       "75%    4.055000e+06  4.010911e+10  \n",
       "max    5.613900e+06  5.602100e+10  "
      ]
     },
     "execution_count": 54,
     "metadata": {},
     "output_type": "execute_result"
    }
   ],
   "source": [
    "# A quick look at the desciptive statistics of the dataset\n",
    "df.describe()"
   ]
  },
  {
   "cell_type": "markdown",
   "metadata": {},
   "source": [
    "> Add Commentary"
   ]
  },
  {
   "cell_type": "code",
   "execution_count": 67,
   "metadata": {},
   "outputs": [
    {
     "data": {
      "text/plain": [
       "array([[<matplotlib.axes._subplots.AxesSubplot object at 0x1a20707fd0>,\n",
       "        <matplotlib.axes._subplots.AxesSubplot object at 0x1a1ef66278>,\n",
       "        <matplotlib.axes._subplots.AxesSubplot object at 0x1a2116cbe0>],\n",
       "       [<matplotlib.axes._subplots.AxesSubplot object at 0x1a21163588>,\n",
       "        <matplotlib.axes._subplots.AxesSubplot object at 0x1a1fb6fef0>,\n",
       "        <matplotlib.axes._subplots.AxesSubplot object at 0x1a1fb52898>]],\n",
       "      dtype=object)"
      ]
     },
     "execution_count": 67,
     "metadata": {},
     "output_type": "execute_result"
    },
    {
     "data": {
      "image/png": "[encoded data removed]",
      "text/plain": [
       "<Figure size 1080x432 with 6 Axes>"
      ]
     },
     "metadata": {},
     "output_type": "display_data"
    }
   ],
   "source": [
    "df.select_dtypes(include=np.number).hist(bins=20, figsize=(15,6), layout=(2,3))"
   ]
  },
  {
   "cell_type": "code",
   "execution_count": null,
   "metadata": {},
   "outputs": [],
   "source": []
  }
 ],
 "metadata": {
  "kernelspec": {
   "display_name": "Python 3",
   "language": "python",
   "name": "python3"
  },
  "language_info": {
   "codemirror_mode": {
    "name": "ipython",
    "version": 3
   },
   "file_extension": ".py",
   "mimetype": "text/x-python",
   "name": "python",
   "nbconvert_exporter": "python",
   "pygments_lexer": "ipython3",
   "version": "3.7.1"
  }
 },
 "nbformat": 4,
 "nbformat_minor": 2
}
