{
  "nbformat": 4,
  "nbformat_minor": 0,
  "metadata": {
    "colab": {
      "name": "Model_Eval.ipynb",
      "provenance": [],
      "collapsed_sections": []
    },
    "kernelspec": {
      "name": "python3",
      "display_name": "Python 3"
    },
    "accelerator": "TPU"
  },
  "cells": [
    {
      "cell_type": "code",
      "metadata": {
        "id": "hIaOb2HtO6cP",
        "colab_type": "code",
        "outputId": "8fd60e1c-e74b-4329-b17e-0a8131c065c8",
        "colab": {
          "base_uri": "https://localhost:8080/",
          "height": 34
        }
      },
      "source": [
        "from google.colab import drive\n",
        "drive.mount('/content/gdrive', force_remount=True)"
      ],
      "execution_count": 0,
      "outputs": [
        {
          "output_type": "stream",
          "text": [
            "Mounted at /content/gdrive\n"
          ],
          "name": "stdout"
        }
      ]
    },
    {
      "cell_type": "code",
      "metadata": {
        "id": "EfurAhDtPZRf",
        "colab_type": "code",
        "outputId": "0e2d850b-aa38-43bf-e445-ad01f8c5d86e",
        "colab": {
          "base_uri": "https://localhost:8080/",
          "height": 34
        }
      },
      "source": [
        "import pandas as pd\n",
        "import numpy as np\n",
        "from keras.applications.vgg16 import VGG16, preprocess_input\n",
        "from keras.preprocessing import image\n",
        "from keras.models import Model, Sequential\n",
        "import os, sys, json, csv\n",
        "import glob\n",
        "import matplotlib.pyplot as plt\n",
        "import csv\n",
        "from sklearn.model_selection import train_test_split, KFold, cross_val_score, cross_validate, GridSearchCV\n",
        "from sklearn.linear_model import LinearRegression, RidgeCV, LassoCV, Ridge, Lasso, ElasticNet\n",
        "from sklearn.ensemble import GradientBoostingRegressor, RandomForestRegressor\n",
        "from sklearn import metrics\n",
        "from sklearn.svm import SVR\n",
        "from scipy.stats.stats import pearsonr\n",
        "from sklearn.feature_selection import RFE\n",
        "from sklearn.feature_selection import SelectKBest\n",
        "from sklearn.feature_selection import chi2"
      ],
      "execution_count": 0,
      "outputs": [
        {
          "output_type": "stream",
          "text": [
            "Using TensorFlow backend.\n"
          ],
          "name": "stderr"
        }
      ]
    },
    {
      "cell_type": "code",
      "metadata": {
        "id": "lhCc-EZBPnhX",
        "colab_type": "code",
        "outputId": "bc972db8-27e2-4b54-979e-ffc906e88d52",
        "colab": {
          "base_uri": "https://localhost:8080/",
          "height": 102
        }
      },
      "source": [
        "!cd /content/gdrive/My\\ Drive/Deep\\ Learning\\ for\\ Mental\\ Health/Bellevue; ls;"
      ],
      "execution_count": 0,
      "outputs": [
        {
          "output_type": "stream",
          "text": [
            "500_cities_Bellevue_mental_health.csv\t  filenames_fc7_z18_vgg_Bellevue.npy\n",
            "download_Bellevue_tract_18_imgs_locs.csv  img\n",
            "extracted_socio_Bellevue_features.npy\t  shape\n",
            "extracted_socio_Bellevue_tracts.npy\t  socioeconomic_data_v2.csv\n",
            "features_tracts_fc7_z18_vgg_Bellevue.npy  socioeconomic_data_v2.gsheet\n"
          ],
          "name": "stdout"
        }
      ]
    },
    {
      "cell_type": "code",
      "metadata": {
        "id": "LYj4c2R5a5Js",
        "colab_type": "code",
        "colab": {}
      },
      "source": [
        "root_dir = \"gdrive/My Drive/Deep Learning for Mental Health/\""
      ],
      "execution_count": 0,
      "outputs": []
    },
    {
      "cell_type": "code",
      "metadata": {
        "id": "S2l28Ym0bzAX",
        "colab_type": "code",
        "colab": {}
      },
      "source": [
        "def feature_selection(tract_path, features_path, csv_path, is_text=False):\n",
        "  # Load data\n",
        "  if is_text:\n",
        "    t1 = np.loadtxt(features_path)\n",
        "    t2 = np.loadtxt(tract_path)\n",
        "  else:\n",
        "    t1 = np.load(features_path)\n",
        "    t2 = np.load(tract_path)\n",
        "  csv = pd.read_csv(csv_path)\n",
        "\n",
        "  # Initialize target variables\n",
        "  features = pd.DataFrame(t1)\n",
        "  tracts = pd.DataFrame({\"TractFIPS\": t2})\n",
        "  tracts.TractFIPS = tracts.TractFIPS.astype('int64')\n",
        "  csv_data = pd.merge(tracts, csv, on=['TractFIPS'])\n",
        "\n",
        "  # Prepare data for models\n",
        "  X = features\n",
        "  y = csv_data['Data_Value']\n",
        "  X_train, X_test, y_train, y_test = train_test_split(X, y, test_size=0.2)\n",
        "\n",
        "  # GBR\n",
        "  gbr_model = GradientBoostingRegressor()\n",
        "  gbr_model.fit(X_train, y_train)\n",
        "\n",
        "  # Feature selection\n",
        "  rfe_selector = RFE(estimator=GradientBoostingRegressor(), n_features_to_select=10, step=2, verbose=5)\n",
        "  rfe_selector.fit(X_train, y_train)\n",
        "  rfe_support = rfe_selector.get_support()\n",
        "  rfe_feature = X.loc[:,rfe_support].columns.tolist()\n",
        "  print(str(len(rfe_feature)), 'selected features')\n",
        "  print(rfe_feature)\n",
        "\n",
        "  importances = gbr_model.feature_importances_\n",
        "\n",
        "  print(importances)\n",
        "  \n",
        "  # Generate plot\n",
        "  # Sort feature importances in descending order\n",
        "  # Create plot\n",
        "  plt.figure()\n",
        "\n",
        "  # Create plot title\n",
        "  plt.title(\"Feature Importance\")\n",
        "\n",
        "  # Add bars\n",
        "  plt.bar(range(X.shape[1]), importances)\n",
        "\n",
        "  # Add feature names as x-axis labels\n",
        "  plt.xticks(range(X.shape[1]), rotation=90)\n",
        "\n",
        "  # Show plot\n",
        "  plt.show()\n",
        "\n",
        "  \n",
        "\n",
        "def modelOutputs(tract_path, features_path, csv_path, is_text=False, isSocio=False):\n",
        "  # Load data\n",
        "  if is_text:\n",
        "    t1 = np.loadtxt(features_path)\n",
        "    t2 = np.loadtxt(tract_path)\n",
        "  else:\n",
        "    t1 = np.load(features_path)\n",
        "    t2 = np.load(tract_path)\n",
        "  csv = pd.read_csv(csv_path)\n",
        "\n",
        "  # Initialize target variables\n",
        "  features = pd.DataFrame(t1)\n",
        "  if (isSocio == True):\n",
        "    features = features[features.columns[[0, 5, 13, 14, 19, 20, 3, 4, 6, 17, 18]]]\n",
        "  tracts = pd.DataFrame({\"TractFIPS\": t2})\n",
        "  tracts.TractFIPS = tracts.TractFIPS.astype('int64')\n",
        "  csv_data = pd.merge(tracts, csv, on=['TractFIPS'])\n",
        "\n",
        "  # Prepare data for models\n",
        "  X = features\n",
        "  y = csv_data['Data_Value']\n",
        "  X_train, X_test, y_train, y_test = train_test_split(X, y, test_size=0.2)\n",
        "\n",
        "  lr_scores = cross_val_score(LinearRegression(), X, y, cv=5, scoring='r2')\n",
        "  las_scores = cross_val_score(Lasso(alpha=0.1), X, y, cv=5, scoring='r2')\n",
        "  svr_scores = cross_val_score(SVR(gamma='scale', C=1.0, epsilon=0.2), X, y, cv=5, scoring='r2')\n",
        "  gbr_scores = cross_val_score(GradientBoostingRegressor(), X, y, cv=5, scoring='r2')\n",
        "\n",
        "\n",
        "  print(\"SVR:\")\n",
        "  print(np.mean(svr_scores))\n",
        "  print(\"\\nLASSO:\")\n",
        "  print(np.mean(las_scores))\n",
        "  print(\"\\nLINEAR:\")\n",
        "  print(np.mean(lr_scores))\n",
        "  print(\"\\nGBR:\")\n",
        "  print(np.mean(gbr_scores))\n"
      ],
      "execution_count": 0,
      "outputs": []
    },
    {
      "cell_type": "markdown",
      "metadata": {
        "id": "l7-9tGRVoshu",
        "colab_type": "text"
      },
      "source": [
        "## Feature Selection for socioeconomic data"
      ]
    },
    {
      "cell_type": "code",
      "metadata": {
        "id": "HDWdOsZzosGF",
        "colab_type": "code",
        "outputId": "a3f002de-24e2-4279-b336-f55f9ed3ae9e",
        "colab": {
          "base_uri": "https://localhost:8080/",
          "height": 522
        }
      },
      "source": [
        "la_tract_path = \"gdrive/My Drive/Deep Learning for Mental Health/LA/extracted_socio_LA_tracts.npy\"\n",
        "la_features_path = \"gdrive/My Drive/Deep Learning for Mental Health/LA/extracted_socio_LA_features.npy\"\n",
        "la_csv_path = \"gdrive/My Drive/Deep Learning for Mental Health/LA/500_cities_lacity_mental_health.csv\"\n",
        "feature_selection(la_tract_path,la_features_path, la_csv_path, False)"
      ],
      "execution_count": 0,
      "outputs": [
        {
          "output_type": "stream",
          "text": [
            "Fitting estimator with 21 features.\n",
            "Fitting estimator with 19 features.\n",
            "Fitting estimator with 17 features.\n",
            "Fitting estimator with 15 features.\n",
            "Fitting estimator with 13 features.\n",
            "Fitting estimator with 11 features.\n",
            "10 selected features\n",
            "[0, 1, 5, 8, 9, 10, 14, 17, 18, 19]\n",
            "[1.02704746e-02 2.53452571e-03 2.55224085e-03 2.32716633e-03\n",
            " 2.14312936e-03 2.06398365e-03 2.29076903e-03 3.33710370e-03\n",
            " 7.45434241e-03 1.09899439e-02 4.81094629e-03 9.38336158e-04\n",
            " 1.53991593e-03 1.89178008e-03 4.43250637e-03 3.03875321e-04\n",
            " 4.68315397e-03 9.10231156e-01 1.90694539e-02 3.56524258e-03\n",
            " 2.56995426e-03]\n"
          ],
          "name": "stdout"
        },
        {
          "output_type": "display_data",
          "data": {
            "image/png": "[encoded data removed]",
            "text/plain": [
              "<Figure size 432x288 with 1 Axes>"
            ]
          },
          "metadata": {
            "tags": []
          }
        }
      ]
    },
    {
      "cell_type": "code",
      "metadata": {
        "id": "Rvajj1Xtpx08",
        "colab_type": "code",
        "outputId": "b951861b-f042-48cf-cdbc-5d2ec8f0218e",
        "colab": {
          "base_uri": "https://localhost:8080/",
          "height": 522
        }
      },
      "source": [
        "# Make sure it is consistent with Bellevue\n",
        "bellevue_tract_path = \"gdrive/My Drive/Deep Learning for Mental Health/Bellevue/extracted_socio_Bellevue_tracts.npy\"\n",
        "bellevue_features_path = \"gdrive/My Drive/Deep Learning for Mental Health/Bellevue/extracted_socio_Bellevue_features.npy\"\n",
        "bellevue_csv_path = \"gdrive/My Drive/Deep Learning for Mental Health/Bellevue/500_cities_Bellevue_mental_health.csv\"\n",
        "feature_selection(bellevue_tract_path,bellevue_features_path, bellevue_csv_path, False)"
      ],
      "execution_count": 0,
      "outputs": [
        {
          "output_type": "stream",
          "text": [
            "Fitting estimator with 21 features.\n",
            "Fitting estimator with 19 features.\n",
            "Fitting estimator with 17 features.\n",
            "Fitting estimator with 15 features.\n",
            "Fitting estimator with 13 features.\n",
            "Fitting estimator with 11 features.\n",
            "10 selected features\n",
            "[0, 4, 5, 10, 13, 14, 16, 17, 18, 20]\n",
            "[5.90247894e-02 1.32658865e-03 5.86856921e-04 3.46992008e-03\n",
            " 4.01277211e-03 9.55967116e-02 4.94762430e-03 2.28636863e-03\n",
            " 3.50765769e-05 2.26578367e-03 3.84702652e-03 1.49115751e-03\n",
            " 4.39652675e-04 1.74978634e-02 1.10343015e-02 5.29377414e-05\n",
            " 5.94978528e-03 7.42620673e-01 1.18372807e-02 1.48296277e-02\n",
            " 1.68472022e-02]\n"
          ],
          "name": "stdout"
        },
        {
          "output_type": "display_data",
          "data": {
            "image/png": "[encoded data removed]",
            "text/plain": [
              "<Figure size 432x288 with 1 Axes>"
            ]
          },
          "metadata": {
            "tags": []
          }
        }
      ]
    },
    {
      "cell_type": "code",
      "metadata": {
        "id": "zJA5-xfAu3N8",
        "colab_type": "code",
        "colab": {}
      },
      "source": [
        "socio_feature_cols = [0, 5, 13, 14, 19, 20, 3, 4, 6, 17, 18]\n",
        "# Selected features\n",
        "# ------------------------------------------\n",
        "# 0: Population Density (Per Sq. Mile)\n",
        "# 1: Normalized Male population\n",
        "# 2: Normalized Female population\n",
        "# 3: Normalized 18-24 population\n",
        "# 4: Normalized 25-34 population\n",
        "# 5: Normalized 35-44 population\n",
        "# 6: Normalized 45-54 population\n",
        "# 7: Normalized 55-64 population\n",
        "# 9: Normalized 75-84 population\n",
        "# 11: Family household\n",
        "# 12: Nonfamily Household\n",
        "# 13: Normalized population in Labor Force\n",
        "# 14: Normalized population not in labor force\n",
        "# 15: Armed labor force\n",
        "# 17: Per capita income\n",
        "# 18: Gini Index\n",
        "# -------------------------------------------\n",
        "# 16: Unemployed labor force\n",
        "# 19: Native born\n",
        "# 20: Foreign born"
      ],
      "execution_count": 0,
      "outputs": []
    },
    {
      "cell_type": "markdown",
      "metadata": {
        "id": "eaX68qlfo0K_",
        "colab_type": "text"
      },
      "source": [
        "## Model outputs"
      ]
    },
    {
      "cell_type": "markdown",
      "metadata": {
        "id": "y7OFhu5OSPEK",
        "colab_type": "text"
      },
      "source": [
        "Train and test on Bellevue satellite images ONLY"
      ]
    },
    {
      "cell_type": "code",
      "metadata": {
        "id": "QiNsAGRgLuKu",
        "colab_type": "code",
        "outputId": "f8f09f9a-1b55-4031-f541-b2a1ef929364",
        "colab": {
          "base_uri": "https://localhost:8080/",
          "height": 204
        }
      },
      "source": [
        "bellevue_tract_path = \"gdrive/My Drive/Deep Learning for Mental Health/Bellevue/filenames_fc7_z18_vgg_Bellevue.npy\"\n",
        "bellevue_features_path = \"gdrive/My Drive/Deep Learning for Mental Health/Bellevue/features_tracts_fc7_z18_vgg_Bellevue.npy\"\n",
        "bellevue_csv_path = \"gdrive/My Drive/Deep Learning for Mental Health/Bellevue/500_cities_Bellevue_mental_health.csv\"\n",
        "modelOutputs(bellevue_tract_path,bellevue_features_path, bellevue_csv_path, False)"
      ],
      "execution_count": 0,
      "outputs": [
        {
          "output_type": "stream",
          "text": [
            "SVR:\n",
            "-0.4986020337984211\n",
            "\n",
            "LASSO:\n",
            "-1.3917599907088678\n",
            "\n",
            "LINEAR:\n",
            "-2.5080859048482393\n",
            "\n",
            "GBR:\n",
            "-1.5429123891686036\n"
          ],
          "name": "stdout"
        }
      ]
    },
    {
      "cell_type": "markdown",
      "metadata": {
        "id": "QeSU2gNDuZlY",
        "colab_type": "text"
      },
      "source": [
        "Train and test on Bellevue socioeconomic census ONLY"
      ]
    },
    {
      "cell_type": "code",
      "metadata": {
        "id": "vq9cLrmtuYg-",
        "colab_type": "code",
        "outputId": "97ea2cb9-8694-4d4d-d8d9-36c450082803",
        "colab": {
          "base_uri": "https://localhost:8080/",
          "height": 204
        }
      },
      "source": [
        "bellevue_tract_path = \"gdrive/My Drive/Deep Learning for Mental Health/Bellevue/extracted_socio_Bellevue_tracts.npy\"\n",
        "bellevue_features_path = \"gdrive/My Drive/Deep Learning for Mental Health/Bellevue/extracted_socio_Bellevue_features.npy\"\n",
        "bellevue_csv_path = \"gdrive/My Drive/Deep Learning for Mental Health/Bellevue/500_cities_Bellevue_mental_health.csv\"\n",
        "modelOutputs(bellevue_tract_path,bellevue_features_path, bellevue_csv_path, False, True)"
      ],
      "execution_count": 0,
      "outputs": [
        {
          "output_type": "stream",
          "text": [
            "SVR:\n",
            "-0.36352208163477895\n",
            "\n",
            "LASSO:\n",
            "-1.074502510699169\n",
            "\n",
            "LINEAR:\n",
            "-1.3397781358519272\n",
            "\n",
            "GBR:\n",
            "0.1930116770515689\n"
          ],
          "name": "stdout"
        }
      ]
    },
    {
      "cell_type": "markdown",
      "metadata": {
        "id": "B3tEiXipWmjH",
        "colab_type": "text"
      },
      "source": [
        "Train and test on LA satellite images ONLY"
      ]
    },
    {
      "cell_type": "code",
      "metadata": {
        "id": "xbaf5KKQrL-Z",
        "colab_type": "code",
        "outputId": "1024a918-d0c8-4a75-b090-dc18e40f0464",
        "colab": {
          "base_uri": "https://localhost:8080/",
          "height": 204
        }
      },
      "source": [
        "la_tract_path = \"gdrive/My Drive/Deep Learning for Mental Health/Extracted/lacity_tractids_fc7_vggf_z18.txt\"\n",
        "la_features_path = \"gdrive/My Drive/Deep Learning for Mental Health/Extracted/X_lacity_fc7_vggf_z18.txt\"\n",
        "la_csv_path = \"gdrive/My Drive/Deep Learning for Mental Health/LA/500_cities_lacity_mental_health.csv\"\n",
        "modelOutputs(la_tract_path,la_features_path, la_csv_path, True)"
      ],
      "execution_count": 0,
      "outputs": [
        {
          "output_type": "stream",
          "text": [
            "SVR:\n",
            "0.31817697230500624\n",
            "\n",
            "LASSO:\n",
            "0.28775835550219164\n",
            "\n",
            "LINEAR:\n",
            "0.06403924429020538\n",
            "\n",
            "GBR:\n",
            "0.3834394531504629\n"
          ],
          "name": "stdout"
        }
      ]
    },
    {
      "cell_type": "markdown",
      "metadata": {
        "id": "k-ZqIr27uhYN",
        "colab_type": "text"
      },
      "source": [
        "Train and test on LA socioeconomic census ONLY\n",
        "\n"
      ]
    },
    {
      "cell_type": "code",
      "metadata": {
        "id": "oqHLUE4zui5w",
        "colab_type": "code",
        "outputId": "d5346d10-a9e5-4578-8475-33c60752ac07",
        "colab": {
          "base_uri": "https://localhost:8080/",
          "height": 204
        }
      },
      "source": [
        "la_tract_path = \"gdrive/My Drive/Deep Learning for Mental Health/LA/extracted_socio_LA_tracts.npy\"\n",
        "la_features_path = \"gdrive/My Drive/Deep Learning for Mental Health/LA/extracted_socio_LA_features.npy\"\n",
        "la_csv_path = \"gdrive/My Drive/Deep Learning for Mental Health/LA/500_cities_lacity_mental_health.csv\"\n",
        "modelOutputs(la_tract_path,la_features_path, la_csv_path, False, True)"
      ],
      "execution_count": 0,
      "outputs": [
        {
          "output_type": "stream",
          "text": [
            "SVR:\n",
            "0.7981256449461624\n",
            "\n",
            "LASSO:\n",
            "0.4594344863879683\n",
            "\n",
            "LINEAR:\n",
            "0.5053522410723916\n",
            "\n",
            "GBR:\n",
            "0.8734795941406197\n"
          ],
          "name": "stdout"
        }
      ]
    },
    {
      "cell_type": "markdown",
      "metadata": {
        "id": "B1Hu7WfbYzBc",
        "colab_type": "text"
      },
      "source": [
        "Train and test on San Antonio satellite images ONLY\n"
      ]
    },
    {
      "cell_type": "code",
      "metadata": {
        "id": "8tzLWbpngSxH",
        "colab_type": "code",
        "outputId": "17a9f9ca-0ca8-455b-da57-51db420f5344",
        "colab": {
          "base_uri": "https://localhost:8080/",
          "height": 204
        }
      },
      "source": [
        "tract_path = \"gdrive/My Drive/Deep Learning for Mental Health/Extracted/san-antonio_tractids_fc7_vggf_z18.txt\"\n",
        "features_path = \"gdrive/My Drive/Deep Learning for Mental Health/Extracted/X_san-antonio_fc7_vggf_z18.txt\"\n",
        "csv_path = \"gdrive/My Drive/Deep Learning for Mental Health/SA/500_cities_San_Antonio_mental_health.csv\"\n",
        "modelOutputs(tract_path, features_path, csv_path, True)"
      ],
      "execution_count": 0,
      "outputs": [
        {
          "output_type": "stream",
          "text": [
            "SVR:\n",
            "0.22461598905323021\n",
            "\n",
            "LASSO:\n",
            "0.3003021881590316\n",
            "\n",
            "LINEAR:\n",
            "0.24694554061549087\n",
            "\n",
            "GBR:\n",
            "0.2754168778984975\n"
          ],
          "name": "stdout"
        }
      ]
    },
    {
      "cell_type": "markdown",
      "metadata": {
        "id": "ZOiVF0q89lXD",
        "colab_type": "text"
      },
      "source": [
        "Train and test on San Antonio socioeconomic census ONLY\n"
      ]
    },
    {
      "cell_type": "code",
      "metadata": {
        "id": "8TVK1MWUEELJ",
        "colab_type": "code",
        "outputId": "fcd2e504-cf7b-4ac1-f4f9-4129a8b30e62",
        "colab": {
          "base_uri": "https://localhost:8080/",
          "height": 204
        }
      },
      "source": [
        "tract_path = \"gdrive/My Drive/Deep Learning for Mental Health/SA/extracted_socio_SA_tracts.npy\"\n",
        "features_path = \"gdrive/My Drive/Deep Learning for Mental Health/SA/extracted_socio_SA_features.npy\"\n",
        "csv_path = \"gdrive/My Drive/Deep Learning for Mental Health/SA/500_cities_San_Antonio_mental_health.csv\"\n",
        "modelOutputs(tract_path, features_path, csv_path, False)"
      ],
      "execution_count": 0,
      "outputs": [
        {
          "output_type": "stream",
          "text": [
            "SVR:\n",
            "0.6719966464148719\n",
            "\n",
            "LASSO:\n",
            "0.31284580537826945\n",
            "\n",
            "LINEAR:\n",
            "0.6517433768572063\n",
            "\n",
            "GBR:\n",
            "0.7378609291086992\n"
          ],
          "name": "stdout"
        }
      ]
    },
    {
      "cell_type": "markdown",
      "metadata": {
        "id": "QohEc66d9mMk",
        "colab_type": "text"
      },
      "source": [
        "Train and test on Memphis satellite images ONLY\n"
      ]
    },
    {
      "cell_type": "code",
      "metadata": {
        "id": "Ws0xxT1EgZli",
        "colab_type": "code",
        "outputId": "fe0864ca-8246-4313-b416-365645689031",
        "colab": {
          "base_uri": "https://localhost:8080/",
          "height": 204
        }
      },
      "source": [
        "tract_path = \"gdrive/My Drive/Deep Learning for Mental Health/Extracted/memphis_tractids_fc7_vggf_z18.txt\"\n",
        "features_path = \"gdrive/My Drive/Deep Learning for Mental Health/Extracted/X_memphis_fc7_vggf_z18.txt\"\n",
        "csv_path = \"gdrive/My Drive/Deep Learning for Mental Health/Memphis/500_cities_Memphis_mental_health.csv\"\n",
        "modelOutputs(tract_path, features_path, csv_path, True)"
      ],
      "execution_count": 0,
      "outputs": [
        {
          "output_type": "stream",
          "text": [
            "SVR:\n",
            "-0.03000710418875483\n",
            "\n",
            "LASSO:\n",
            "0.2237582111583619\n",
            "\n",
            "LINEAR:\n",
            "0.039686059398181414\n",
            "\n",
            "GBR:\n",
            "0.16624914902270455\n"
          ],
          "name": "stdout"
        }
      ]
    },
    {
      "cell_type": "markdown",
      "metadata": {
        "id": "EVKWFdqO9m82",
        "colab_type": "text"
      },
      "source": [
        "Train and test on Memphis socioeconomic census ONLY\n"
      ]
    },
    {
      "cell_type": "code",
      "metadata": {
        "id": "wANh401wEYtN",
        "colab_type": "code",
        "outputId": "77fb7cf6-dd24-473c-af2d-97d10957a8bd",
        "colab": {
          "base_uri": "https://localhost:8080/",
          "height": 204
        }
      },
      "source": [
        "tract_path = \"gdrive/My Drive/Deep Learning for Mental Health/Memphis/extracted_socio_Memphis_tracts.npy\"\n",
        "features_path = \"gdrive/My Drive/Deep Learning for Mental Health/Memphis/extracted_socio_Memphis_features.npy\"\n",
        "csv_path = \"gdrive/My Drive/Deep Learning for Mental Health/Memphis/500_cities_Memphis_mental_health.csv\"\n",
        "modelOutputs(tract_path, features_path, csv_path, False)"
      ],
      "execution_count": 0,
      "outputs": [
        {
          "output_type": "stream",
          "text": [
            "SVR:\n",
            "0.7313543429239007\n",
            "\n",
            "LASSO:\n",
            "0.5375904526914027\n",
            "\n",
            "LINEAR:\n",
            "0.6275256879092377\n",
            "\n",
            "GBR:\n",
            "0.7808513840874209\n"
          ],
          "name": "stdout"
        }
      ]
    },
    {
      "cell_type": "markdown",
      "metadata": {
        "id": "pT5BEwivKPfI",
        "colab_type": "text"
      },
      "source": [
        "## Combination of socioeconomic and image features"
      ]
    },
    {
      "cell_type": "code",
      "metadata": {
        "id": "VqKqEwVuJuSg",
        "colab_type": "code",
        "colab": {}
      },
      "source": [
        "def modelComboOutputs(tract_path,features_path,tract_path_s, features_path_s, csv_path, is_Text=True):\n",
        "  if is_Text == True:\n",
        "    t1 = np.loadtxt(features_path)\n",
        "    t2 = np.loadtxt(tract_path)\n",
        "  else :\n",
        "    t1 = np.load(features_path)\n",
        "    t2 = np.load(tract_path)\n",
        "  t3 = np.load(features_path_s)\n",
        "  t4 = np.load(tract_path_s)\n",
        "\n",
        "  csv = pd.read_csv(csv_path)\n",
        "\n",
        "  # Initialize target variables\n",
        "  features = pd.DataFrame(t1)\n",
        "  features['TractFIPS'] = t2\n",
        "  features.TractFIPS = features.TractFIPS.astype('int64')\n",
        "\n",
        "  # Prepare data for models\n",
        "  features_s = pd.DataFrame(t3)\n",
        "\n",
        "  # Feature selection applied\n",
        "  features_s = features_s[features_s.columns[[0, 5, 13, 14, 19, 20, 3, 4, 6, 17, 18]]]\n",
        "  features_s['TractFIPS'] = t4\n",
        "  features_s.TractFIPS = features_s.TractFIPS.astype('int64')\n",
        "\n",
        "  full_features = pd.merge(features, features_s, on=['TractFIPS'])\n",
        "  full_data = pd.merge(full_features, csv, on=['TractFIPS'])\n",
        "  full_data = full_data.drop(columns=['TractFIPS'])\n",
        "  X = full_data[full_data.columns[0:4106]]\n",
        "  y = full_data['Data_Value']\n",
        "\n",
        "  lr_scores = cross_val_score(LinearRegression(), X, y, cv=5, scoring='r2')\n",
        "  las_scores = cross_val_score(Lasso(alpha=0.1), X, y, cv=5, scoring='r2')\n",
        "  svr_scores = cross_val_score(SVR(gamma='scale', C=1.0, epsilon=0.2), X, y, cv=5, scoring='r2')\n",
        "  gbr_scores = cross_val_score(GradientBoostingRegressor(), X, y, cv=5, scoring='r2')\n",
        "\n",
        "  print(\"SVR:\")\n",
        "  print(np.mean(svr_scores))\n",
        "  print(\"\\nLASSO:\")\n",
        "  print(np.mean(las_scores))\n",
        "  print(\"\\nLINEAR:\")\n",
        "  print(np.mean(lr_scores))\n",
        "  print(\"\\nGBR:\")\n",
        "  print(np.mean(gbr_scores))\n"
      ],
      "execution_count": 0,
      "outputs": []
    },
    {
      "cell_type": "markdown",
      "metadata": {
        "id": "fzetI2HxKcPJ",
        "colab_type": "text"
      },
      "source": [
        "Train and test on LA ONLY"
      ]
    },
    {
      "cell_type": "code",
      "metadata": {
        "id": "tizRcj0UVKhC",
        "colab_type": "code",
        "outputId": "1c311d73-e61c-4e6d-a4d2-b02b400b64ab",
        "colab": {
          "base_uri": "https://localhost:8080/",
          "height": 204
        }
      },
      "source": [
        "# Load data\n",
        "tract_path = \"gdrive/My Drive/Deep Learning for Mental Health/Extracted/lacity_tractids_fc7_vggf_z18.txt\"\n",
        "features_path = \"gdrive/My Drive/Deep Learning for Mental Health/Extracted/X_lacity_fc7_vggf_z18.txt\"\n",
        "csv_path = \"gdrive/My Drive/Deep Learning for Mental Health/LA/500_cities_lacity_mental_health.csv\"\n",
        "tract_path_s = \"gdrive/My Drive/Deep Learning for Mental Health/LA/extracted_socio_LA_tracts.npy\"\n",
        "features_path_s = \"gdrive/My Drive/Deep Learning for Mental Health/LA/extracted_socio_LA_features.npy\"\n",
        "modelComboOutputs(tract_path, features_path, tract_path_s, features_path_s, csv_path)"
      ],
      "execution_count": 0,
      "outputs": [
        {
          "output_type": "stream",
          "text": [
            "SVR:\n",
            "0.7987027999951012\n",
            "\n",
            "LASSO:\n",
            "0.6012299249056591\n",
            "\n",
            "LINEAR:\n",
            "0.4414190446306283\n",
            "\n",
            "GBR:\n",
            "0.8459403245479699\n"
          ],
          "name": "stdout"
        }
      ]
    },
    {
      "cell_type": "markdown",
      "metadata": {
        "id": "T_oX59lnY5nm",
        "colab_type": "text"
      },
      "source": [
        "Train and test on Bellevue ONLY"
      ]
    },
    {
      "cell_type": "code",
      "metadata": {
        "id": "mredDQTnVWY5",
        "colab_type": "code",
        "outputId": "81a959e2-debd-435b-ecc5-c7fee6489947",
        "colab": {
          "base_uri": "https://localhost:8080/",
          "height": 204
        }
      },
      "source": [
        "bellevue_tract_path = \"gdrive/My Drive/Deep Learning for Mental Health/Bellevue/filenames_fc7_z18_vgg_Bellevue.npy\"\n",
        "bellevue_features_path = \"gdrive/My Drive/Deep Learning for Mental Health/Bellevue/features_tracts_fc7_z18_vgg_Bellevue.npy\"\n",
        "bellevue_tract_path_s = \"gdrive/My Drive/Deep Learning for Mental Health/Bellevue/extracted_socio_Bellevue_tracts.npy\"\n",
        "bellevue_features_path_s = \"gdrive/My Drive/Deep Learning for Mental Health/Bellevue/extracted_socio_Bellevue_features.npy\"\n",
        "bellevue_csv_path = \"gdrive/My Drive/Deep Learning for Mental Health/Bellevue/500_cities_Bellevue_mental_health.csv\"\n",
        "\n",
        "modelComboOutputs(bellevue_tract_path, bellevue_features_path, bellevue_tract_path_s, bellevue_features_path_s, bellevue_csv_path, False)"
      ],
      "execution_count": 0,
      "outputs": [
        {
          "output_type": "stream",
          "text": [
            "SVR:\n",
            "-0.16592815813149545\n",
            "\n",
            "LASSO:\n",
            "-0.4394532595971805\n",
            "\n",
            "LINEAR:\n",
            "-1.85145497642756\n",
            "\n",
            "GBR:\n",
            "0.20260819617984543\n"
          ],
          "name": "stdout"
        }
      ]
    },
    {
      "cell_type": "markdown",
      "metadata": {
        "id": "MpXiOZihP-xT",
        "colab_type": "text"
      },
      "source": [
        "Train and test on Memphis ONLY"
      ]
    },
    {
      "cell_type": "code",
      "metadata": {
        "id": "5ef0c_AAQBtN",
        "colab_type": "code",
        "outputId": "6427ce3c-3934-4b07-dca0-eef7f672936a",
        "colab": {
          "base_uri": "https://localhost:8080/",
          "height": 204
        }
      },
      "source": [
        "# Load data\n",
        "tract_path = \"gdrive/My Drive/Deep Learning for Mental Health/Extracted/memphis_tractids_fc7_vggf_z18.txt\"\n",
        "features_path = \"gdrive/My Drive/Deep Learning for Mental Health/Extracted/X_memphis_fc7_vggf_z18.txt\"\n",
        "csv_path = \"gdrive/My Drive/Deep Learning for Mental Health/Memphis/500_cities_Memphis_mental_health.csv\"\n",
        "tract_path_s = \"gdrive/My Drive/Deep Learning for Mental Health/Memphis/extracted_socio_Memphis_tracts.npy\"\n",
        "features_path_s = \"gdrive/My Drive/Deep Learning for Mental Health/Memphis/extracted_socio_Memphis_features.npy\"\n",
        "modelComboOutputs(tract_path, features_path, tract_path_s, features_path_s, csv_path)"
      ],
      "execution_count": 0,
      "outputs": [
        {
          "output_type": "stream",
          "text": [
            "SVR:\n",
            "0.7317710511339912\n",
            "\n",
            "LASSO:\n",
            "0.6221375302789909\n",
            "\n",
            "LINEAR:\n",
            "0.1944816992424603\n",
            "\n",
            "GBR:\n",
            "0.7588032910167595\n"
          ],
          "name": "stdout"
        }
      ]
    },
    {
      "cell_type": "markdown",
      "metadata": {
        "id": "rFVmRiwnQReW",
        "colab_type": "text"
      },
      "source": [
        "Train and test San Antonio ONLY"
      ]
    },
    {
      "cell_type": "code",
      "metadata": {
        "id": "lg6BFz_CQT8q",
        "colab_type": "code",
        "outputId": "d480610b-4ba9-4413-9d94-2585de2c2fec",
        "colab": {
          "base_uri": "https://localhost:8080/",
          "height": 204
        }
      },
      "source": [
        "# Load data\n",
        "tract_path = \"gdrive/My Drive/Deep Learning for Mental Health/Extracted/san-antonio_tractids_fc7_vggf_z18.txt\"\n",
        "features_path = \"gdrive/My Drive/Deep Learning for Mental Health/Extracted/X_san-antonio_fc7_vggf_z18.txt\"\n",
        "csv_path = \"gdrive/My Drive/Deep Learning for Mental Health/SA/500_cities_San_Antonio_mental_health.csv\"\n",
        "tract_path_s = \"gdrive/My Drive/Deep Learning for Mental Health/SA/extracted_socio_SA_tracts.npy\"\n",
        "features_path_s = \"gdrive/My Drive/Deep Learning for Mental Health/SA/extracted_socio_SA_features.npy\"\n",
        "modelComboOutputs(tract_path, features_path, tract_path_s, features_path_s, csv_path)"
      ],
      "execution_count": 0,
      "outputs": [
        {
          "output_type": "stream",
          "text": [
            "SVR:\n",
            "0.6690515774982005\n",
            "\n",
            "LASSO:\n",
            "0.4737573664355218\n",
            "\n",
            "LINEAR:\n",
            "0.4572517752659831\n",
            "\n",
            "GBR:\n",
            "0.7372491824488351\n"
          ],
          "name": "stdout"
        }
      ]
    },
    {
      "cell_type": "markdown",
      "metadata": {
        "id": "p-vvZJj_2Tv5",
        "colab_type": "text"
      },
      "source": [
        "## Multi-modal cross city"
      ]
    },
    {
      "cell_type": "code",
      "metadata": {
        "id": "wC1E3WroZfXi",
        "colab_type": "code",
        "colab": {}
      },
      "source": [
        "def multimodal_cc(city, tract_path,features_path,tract_path_s, features_path_s, csv_path, target_tract, target_features, target_tract_s, target_features_s, target_path, is_Text=True, is_Text2=True):\n",
        "  if is_Text == True:\n",
        "    t1 = np.loadtxt(features_path)\n",
        "    t2 = np.loadtxt(tract_path)\n",
        "  else :\n",
        "    t1 = np.load(features_path)\n",
        "    t2 = np.load(tract_path)\n",
        "  t3 = np.load(features_path_s)\n",
        "  t4 = np.load(tract_path_s)\n",
        "\n",
        "  csv = pd.read_csv(csv_path)\n",
        "\n",
        "  # Initialize target variables\n",
        "  features = pd.DataFrame(t1)\n",
        "  features['TractFIPS'] = t2\n",
        "  features.TractFIPS = features.TractFIPS.astype('int64')\n",
        "\n",
        "  # Prepare data for models\n",
        "  # [0, 5, 13, 14, 19, 20, 3, 4, 6, 17, 18]\n",
        "  # [0, 1, 2, 3, 4, 7, 9, 13, 17, 18]\n",
        "  features_s = pd.DataFrame(t3)\n",
        "  features_s = features_s[features_s.columns[[0, 5, 13, 14, 19, 20, 3, 4, 6, 17, 18]]]\n",
        "  features_s['TractFIPS'] = t4\n",
        "  features_s.TractFIPS = features_s.TractFIPS.astype('int64')\n",
        "\n",
        "  full_features = pd.merge(features, features_s, on=['TractFIPS'])\n",
        "  full_data = pd.merge(full_features, csv, on=['TractFIPS'])\n",
        "  full_data = full_data.drop(columns=['TractFIPS'])\n",
        "  X = full_data[full_data.columns[0:4106]]\n",
        "  y = full_data['Data_Value']\n",
        "  \n",
        "  X_train = X\n",
        "  y_train = y\n",
        "\n",
        "  # Preparing cross city\n",
        "  if is_Text2 == True:\n",
        "    t5 = np.loadtxt(target_features)\n",
        "    t6 = np.loadtxt(target_tract)\n",
        "  else:\n",
        "    t5 = np.load(target_features)\n",
        "    t6 = np.load(target_tract)\n",
        "\n",
        "  t7 = np.load(target_features_s)\n",
        "  t8 = np.load(target_tract_s)\n",
        "\n",
        "  target_csv = pd.read_csv(target_path)\n",
        "\n",
        "  pd_target_features = pd.DataFrame(t5)\n",
        "  pd_target_features['TractFIPS'] = t6\n",
        "  pd_target_features.TractFIPS = pd_target_features.TractFIPS.astype('int64')\n",
        "  \n",
        "  pd_target_features_s = pd.DataFrame(t7)\n",
        "  pd_target_features_s = pd_target_features_s[pd_target_features_s.columns[[0, 5, 13, 14, 19, 20, 3, 4, 6, 17, 18]]]\n",
        "  pd_target_features_s['TractFIPS'] = t8\n",
        "  pd_target_features_s.TractFIPS = pd_target_features_s.TractFIPS.astype('int64')\n",
        "\n",
        "  # Prepare data for models\n",
        "  target_full_features = pd.merge(pd_target_features, pd_target_features_s, on=['TractFIPS'])\n",
        "  target_full_data = pd.merge(target_full_features, target_csv, on=['TractFIPS'])\n",
        "  target_full_data = target_full_data.drop(columns=['TractFIPS'])\n",
        "  X_test = target_full_data[target_full_data.columns[0:4106]]\n",
        "  y_test = target_full_data['Data_Value']\n",
        "\n",
        "  # Lasso\n",
        "  las_model = Lasso(alpha=0.1)\n",
        "  las_model.fit(X_train, y_train)\n",
        "\n",
        "  # Linear\n",
        "  lr_model = LinearRegression()\n",
        "  lr_model.fit(X_train, y_train)\n",
        "\n",
        "  # SVR\n",
        "  svr_model = SVR(gamma='scale', C=1.0, epsilon=0.2)\n",
        "  svr_model.fit(X_train, y_train)\n",
        "\n",
        "  # GBR\n",
        "  gbr_model = GradientBoostingRegressor()\n",
        "  gbr_model.fit(X_train, y_train)\n",
        "\n",
        "  # Get prediction results\n",
        "  y_pred_lr = lr_model.predict(X_test)\n",
        "  y_pred_las = las_model.predict(X_test)\n",
        "  y_pred_svr = svr_model.predict(X_test)\n",
        "  y_pred_gbr = gbr_model.predict(X_test)\n",
        "\n",
        "  # Get prediction df\n",
        "  true_pred_df_lr = pd.DataFrame({'Actual': y_test, 'Predicted': y_pred_lr})\n",
        "  true_pred_df_las = pd.DataFrame({'Actual': y_test, 'Predicted': y_pred_las})\n",
        "  true_pred_df_svr = pd.DataFrame({'Actual': y_test, 'Predicted': y_pred_svr})\n",
        "  true_pred_df_gbr = pd.DataFrame({'Actual': y_test, 'Predicted': y_pred_gbr})\n",
        "\n",
        "  export_df_gbr = target_full_data\n",
        "  export_df_gbr['Predicted'] = y_pred_gbr\n",
        "\n",
        "  export_df_svr = target_full_data\n",
        "  export_df_svr['Predicted'] = y_pred_svr\n",
        "  \n",
        "  pd.to_pickle(export_df_gbr, \"gdrive/My Drive/Deep Learning for Mental Health/\" + city + \"_pred_gbr.pkl\")\n",
        "  pd.to_pickle(export_df_svr, \"gdrive/My Drive/Deep Learning for Mental Health/\" + city + \"_pred_svr.pkl\")\n",
        "\n",
        "  # Print results\n",
        "  def printRes(y_test, y_pred):\n",
        "    print('Mean Absolute Error:', metrics.mean_absolute_error(y_test, y_pred))  \n",
        "    print('Mean Squared Error:', metrics.mean_squared_error(y_test, y_pred))  \n",
        "    print('Root Mean Squared Error:', np.sqrt(metrics.mean_squared_error(y_test, y_pred)))\n",
        "    print('R2:', metrics.r2_score(y_test, y_pred))\n",
        "\n",
        "  print(\"SVR:\")\n",
        "  printRes(y_test, y_pred_svr)\n",
        "  print(\"\\nLASSO:\")\n",
        "  printRes(y_test, y_pred_las)\n",
        "  print(\"\\nLINEAR:\")\n",
        "  printRes(y_test, y_pred_lr)\n",
        "  print(\"\\nGBR:\")\n",
        "  printRes(y_test, y_pred_gbr)\n",
        "\n",
        "  print(\"\\nFeature Importance\")\n",
        "  ft = (gbr_model.feature_importances_)\n",
        "  print(ft)"
      ],
      "execution_count": 0,
      "outputs": []
    },
    {
      "cell_type": "markdown",
      "metadata": {
        "id": "hcQAVNkbPtl_",
        "colab_type": "text"
      },
      "source": [
        "# LA\n",
        "Train LA, Test Bellevue"
      ]
    },
    {
      "cell_type": "code",
      "metadata": {
        "id": "ugXBaC8X4OEf",
        "colab_type": "code",
        "outputId": "c0a6ddb7-3595-4ab2-8562-e4c55f3b1617",
        "colab": {
          "base_uri": "https://localhost:8080/",
          "height": 459
        }
      },
      "source": [
        "# Load data\n",
        "tract_path = \"gdrive/My Drive/Deep Learning for Mental Health/Extracted/lacity_tractids_fc7_vggf_z18.txt\"\n",
        "features_path = \"gdrive/My Drive/Deep Learning for Mental Health/Extracted/X_lacity_fc7_vggf_z18.txt\"\n",
        "csv_path = \"gdrive/My Drive/Deep Learning for Mental Health/LA/500_cities_lacity_mental_health.csv\"\n",
        "tract_path_s = \"gdrive/My Drive/Deep Learning for Mental Health/LA/extracted_socio_LA_tracts.npy\"\n",
        "features_path_s = \"gdrive/My Drive/Deep Learning for Mental Health/LA/extracted_socio_LA_features.npy\"\n",
        "\n",
        "bellevue_tract_path = \"gdrive/My Drive/Deep Learning for Mental Health/Bellevue/filenames_fc7_z18_vgg_Bellevue.npy\"\n",
        "bellevue_features_path = \"gdrive/My Drive/Deep Learning for Mental Health/Bellevue/features_tracts_fc7_z18_vgg_Bellevue.npy\"\n",
        "bellevue_csv_path = \"gdrive/My Drive/Deep Learning for Mental Health/Bellevue/500_cities_Bellevue_mental_health.csv\"\n",
        "bellevue_tract_path_s = \"gdrive/My Drive/Deep Learning for Mental Health/Bellevue/extracted_socio_Bellevue_tracts.npy\"\n",
        "bellevue_features_path_s = \"gdrive/My Drive/Deep Learning for Mental Health/Bellevue/extracted_socio_Bellevue_features.npy\"\n",
        "\n",
        "multimodal_cc(\"la:bellevue\", tract_path, features_path, tract_path_s, features_path_s, csv_path, bellevue_tract_path, bellevue_features_path,bellevue_tract_path_s, bellevue_features_path_s,bellevue_csv_path, is_Text2=False )"
      ],
      "execution_count": 0,
      "outputs": [
        {
          "output_type": "stream",
          "text": [
            "SVR:\n",
            "Mean Absolute Error: 1.025517802596294\n",
            "Mean Squared Error: 1.4907503262392825\n",
            "Root Mean Squared Error: 1.220962868493257\n",
            "R2: -0.7761321759974433\n",
            "\n",
            "LASSO:\n",
            "Mean Absolute Error: 3.182418504960732\n",
            "Mean Squared Error: 10.957659655876267\n",
            "Root Mean Squared Error: 3.310235589180363\n",
            "R2: -12.055339680876243\n",
            "\n",
            "LINEAR:\n",
            "Mean Absolute Error: 13.956325736673673\n",
            "Mean Squared Error: 210.73843042563894\n",
            "Root Mean Squared Error: 14.516832658181293\n",
            "R2: -250.08115048508571\n",
            "\n",
            "GBR:\n",
            "Mean Absolute Error: 2.0147933649435807\n",
            "Mean Squared Error: 4.404174794229691\n",
            "Root Mean Squared Error: 2.0986125879327253\n",
            "R2: -4.247288176338584\n",
            "\n",
            "Feature Importance\n",
            "[0.         0.         0.         ... 0.00098779 0.         0.88893134]\n"
          ],
          "name": "stdout"
        }
      ]
    },
    {
      "cell_type": "markdown",
      "metadata": {
        "id": "3hbzD9b6Qqrv",
        "colab_type": "text"
      },
      "source": [
        "Train LA, Test San Antonio"
      ]
    },
    {
      "cell_type": "code",
      "metadata": {
        "id": "2-W7w-7PPDC_",
        "colab_type": "code",
        "outputId": "c4a2a9e2-bb91-4172-d6ce-cefba197151b",
        "colab": {
          "base_uri": "https://localhost:8080/",
          "height": 459
        }
      },
      "source": [
        "# Load data\n",
        "tract_path = \"gdrive/My Drive/Deep Learning for Mental Health/Extracted/lacity_tractids_fc7_vggf_z18.txt\"\n",
        "features_path = \"gdrive/My Drive/Deep Learning for Mental Health/Extracted/X_lacity_fc7_vggf_z18.txt\"\n",
        "csv_path = \"gdrive/My Drive/Deep Learning for Mental Health/LA/500_cities_lacity_mental_health.csv\"\n",
        "tract_path_s = \"gdrive/My Drive/Deep Learning for Mental Health/LA/extracted_socio_LA_tracts.npy\"\n",
        "features_path_s = \"gdrive/My Drive/Deep Learning for Mental Health/LA/extracted_socio_LA_features.npy\"\n",
        "\n",
        "target_tract_path = \"gdrive/My Drive/Deep Learning for Mental Health/Extracted/san-antonio_tractids_fc7_vggf_z18.txt\"\n",
        "target_features_path = \"gdrive/My Drive/Deep Learning for Mental Health/Extracted/X_san-antonio_fc7_vggf_z18.txt\"\n",
        "target_csv_path = \"gdrive/My Drive/Deep Learning for Mental Health/SA/500_cities_San_Antonio_mental_health.csv\"\n",
        "target_tract_path_s = \"gdrive/My Drive/Deep Learning for Mental Health/SA/extracted_socio_SA_tracts.npy\"\n",
        "target_features_path_s = \"gdrive/My Drive/Deep Learning for Mental Health/SA/extracted_socio_SA_features.npy\"\n",
        "\n",
        "multimodal_cc(\"la:sa\", tract_path, features_path, tract_path_s, features_path_s, csv_path, target_tract_path, target_features_path,target_tract_path_s, target_features_path_s,target_csv_path )"
      ],
      "execution_count": 0,
      "outputs": [
        {
          "output_type": "stream",
          "text": [
            "SVR:\n",
            "Mean Absolute Error: 1.0080000333086407\n",
            "Mean Squared Error: 1.5527178369589187\n",
            "Root Mean Squared Error: 1.2460809913319915\n",
            "R2: 0.7798641911745232\n",
            "\n",
            "LASSO:\n",
            "Mean Absolute Error: 1.5984919155724233\n",
            "Mean Squared Error: 3.5912150635978723\n",
            "Root Mean Squared Error: 1.8950501480430202\n",
            "R2: 0.4908572479339206\n",
            "\n",
            "LINEAR:\n",
            "Mean Absolute Error: 1.9920016182538955\n",
            "Mean Squared Error: 6.367459516233537\n",
            "Root Mean Squared Error: 2.523382554475943\n",
            "R2: 0.09725655402087396\n",
            "\n",
            "GBR:\n",
            "Mean Absolute Error: 1.0308120213647858\n",
            "Mean Squared Error: 1.6187383980117516\n",
            "Root Mean Squared Error: 1.2722965055409654\n",
            "R2: 0.7705041585526646\n",
            "\n",
            "Feature Importance\n",
            "[0.         0.         0.         ... 0.00098779 0.         0.88893134]\n"
          ],
          "name": "stdout"
        }
      ]
    },
    {
      "cell_type": "markdown",
      "metadata": {
        "id": "CdvTl9-2VPt1",
        "colab_type": "text"
      },
      "source": [
        "Train LA, Test Memphis"
      ]
    },
    {
      "cell_type": "code",
      "metadata": {
        "id": "qX13W7tBQ6sA",
        "colab_type": "code",
        "outputId": "e7c0e179-00c3-4e8b-ff51-9bde8089d77b",
        "colab": {
          "base_uri": "https://localhost:8080/",
          "height": 459
        }
      },
      "source": [
        "# Load data\n",
        "tract_path = \"gdrive/My Drive/Deep Learning for Mental Health/Extracted/lacity_tractids_fc7_vggf_z18.txt\"\n",
        "features_path = \"gdrive/My Drive/Deep Learning for Mental Health/Extracted/X_lacity_fc7_vggf_z18.txt\"\n",
        "csv_path = \"gdrive/My Drive/Deep Learning for Mental Health/LA/500_cities_lacity_mental_health.csv\"\n",
        "tract_path_s = \"gdrive/My Drive/Deep Learning for Mental Health/LA/extracted_socio_LA_tracts.npy\"\n",
        "features_path_s = \"gdrive/My Drive/Deep Learning for Mental Health/LA/extracted_socio_LA_features.npy\"\n",
        "\n",
        "target_tract_path = \"gdrive/My Drive/Deep Learning for Mental Health/Extracted/memphis_tractids_fc7_vggf_z18.txt\"\n",
        "target_features_path = \"gdrive/My Drive/Deep Learning for Mental Health/Extracted/X_memphis_fc7_vggf_z18.txt\"\n",
        "target_csv_path = \"gdrive/My Drive/Deep Learning for Mental Health/Memphis/500_cities_Memphis_mental_health.csv\"\n",
        "target_tract_path_s = \"gdrive/My Drive/Deep Learning for Mental Health/Memphis/extracted_socio_Memphis_tracts.npy\"\n",
        "target_features_path_s = \"gdrive/My Drive/Deep Learning for Mental Health/Memphis/extracted_socio_Memphis_features.npy\"\n",
        "\n",
        "multimodal_cc(\"la:memphis\", tract_path, features_path, tract_path_s, features_path_s, csv_path, target_tract_path, target_features_path,target_tract_path_s, target_features_path_s,target_csv_path )"
      ],
      "execution_count": 0,
      "outputs": [
        {
          "output_type": "stream",
          "text": [
            "SVR:\n",
            "Mean Absolute Error: 2.9489788472031666\n",
            "Mean Squared Error: 11.84645747793289\n",
            "Root Mean Squared Error: 3.44186831211377\n",
            "R2: 0.10902252558197434\n",
            "\n",
            "LASSO:\n",
            "Mean Absolute Error: 3.179355696688703\n",
            "Mean Squared Error: 15.015117039330496\n",
            "Root Mean Squared Error: 3.8749344561334835\n",
            "R2: -0.12929380641546184\n",
            "\n",
            "LINEAR:\n",
            "Mean Absolute Error: 4.804343328373146\n",
            "Mean Squared Error: 31.634626101272598\n",
            "Root Mean Squared Error: 5.624466739280498\n",
            "R2: -1.3792546692016314\n",
            "\n",
            "GBR:\n",
            "Mean Absolute Error: 2.084064098354805\n",
            "Mean Squared Error: 7.197159436365577\n",
            "Root Mean Squared Error: 2.6827522130017107\n",
            "R2: 0.4586983535338033\n",
            "\n",
            "Feature Importance\n",
            "[0.         0.         0.         ... 0.00098779 0.         0.88893134]\n"
          ],
          "name": "stdout"
        }
      ]
    },
    {
      "cell_type": "markdown",
      "metadata": {
        "id": "QQu_c77fwFgl",
        "colab_type": "text"
      },
      "source": [
        "## Bellevue\n",
        "\n",
        "Train Bellevue, test LA"
      ]
    },
    {
      "cell_type": "code",
      "metadata": {
        "id": "UJTjgqs9VdGo",
        "colab_type": "code",
        "outputId": "ebe5747c-5681-45f6-8ae5-93375c351cb6",
        "colab": {
          "base_uri": "https://localhost:8080/",
          "height": 476
        }
      },
      "source": [
        "# Load data\n",
        "target_tract_path = \"gdrive/My Drive/Deep Learning for Mental Health/Extracted/lacity_tractids_fc7_vggf_z18.txt\"\n",
        "target_features_path = \"gdrive/My Drive/Deep Learning for Mental Health/Extracted/X_lacity_fc7_vggf_z18.txt\"\n",
        "target_csv_path = \"gdrive/My Drive/Deep Learning for Mental Health/LA/500_cities_lacity_mental_health.csv\"\n",
        "target_tract_path_s = \"gdrive/My Drive/Deep Learning for Mental Health/LA/extracted_socio_LA_tracts.npy\"\n",
        "target_features_path_s = \"gdrive/My Drive/Deep Learning for Mental Health/LA/extracted_socio_LA_features.npy\"\n",
        "\n",
        "tract_path = \"gdrive/My Drive/Deep Learning for Mental Health/Bellevue/filenames_fc7_z18_vgg_Bellevue.npy\"\n",
        "features_path = \"gdrive/My Drive/Deep Learning for Mental Health/Bellevue/features_tracts_fc7_z18_vgg_Bellevue.npy\"\n",
        "csv_path = \"gdrive/My Drive/Deep Learning for Mental Health/Bellevue/500_cities_Bellevue_mental_health.csv\"\n",
        "tract_path_s = \"gdrive/My Drive/Deep Learning for Mental Health/Bellevue/extracted_socio_Bellevue_tracts.npy\"\n",
        "features_path_s = \"gdrive/My Drive/Deep Learning for Mental Health/Bellevue/extracted_socio_Bellevue_features.npy\"\n",
        "\n",
        "multimodal_cc(\"bellevue:LA\", tract_path, features_path, tract_path_s, features_path_s, csv_path, target_tract_path, target_features_path,target_tract_path_s, target_features_path_s,target_csv_path, is_Text=False)"
      ],
      "execution_count": 0,
      "outputs": [
        {
          "output_type": "stream",
          "text": [
            "SVR:\n",
            "Mean Absolute Error: 4.04808093712689\n",
            "Mean Squared Error: 25.23466309487451\n",
            "Root Mean Squared Error: 5.023411499655837\n",
            "R2: -1.2346586148339966\n",
            "\n",
            "LASSO:\n",
            "Mean Absolute Error: 3.758130206792736\n",
            "Mean Squared Error: 23.001007885229534\n",
            "Root Mean Squared Error: 4.795936601460609\n",
            "R2: -1.036857010032076\n",
            "\n",
            "LINEAR:\n",
            "Mean Absolute Error: 7.938938243031257\n",
            "Mean Squared Error: 74.8096916650391\n",
            "Root Mean Squared Error: 8.649259602130064\n",
            "R2: -5.624781211614824\n",
            "\n",
            "GBR:\n",
            "Mean Absolute Error: 3.9991658199577045\n",
            "Mean Squared Error: 24.03815308194204\n",
            "Root Mean Squared Error: 4.902871921837448\n",
            "R2: -1.1287015272326264\n",
            "\n",
            "Feature Importance\n",
            "[0.00000000e+00 0.00000000e+00 0.00000000e+00 ... 9.94252885e-08\n",
            " 0.00000000e+00 6.75691863e-01]\n"
          ],
          "name": "stdout"
        }
      ]
    },
    {
      "cell_type": "markdown",
      "metadata": {
        "id": "-vq_DtN-wzjW",
        "colab_type": "text"
      },
      "source": [
        "Train Bellevue, Test Memphis"
      ]
    },
    {
      "cell_type": "code",
      "metadata": {
        "id": "MIVwgnn6wmyt",
        "colab_type": "code",
        "outputId": "acba55fa-553d-4fa6-88cf-95729e78bd5e",
        "colab": {
          "base_uri": "https://localhost:8080/",
          "height": 476
        }
      },
      "source": [
        "# Load data\n",
        "target_tract_path = \"gdrive/My Drive/Deep Learning for Mental Health/Extracted/memphis_tractids_fc7_vggf_z18.txt\"\n",
        "target_features_path = \"gdrive/My Drive/Deep Learning for Mental Health/Extracted/X_memphis_fc7_vggf_z18.txt\"\n",
        "target_csv_path = \"gdrive/My Drive/Deep Learning for Mental Health/Memphis/500_cities_Memphis_mental_health.csv\"\n",
        "target_tract_path_s = \"gdrive/My Drive/Deep Learning for Mental Health/Memphis/extracted_socio_Memphis_tracts.npy\"\n",
        "target_features_path_s = \"gdrive/My Drive/Deep Learning for Mental Health/Memphis/extracted_socio_Memphis_features.npy\"\n",
        "\n",
        "tract_path = \"gdrive/My Drive/Deep Learning for Mental Health/Bellevue/filenames_fc7_z18_vgg_Bellevue.npy\"\n",
        "features_path = \"gdrive/My Drive/Deep Learning for Mental Health/Bellevue/features_tracts_fc7_z18_vgg_Bellevue.npy\"\n",
        "csv_path = \"gdrive/My Drive/Deep Learning for Mental Health/Bellevue/500_cities_Bellevue_mental_health.csv\"\n",
        "tract_path_s = \"gdrive/My Drive/Deep Learning for Mental Health/Bellevue/extracted_socio_Bellevue_tracts.npy\"\n",
        "features_path_s = \"gdrive/My Drive/Deep Learning for Mental Health/Bellevue/extracted_socio_Bellevue_features.npy\"\n",
        "\n",
        "multimodal_cc(\"bellevue:memphis\", tract_path, features_path, tract_path_s, features_path_s, csv_path, target_tract_path, target_features_path,target_tract_path_s, target_features_path_s,target_csv_path, is_Text=False)"
      ],
      "execution_count": 0,
      "outputs": [
        {
          "output_type": "stream",
          "text": [
            "SVR:\n",
            "Mean Absolute Error: 6.911770636635722\n",
            "Mean Squared Error: 58.72600421448088\n",
            "Root Mean Squared Error: 7.6632893860587625\n",
            "R2: -3.4168095833836167\n",
            "\n",
            "LASSO:\n",
            "Mean Absolute Error: 5.520336686819335\n",
            "Mean Squared Error: 39.59181587497072\n",
            "Root Mean Squared Error: 6.292202783999473\n",
            "R2: -1.977718544266465\n",
            "\n",
            "LINEAR:\n",
            "Mean Absolute Error: 8.74334582136736\n",
            "Mean Squared Error: 85.73626572894398\n",
            "Root Mean Squared Error: 9.259387978097903\n",
            "R2: -5.448263681147024\n",
            "\n",
            "GBR:\n",
            "Mean Absolute Error: 6.961065624994993\n",
            "Mean Squared Error: 59.2843791737087\n",
            "Root Mean Squared Error: 7.699635002628936\n",
            "R2: -3.458805218946214\n",
            "\n",
            "Feature Importance\n",
            "[0.00000000e+00 0.00000000e+00 0.00000000e+00 ... 0.00000000e+00\n",
            " 9.52350209e-09 6.75704725e-01]\n"
          ],
          "name": "stdout"
        }
      ]
    },
    {
      "cell_type": "code",
      "metadata": {
        "id": "vMlVReAUw-19",
        "colab_type": "code",
        "outputId": "b650598c-51b0-44a6-872c-42b4b0de3af6",
        "colab": {
          "base_uri": "https://localhost:8080/",
          "height": 476
        }
      },
      "source": [
        "# Load data\n",
        "target_tract_path = \"gdrive/My Drive/Deep Learning for Mental Health/Extracted/san-antonio_tractids_fc7_vggf_z18.txt\"\n",
        "target_features_path = \"gdrive/My Drive/Deep Learning for Mental Health/Extracted/X_san-antonio_fc7_vggf_z18.txt\"\n",
        "target_csv_path = \"gdrive/My Drive/Deep Learning for Mental Health/SA/500_cities_San_Antonio_mental_health.csv\"\n",
        "target_tract_path_s = \"gdrive/My Drive/Deep Learning for Mental Health/SA/extracted_socio_SA_tracts.npy\"\n",
        "target_features_path_s = \"gdrive/My Drive/Deep Learning for Mental Health/SA/extracted_socio_SA_features.npy\"\n",
        "\n",
        "tract_path = \"gdrive/My Drive/Deep Learning for Mental Health/Bellevue/filenames_fc7_z18_vgg_Bellevue.npy\"\n",
        "features_path = \"gdrive/My Drive/Deep Learning for Mental Health/Bellevue/features_tracts_fc7_z18_vgg_Bellevue.npy\"\n",
        "csv_path = \"gdrive/My Drive/Deep Learning for Mental Health/Bellevue/500_cities_Bellevue_mental_health.csv\"\n",
        "tract_path_s = \"gdrive/My Drive/Deep Learning for Mental Health/Bellevue/extracted_socio_Bellevue_tracts.npy\"\n",
        "features_path_s = \"gdrive/My Drive/Deep Learning for Mental Health/Bellevue/extracted_socio_Bellevue_features.npy\"\n",
        "\n",
        "multimodal_cc(\"bellevue:sa\", tract_path, features_path, tract_path_s, features_path_s, csv_path, target_tract_path, target_features_path,target_tract_path_s, target_features_path_s,target_csv_path, is_Text=False)"
      ],
      "execution_count": 0,
      "outputs": [
        {
          "output_type": "stream",
          "text": [
            "SVR:\n",
            "Mean Absolute Error: 3.228146022585376\n",
            "Mean Squared Error: 15.89892783676517\n",
            "Root Mean Squared Error: 3.987345964017315\n",
            "R2: -1.2540626864047475\n",
            "\n",
            "LASSO:\n",
            "Mean Absolute Error: 2.2885451083738384\n",
            "Mean Squared Error: 8.970383719272885\n",
            "Root Mean Squared Error: 2.995059885757359\n",
            "R2: -0.2717717466198408\n",
            "\n",
            "LINEAR:\n",
            "Mean Absolute Error: 5.665798827579708\n",
            "Mean Squared Error: 37.40545852102409\n",
            "Root Mean Squared Error: 6.116000206100723\n",
            "R2: -4.303140512728792\n",
            "\n",
            "GBR:\n",
            "Mean Absolute Error: 3.0716303847007143\n",
            "Mean Squared Error: 14.793555348965034\n",
            "Root Mean Squared Error: 3.846239117497121\n",
            "R2: -1.097349044773702\n",
            "\n",
            "Feature Importance\n",
            "[0.00000000e+00 0.00000000e+00 0.00000000e+00 ... 0.00000000e+00\n",
            " 9.52350209e-09 6.75704725e-01]\n"
          ],
          "name": "stdout"
        }
      ]
    },
    {
      "cell_type": "markdown",
      "metadata": {
        "id": "zvxy8ZpQ0Z6m",
        "colab_type": "text"
      },
      "source": [
        "## San Antonio\n",
        "\n",
        "Train San Antonio, test Los Angeles"
      ]
    },
    {
      "cell_type": "code",
      "metadata": {
        "id": "sslJ47qszpRe",
        "colab_type": "code",
        "outputId": "062ba805-4047-4fd4-e919-073272bed600",
        "colab": {
          "base_uri": "https://localhost:8080/",
          "height": 476
        }
      },
      "source": [
        "# Load data\n",
        "target_tract_path = \"gdrive/My Drive/Deep Learning for Mental Health/Extracted/lacity_tractids_fc7_vggf_z18.txt\"\n",
        "target_features_path = \"gdrive/My Drive/Deep Learning for Mental Health/Extracted/X_lacity_fc7_vggf_z18.txt\"\n",
        "target_csv_path = \"gdrive/My Drive/Deep Learning for Mental Health/LA/500_cities_lacity_mental_health.csv\"\n",
        "target_tract_path_s = \"gdrive/My Drive/Deep Learning for Mental Health/LA/extracted_socio_LA_tracts.npy\"\n",
        "target_features_path_s = \"gdrive/My Drive/Deep Learning for Mental Health/LA/extracted_socio_LA_features.npy\"\n",
        "\n",
        "tract_path = \"gdrive/My Drive/Deep Learning for Mental Health/Extracted/san-antonio_tractids_fc7_vggf_z18.txt\"\n",
        "features_path = \"gdrive/My Drive/Deep Learning for Mental Health/Extracted/X_san-antonio_fc7_vggf_z18.txt\"\n",
        "csv_path = \"gdrive/My Drive/Deep Learning for Mental Health/SA/500_cities_San_Antonio_mental_health.csv\"\n",
        "tract_path_s = \"gdrive/My Drive/Deep Learning for Mental Health/SA/extracted_socio_SA_tracts.npy\"\n",
        "features_path_s = \"gdrive/My Drive/Deep Learning for Mental Health/SA/extracted_socio_SA_features.npy\"\n",
        "\n",
        "multimodal_cc(\"sa:la\", tract_path, features_path, tract_path_s, features_path_s, csv_path, target_tract_path, target_features_path,target_tract_path_s, target_features_path_s,target_csv_path )"
      ],
      "execution_count": 0,
      "outputs": [
        {
          "output_type": "stream",
          "text": [
            "SVR:\n",
            "Mean Absolute Error: 1.7325291056059873\n",
            "Mean Squared Error: 5.377368546663277\n",
            "Root Mean Squared Error: 2.3189153815228525\n",
            "R2: 0.5238064838527927\n",
            "\n",
            "LASSO:\n",
            "Mean Absolute Error: 1.988224067743628\n",
            "Mean Squared Error: 7.515672562143977\n",
            "Root Mean Squared Error: 2.7414726995073244\n",
            "R2: 0.3344487154782816\n",
            "\n",
            "LINEAR:\n",
            "Mean Absolute Error: 2.655574888672349\n",
            "Mean Squared Error: 14.443588563616244\n",
            "Root Mean Squared Error: 3.80047215009086\n",
            "R2: -0.2790537163683635\n",
            "\n",
            "GBR:\n",
            "Mean Absolute Error: 1.2608059307786383\n",
            "Mean Squared Error: 2.5711625729980105\n",
            "Root Mean Squared Error: 1.6034845097468233\n",
            "R2: 0.7723103901848498\n",
            "\n",
            "Feature Importance\n",
            "[0.00000000e+00 0.00000000e+00 0.00000000e+00 ... 0.00000000e+00\n",
            " 7.76013270e-05 8.34987399e-01]\n"
          ],
          "name": "stdout"
        }
      ]
    },
    {
      "cell_type": "markdown",
      "metadata": {
        "id": "MtuSu7HN3LPu",
        "colab_type": "text"
      },
      "source": [
        "Train San Antonio, test Bellevue"
      ]
    },
    {
      "cell_type": "code",
      "metadata": {
        "id": "S-u3tui_3JOc",
        "colab_type": "code",
        "outputId": "b5595c80-6f5d-43ff-bd6a-7b98eeaf34cb",
        "colab": {
          "base_uri": "https://localhost:8080/",
          "height": 476
        }
      },
      "source": [
        "# Load data\n",
        "bellevue_tract_path = \"gdrive/My Drive/Deep Learning for Mental Health/Bellevue/filenames_fc7_z18_vgg_Bellevue.npy\"\n",
        "bellevue_features_path = \"gdrive/My Drive/Deep Learning for Mental Health/Bellevue/features_tracts_fc7_z18_vgg_Bellevue.npy\"\n",
        "bellevue_csv_path = \"gdrive/My Drive/Deep Learning for Mental Health/Bellevue/500_cities_Bellevue_mental_health.csv\"\n",
        "bellevue_tract_path_s = \"gdrive/My Drive/Deep Learning for Mental Health/Bellevue/extracted_socio_Bellevue_tracts.npy\"\n",
        "bellevue_features_path_s = \"gdrive/My Drive/Deep Learning for Mental Health/Bellevue/extracted_socio_Bellevue_features.npy\"\n",
        "\n",
        "tract_path = \"gdrive/My Drive/Deep Learning for Mental Health/Extracted/san-antonio_tractids_fc7_vggf_z18.txt\"\n",
        "features_path = \"gdrive/My Drive/Deep Learning for Mental Health/Extracted/X_san-antonio_fc7_vggf_z18.txt\"\n",
        "csv_path = \"gdrive/My Drive/Deep Learning for Mental Health/SA/500_cities_San_Antonio_mental_health.csv\"\n",
        "tract_path_s = \"gdrive/My Drive/Deep Learning for Mental Health/SA/extracted_socio_SA_tracts.npy\"\n",
        "features_path_s = \"gdrive/My Drive/Deep Learning for Mental Health/SA/extracted_socio_SA_features.npy\"\n",
        "\n",
        "multimodal_cc(\"sa:bellevue\", tract_path, features_path, tract_path_s, features_path_s, csv_path, bellevue_tract_path, bellevue_features_path,bellevue_tract_path_s, bellevue_features_path_s,bellevue_csv_path, is_Text2=False )"
      ],
      "execution_count": 0,
      "outputs": [
        {
          "output_type": "stream",
          "text": [
            "SVR:\n",
            "Mean Absolute Error: 0.7281949135604106\n",
            "Mean Squared Error: 1.12407792995796\n",
            "Root Mean Squared Error: 1.0602254146915928\n",
            "R2: -0.3392658345167252\n",
            "\n",
            "LASSO:\n",
            "Mean Absolute Error: 1.3744667961161616\n",
            "Mean Squared Error: 2.873661383938489\n",
            "Root Mean Squared Error: 1.6951877134814566\n",
            "R2: -2.423780868665221\n",
            "\n",
            "LINEAR:\n",
            "Mean Absolute Error: 1.6567792992551684\n",
            "Mean Squared Error: 4.303237868955148\n",
            "Root Mean Squared Error: 2.0744247079504112\n",
            "R2: -4.127028386640179\n",
            "\n",
            "GBR:\n",
            "Mean Absolute Error: 1.5059938579195309\n",
            "Mean Squared Error: 2.9282490521495417\n",
            "Root Mean Squared Error: 1.711212743100501\n",
            "R2: -2.4888185293759264\n",
            "\n",
            "Feature Importance\n",
            "[0.00000000e+00 0.00000000e+00 0.00000000e+00 ... 0.00000000e+00\n",
            " 7.76013270e-05 8.34987399e-01]\n"
          ],
          "name": "stdout"
        }
      ]
    },
    {
      "cell_type": "markdown",
      "metadata": {
        "id": "A5NvH1qi3nLi",
        "colab_type": "text"
      },
      "source": [
        "Train San Antonio, Test Memphis"
      ]
    },
    {
      "cell_type": "code",
      "metadata": {
        "id": "64kVwOzC3Zm1",
        "colab_type": "code",
        "outputId": "d385394c-e126-458d-b441-d8b8f5054820",
        "colab": {
          "base_uri": "https://localhost:8080/",
          "height": 476
        }
      },
      "source": [
        "# Load data\n",
        "target_tract_path = \"gdrive/My Drive/Deep Learning for Mental Health/Extracted/memphis_tractids_fc7_vggf_z18.txt\"\n",
        "target_features_path = \"gdrive/My Drive/Deep Learning for Mental Health/Extracted/X_memphis_fc7_vggf_z18.txt\"\n",
        "target_csv_path = \"gdrive/My Drive/Deep Learning for Mental Health/Memphis/500_cities_Memphis_mental_health.csv\"\n",
        "target_tract_path_s = \"gdrive/My Drive/Deep Learning for Mental Health/Memphis/extracted_socio_Memphis_tracts.npy\"\n",
        "target_features_path_s = \"gdrive/My Drive/Deep Learning for Mental Health/Memphis/extracted_socio_Memphis_features.npy\"\n",
        "\n",
        "tract_path = \"gdrive/My Drive/Deep Learning for Mental Health/Extracted/san-antonio_tractids_fc7_vggf_z18.txt\"\n",
        "features_path = \"gdrive/My Drive/Deep Learning for Mental Health/Extracted/X_san-antonio_fc7_vggf_z18.txt\"\n",
        "csv_path = \"gdrive/My Drive/Deep Learning for Mental Health/SA/500_cities_San_Antonio_mental_health.csv\"\n",
        "tract_path_s = \"gdrive/My Drive/Deep Learning for Mental Health/SA/extracted_socio_SA_tracts.npy\"\n",
        "features_path_s = \"gdrive/My Drive/Deep Learning for Mental Health/SA/extracted_socio_SA_features.npy\"\n",
        "\n",
        "multimodal_cc(\"sa:memphis\", tract_path, features_path, tract_path_s, features_path_s, csv_path, target_tract_path, target_features_path,target_tract_path_s, target_features_path_s,target_csv_path )"
      ],
      "execution_count": 0,
      "outputs": [
        {
          "output_type": "stream",
          "text": [
            "SVR:\n",
            "Mean Absolute Error: 3.193248492507933\n",
            "Mean Squared Error: 12.799783447486067\n",
            "Root Mean Squared Error: 3.5776784997377935\n",
            "R2: 0.037322444251178255\n",
            "\n",
            "LASSO:\n",
            "Mean Absolute Error: 3.2147170617813443\n",
            "Mean Squared Error: 14.41478829961213\n",
            "Root Mean Squared Error: 3.7966812217530364\n",
            "R2: -0.08414280787170503\n",
            "\n",
            "LINEAR:\n",
            "Mean Absolute Error: 3.4257554975226925\n",
            "Mean Squared Error: 16.450292073393886\n",
            "Root Mean Squared Error: 4.055895964320817\n",
            "R2: -0.23723397583568984\n",
            "\n",
            "GBR:\n",
            "Mean Absolute Error: 2.731681990737596\n",
            "Mean Squared Error: 9.970244737163533\n",
            "Root Mean Squared Error: 3.1575694350502466\n",
            "R2: 0.250133342242188\n",
            "\n",
            "Feature Importance\n",
            "[0.00000000e+00 0.00000000e+00 0.00000000e+00 ... 0.00000000e+00\n",
            " 7.76013270e-05 8.34987399e-01]\n"
          ],
          "name": "stdout"
        }
      ]
    },
    {
      "cell_type": "markdown",
      "metadata": {
        "id": "uuFofN0u441W",
        "colab_type": "text"
      },
      "source": [
        "# Memphis\n",
        "Train on Memphis, Test on LA"
      ]
    },
    {
      "cell_type": "code",
      "metadata": {
        "id": "wAnEw_Gn3lWL",
        "colab_type": "code",
        "outputId": "8c9dc1c3-cec4-44a7-d0d1-e6eed6c15691",
        "colab": {
          "base_uri": "https://localhost:8080/",
          "height": 459
        }
      },
      "source": [
        "# Load data\n",
        "target_tract_path = \"gdrive/My Drive/Deep Learning for Mental Health/Extracted/lacity_tractids_fc7_vggf_z18.txt\"\n",
        "target_features_path = \"gdrive/My Drive/Deep Learning for Mental Health/Extracted/X_lacity_fc7_vggf_z18.txt\"\n",
        "target_csv_path = \"gdrive/My Drive/Deep Learning for Mental Health/LA/500_cities_lacity_mental_health.csv\"\n",
        "target_tract_path_s = \"gdrive/My Drive/Deep Learning for Mental Health/LA/extracted_socio_LA_tracts.npy\"\n",
        "target_features_path_s = \"gdrive/My Drive/Deep Learning for Mental Health/LA/extracted_socio_LA_features.npy\"\n",
        "\n",
        "tract_path = \"gdrive/My Drive/Deep Learning for Mental Health/Extracted/memphis_tractids_fc7_vggf_z18.txt\"\n",
        "features_path = \"gdrive/My Drive/Deep Learning for Mental Health/Extracted/X_memphis_fc7_vggf_z18.txt\"\n",
        "csv_path = \"gdrive/My Drive/Deep Learning for Mental Health/Memphis/500_cities_Memphis_mental_health.csv\"\n",
        "tract_path_s = \"gdrive/My Drive/Deep Learning for Mental Health/Memphis/extracted_socio_Memphis_tracts.npy\"\n",
        "features_path_s = \"gdrive/My Drive/Deep Learning for Mental Health/Memphis/extracted_socio_Memphis_features.npy\"\n",
        "\n",
        "multimodal_cc(\"memphis:la\", tract_path, features_path, tract_path_s, features_path_s, csv_path, target_tract_path, target_features_path,target_tract_path_s, target_features_path_s,target_csv_path )"
      ],
      "execution_count": 0,
      "outputs": [
        {
          "output_type": "stream",
          "text": [
            "SVR:\n",
            "Mean Absolute Error: 2.0886306479522836\n",
            "Mean Squared Error: 6.16561187332988\n",
            "Root Mean Squared Error: 2.483065015928878\n",
            "R2: 0.4540035015859637\n",
            "\n",
            "LASSO:\n",
            "Mean Absolute Error: 3.8963895005603097\n",
            "Mean Squared Error: 30.008268474326872\n",
            "Root Mean Squared Error: 5.477980328033944\n",
            "R2: -1.6573858113456006\n",
            "\n",
            "LINEAR:\n",
            "Mean Absolute Error: 16.025665254677108\n",
            "Mean Squared Error: 441.9641518010014\n",
            "Root Mean Squared Error: 21.022943461870447\n",
            "R2: -38.13818843377031\n",
            "\n",
            "GBR:\n",
            "Mean Absolute Error: 2.724492043414766\n",
            "Mean Squared Error: 9.754975458737581\n",
            "Root Mean Squared Error: 3.1232956086060093\n",
            "R2: 0.1361469790817289\n",
            "\n",
            "Feature Importance\n",
            "[0.         0.         0.         ... 0.00368871 0.00490282 0.83732711]\n"
          ],
          "name": "stdout"
        }
      ]
    },
    {
      "cell_type": "markdown",
      "metadata": {
        "id": "LMtWnuWg6FJ3",
        "colab_type": "text"
      },
      "source": [
        "Train on Memphis, Test on SA"
      ]
    },
    {
      "cell_type": "code",
      "metadata": {
        "id": "YP_eBlnk5HmZ",
        "colab_type": "code",
        "outputId": "a6ac3b0c-05b5-4f50-a187-6d43a419a0b5",
        "colab": {
          "base_uri": "https://localhost:8080/",
          "height": 459
        }
      },
      "source": [
        "# Load data\n",
        "target_tract_path = \"gdrive/My Drive/Deep Learning for Mental Health/Extracted/san-antonio_tractids_fc7_vggf_z18.txt\"\n",
        "target_features_path = \"gdrive/My Drive/Deep Learning for Mental Health/Extracted/X_san-antonio_fc7_vggf_z18.txt\"\n",
        "target_csv_path = \"gdrive/My Drive/Deep Learning for Mental Health/SA/500_cities_San_Antonio_mental_health.csv\"\n",
        "target_tract_path_s = \"gdrive/My Drive/Deep Learning for Mental Health/SA/extracted_socio_SA_tracts.npy\"\n",
        "target_features_path_s = \"gdrive/My Drive/Deep Learning for Mental Health/SA/extracted_socio_SA_features.npy\"\n",
        "\n",
        "tract_path = \"gdrive/My Drive/Deep Learning for Mental Health/Extracted/memphis_tractids_fc7_vggf_z18.txt\"\n",
        "features_path = \"gdrive/My Drive/Deep Learning for Mental Health/Extracted/X_memphis_fc7_vggf_z18.txt\"\n",
        "csv_path = \"gdrive/My Drive/Deep Learning for Mental Health/Memphis/500_cities_Memphis_mental_health.csv\"\n",
        "tract_path_s = \"gdrive/My Drive/Deep Learning for Mental Health/Memphis/extracted_socio_Memphis_tracts.npy\"\n",
        "features_path_s = \"gdrive/My Drive/Deep Learning for Mental Health/Memphis/extracted_socio_Memphis_features.npy\"\n",
        "\n",
        "multimodal_cc(\"memphis:sa\", tract_path, features_path, tract_path_s, features_path_s, csv_path, target_tract_path, target_features_path,target_tract_path_s, target_features_path_s,target_csv_path )"
      ],
      "execution_count": 0,
      "outputs": [
        {
          "output_type": "stream",
          "text": [
            "SVR:\n",
            "Mean Absolute Error: 2.8922949017598003\n",
            "Mean Squared Error: 9.913382020402592\n",
            "Root Mean Squared Error: 3.1485523690106523\n",
            "R2: -0.4054648676744754\n",
            "\n",
            "LASSO:\n",
            "Mean Absolute Error: 2.222845284816232\n",
            "Mean Squared Error: 6.794748389133037\n",
            "Root Mean Squared Error: 2.606673817172574\n",
            "R2: 0.03667788389875937\n",
            "\n",
            "LINEAR:\n",
            "Mean Absolute Error: 8.109969777193307\n",
            "Mean Squared Error: 85.91504090741013\n",
            "Root Mean Squared Error: 9.269036676343994\n",
            "R2: -11.180562733451133\n",
            "\n",
            "GBR:\n",
            "Mean Absolute Error: 3.245087503775191\n",
            "Mean Squared Error: 12.655006410248879\n",
            "Root Mean Squared Error: 3.557387582236279\n",
            "R2: -0.7941573191867939\n",
            "\n",
            "Feature Importance\n",
            "[0.         0.         0.         ... 0.00282611 0.83868079 0.00503114]\n"
          ],
          "name": "stdout"
        }
      ]
    },
    {
      "cell_type": "markdown",
      "metadata": {
        "id": "0iLNmp7X6adm",
        "colab_type": "text"
      },
      "source": [
        "Train on Memphis, Test on Bellevue"
      ]
    },
    {
      "cell_type": "code",
      "metadata": {
        "id": "-4m7Ph366ZI1",
        "colab_type": "code",
        "outputId": "27412c2e-2525-4c26-a6a4-1257e8ac692a",
        "colab": {
          "base_uri": "https://localhost:8080/",
          "height": 459
        }
      },
      "source": [
        "# Load data\n",
        "bellevue_tract_path = \"gdrive/My Drive/Deep Learning for Mental Health/Bellevue/filenames_fc7_z18_vgg_Bellevue.npy\"\n",
        "bellevue_features_path = \"gdrive/My Drive/Deep Learning for Mental Health/Bellevue/features_tracts_fc7_z18_vgg_Bellevue.npy\"\n",
        "bellevue_csv_path = \"gdrive/My Drive/Deep Learning for Mental Health/Bellevue/500_cities_Bellevue_mental_health.csv\"\n",
        "bellevue_tract_path_s = \"gdrive/My Drive/Deep Learning for Mental Health/Bellevue/extracted_socio_Bellevue_tracts.npy\"\n",
        "bellevue_features_path_s = \"gdrive/My Drive/Deep Learning for Mental Health/Bellevue/extracted_socio_Bellevue_features.npy\"\n",
        "\n",
        "tract_path = \"gdrive/My Drive/Deep Learning for Mental Health/Extracted/memphis_tractids_fc7_vggf_z18.txt\"\n",
        "features_path = \"gdrive/My Drive/Deep Learning for Mental Health/Extracted/X_memphis_fc7_vggf_z18.txt\"\n",
        "csv_path = \"gdrive/My Drive/Deep Learning for Mental Health/Memphis/500_cities_Memphis_mental_health.csv\"\n",
        "tract_path_s = \"gdrive/My Drive/Deep Learning for Mental Health/Memphis/extracted_socio_Memphis_tracts.npy\"\n",
        "features_path_s = \"gdrive/My Drive/Deep Learning for Mental Health/Memphis/extracted_socio_Memphis_features.npy\"\n",
        "\n",
        "multimodal_cc(\"memphis:bellevue\", tract_path, features_path, tract_path_s, features_path_s, csv_path, target_tract_path, target_features_path,target_tract_path_s, target_features_path_s,target_csv_path )"
      ],
      "execution_count": 0,
      "outputs": [
        {
          "output_type": "stream",
          "text": [
            "SVR:\n",
            "Mean Absolute Error: 2.0886306479522836\n",
            "Mean Squared Error: 6.16561187332988\n",
            "Root Mean Squared Error: 2.483065015928878\n",
            "R2: 0.4540035015859637\n",
            "\n",
            "LASSO:\n",
            "Mean Absolute Error: 3.8963895005603097\n",
            "Mean Squared Error: 30.008268474326872\n",
            "Root Mean Squared Error: 5.477980328033944\n",
            "R2: -1.6573858113456006\n",
            "\n",
            "LINEAR:\n",
            "Mean Absolute Error: 16.025665254677108\n",
            "Mean Squared Error: 441.9641518010014\n",
            "Root Mean Squared Error: 21.022943461870447\n",
            "R2: -38.13818843377031\n",
            "\n",
            "GBR:\n",
            "Mean Absolute Error: 2.6175751897921864\n",
            "Mean Squared Error: 9.335261834873503\n",
            "Root Mean Squared Error: 3.0553660721546123\n",
            "R2: 0.1733147693472371\n",
            "\n",
            "Feature Importance\n",
            "[0.         0.         0.         ... 0.00368882 0.00461256 0.83703425]\n"
          ],
          "name": "stdout"
        }
      ]
    },
    {
      "cell_type": "markdown",
      "metadata": {
        "id": "f5NN9Cfb_hke",
        "colab_type": "text"
      },
      "source": [
        "# Multi-modal multi-city cross city "
      ]
    },
    {
      "cell_type": "code",
      "metadata": {
        "id": "tuMORM9PMV7u",
        "colab_type": "code",
        "colab": {}
      },
      "source": [
        "# Print results\n",
        "def printRes(y_test, y_pred):\n",
        "  print('Mean Absolute Error:', metrics.mean_absolute_error(y_test, y_pred))  \n",
        "  print('Mean Squared Error:', metrics.mean_squared_error(y_test, y_pred))  \n",
        "  print('Root Mean Squared Error:', np.sqrt(metrics.mean_squared_error(y_test, y_pred)))\n",
        "  print('R2:', metrics.r2_score(y_test, y_pred))"
      ],
      "execution_count": 0,
      "outputs": []
    },
    {
      "cell_type": "code",
      "metadata": {
        "id": "ExbakrQME1gx",
        "colab_type": "code",
        "colab": {}
      },
      "source": [
        "def extract_city_feature_data(tract_path, tract_path_s, features_path, features_path_s, csv_path, is_Text=True):\n",
        "  if is_Text == True:\n",
        "    t1 = np.loadtxt(features_path)\n",
        "    t2 = np.loadtxt(tract_path)\n",
        "  else :\n",
        "    t1 = np.load(features_path)\n",
        "    t2 = np.load(tract_path)\n",
        "  t3 = np.load(features_path_s)\n",
        "  t4 = np.load(tract_path_s)\n",
        "\n",
        "  csv = pd.read_csv(csv_path)\n",
        "\n",
        "  # Initialize target variables\n",
        "  features = pd.DataFrame(t1)\n",
        "  features['TractFIPS'] = t2\n",
        "  features.TractFIPS = features.TractFIPS.astype('int64')\n",
        "\n",
        "  # Prepare data for models\n",
        "  features_s = pd.DataFrame(t3)\n",
        "  features_s = features_s[features_s.columns[[0, 5, 13, 14, 19, 20, 3, 4, 6, 17, 18]]]\n",
        "  features_s['TractFIPS'] = t4\n",
        "  features_s.TractFIPS = features_s.TractFIPS.astype('int64')\n",
        "\n",
        "  full_features = pd.merge(features, features_s, on=['TractFIPS'])\n",
        "  full_data = pd.merge(full_features, csv, on=['TractFIPS'])\n",
        "  full_data = full_data.drop(columns=['TractFIPS'])\n",
        "  return full_data[full_data.columns[0:4106]], full_data['Data_Value']"
      ],
      "execution_count": 0,
      "outputs": []
    },
    {
      "cell_type": "code",
      "metadata": {
        "id": "mBBHHeiVBIsp",
        "colab_type": "code",
        "colab": {}
      },
      "source": [
        "def multimodal_multicity_cross_city(data, target_city):\n",
        "  X1 = None\n",
        "  y1 = None\n",
        "  for city in data:\n",
        "    if city is target_city:\n",
        "      continue\n",
        "    \n",
        "    f1, dv1 = extract_city_feature_data(\n",
        "        data[city][0][0], data[city][0][1], # tracts\n",
        "        data[city][1][0], data[city][1][1], # features\n",
        "        data[city][2],  # 500 cities csv \n",
        "        data[city][3]   \n",
        "    )\n",
        "\n",
        "    if X1 is None:\n",
        "      X1 = f1\n",
        "    else:\n",
        "      X1 = pd.concat([X1, f1])\n",
        "    \n",
        "    if y1 is None:\n",
        "      y1 = dv1\n",
        "    else:\n",
        "      y1 = pd.concat([y1, dv1])\n",
        "\n",
        "  X_train = X1\n",
        "  y_train = y1\n",
        "\n",
        "  features, data_values = extract_city_feature_data(\n",
        "      data[target_city][0][0], data[target_city][0][1], # tracts\n",
        "      data[target_city][1][0], data[target_city][1][1], # features\n",
        "      data[target_city][2],  # 500 cities csv \n",
        "      data[target_city][3]   \n",
        "  )\n",
        "\n",
        "  X_test = features\n",
        "  y_test = data_values\n",
        "\n",
        "  # Lasso\n",
        "  las_model = Lasso(alpha=0.1)\n",
        "  las_model.fit(X_train, y_train)\n",
        "\n",
        "  # Linear\n",
        "  lr_model = LinearRegression()\n",
        "  lr_model.fit(X_train, y_train)\n",
        "\n",
        "  # SVR\n",
        "  svr_model = SVR(gamma='scale', C=1.0, epsilon=0.2)\n",
        "  svr_model.fit(X_train, y_train)\n",
        "\n",
        "  # GBR\n",
        "  gbr_model = GradientBoostingRegressor()\n",
        "  gbr_model.fit(X_train, y_train)\n",
        "\n",
        "  # Get prediction results\n",
        "  y_pred_lr = lr_model.predict(X_test)\n",
        "  y_pred_las = las_model.predict(X_test)\n",
        "  y_pred_svr = svr_model.predict(X_test)\n",
        "  y_pred_gbr = gbr_model.predict(X_test)\n",
        "\n",
        "  print(\"SVR:\")\n",
        "  printRes(y_test, y_pred_svr)\n",
        "  print(\"\\nLASSO:\")\n",
        "  printRes(y_test, y_pred_las)\n",
        "  print(\"\\nLINEAR:\")\n",
        "  printRes(y_test, y_pred_lr)\n",
        "  print(\"\\nGBR:\")\n",
        "  printRes(y_test, y_pred_gbr)\n",
        "\n",
        "  # Export  \n",
        "  pd.to_pickle(y_pred_gbr, \"gdrive/My Drive/Deep Learning for Mental Health/\" + target_city + \"_pred_gbr.pkl\")\n"
      ],
      "execution_count": 0,
      "outputs": []
    },
    {
      "cell_type": "markdown",
      "metadata": {
        "id": "9ZLldmrOAFqO",
        "colab_type": "text"
      },
      "source": [
        "### Test on San Antonio\n",
        "Train on Los Angeles, Memphis, Bellevue"
      ]
    },
    {
      "cell_type": "code",
      "metadata": {
        "id": "JBqtc5AEBF1q",
        "colab_type": "code",
        "colab": {}
      },
      "source": [
        "# Load data\n",
        "data = {\n",
        "    \"Bellevue\": [\n",
        "      [\"gdrive/My Drive/Deep Learning for Mental Health/Bellevue/filenames_fc7_z18_vgg_Bellevue.npy\", \n",
        "       \"gdrive/My Drive/Deep Learning for Mental Health/Bellevue/extracted_socio_Bellevue_tracts.npy\"],\n",
        "      [\"gdrive/My Drive/Deep Learning for Mental Health/Bellevue/features_tracts_fc7_z18_vgg_Bellevue.npy\", \n",
        "       \"gdrive/My Drive/Deep Learning for Mental Health/Bellevue/extracted_socio_Bellevue_features.npy\"],\n",
        "      \"gdrive/My Drive/Deep Learning for Mental Health/Bellevue/500_cities_Bellevue_mental_health.csv\",\n",
        "      False\n",
        "    ], \n",
        "    \"SA\": [\n",
        "      [\"gdrive/My Drive/Deep Learning for Mental Health/Extracted/san-antonio_tractids_fc7_vggf_z18.txt\", \n",
        "       \"gdrive/My Drive/Deep Learning for Mental Health/SA/extracted_socio_SA_tracts.npy\"],\n",
        "      [\"gdrive/My Drive/Deep Learning for Mental Health/Extracted/X_san-antonio_fc7_vggf_z18.txt\", \n",
        "       \"gdrive/My Drive/Deep Learning for Mental Health/SA/extracted_socio_SA_features.npy\"],\n",
        "      \"gdrive/My Drive/Deep Learning for Mental Health/SA/500_cities_San_Antonio_mental_health.csv\",\n",
        "      True\n",
        "    ], \n",
        "    \"LA\": [\n",
        "      [\"gdrive/My Drive/Deep Learning for Mental Health/Extracted/lacity_tractids_fc7_vggf_z18.txt\", \n",
        "       \"gdrive/My Drive/Deep Learning for Mental Health/LA/extracted_socio_LA_tracts.npy\"],\n",
        "      [\"gdrive/My Drive/Deep Learning for Mental Health/Extracted/X_lacity_fc7_vggf_z18.txt\", \n",
        "       \"gdrive/My Drive/Deep Learning for Mental Health/LA/extracted_socio_LA_features.npy\"],\n",
        "      \"gdrive/My Drive/Deep Learning for Mental Health/LA/500_cities_lacity_mental_health.csv\",\n",
        "      True\n",
        "    ], \n",
        "    \"Memphis\": [\n",
        "      [\"gdrive/My Drive/Deep Learning for Mental Health/Extracted/memphis_tractids_fc7_vggf_z18.txt\", \n",
        "       \"gdrive/My Drive/Deep Learning for Mental Health/Memphis/extracted_socio_Memphis_tracts.npy\"],\n",
        "      [\"gdrive/My Drive/Deep Learning for Mental Health/Extracted/X_memphis_fc7_vggf_z18.txt\", \n",
        "       \"gdrive/My Drive/Deep Learning for Mental Health/Memphis/extracted_socio_Memphis_features.npy\"],\n",
        "      \"gdrive/My Drive/Deep Learning for Mental Health/Memphis/500_cities_Memphis_mental_health.csv\",\n",
        "      True\n",
        "    ], \n",
        "}"
      ],
      "execution_count": 0,
      "outputs": []
    },
    {
      "cell_type": "markdown",
      "metadata": {
        "id": "GZKMAa5KLI5v",
        "colab_type": "text"
      },
      "source": [
        "### Test on San Antonio\n",
        "\n",
        "Train on Los Angeles, Memphis, Bellevue"
      ]
    },
    {
      "cell_type": "code",
      "metadata": {
        "id": "ZD2pq0tUemmx",
        "colab_type": "code",
        "outputId": "9e16b6aa-2853-4ba3-fc08-f05e231722f5",
        "colab": {
          "base_uri": "https://localhost:8080/",
          "height": 408
        }
      },
      "source": [
        "multimodal_multicity_cross_city(data, \"SA\")"
      ],
      "execution_count": 0,
      "outputs": [
        {
          "output_type": "stream",
          "text": [
            "SVR:\n",
            "Mean Absolute Error: 1.7452675042712729\n",
            "Mean Squared Error: 4.084902453370966\n",
            "Root Mean Squared Error: 2.0211141613899413\n",
            "R2: 0.42086496068906576\n",
            "\n",
            "LASSO:\n",
            "Mean Absolute Error: 1.9397696401891262\n",
            "Mean Squared Error: 5.149907546414458\n",
            "Root Mean Squared Error: 2.2693407735319213\n",
            "R2: 0.2698743866260048\n",
            "\n",
            "LINEAR:\n",
            "Mean Absolute Error: 2.21361081892044\n",
            "Mean Squared Error: 7.765054259219339\n",
            "Root Mean Squared Error: 2.786584694427811\n",
            "R2: -0.10088675433448291\n",
            "\n",
            "GBR:\n",
            "Mean Absolute Error: 1.1968230929886041\n",
            "Mean Squared Error: 2.1938695019438397\n",
            "Root Mean Squared Error: 1.481171665251479\n",
            "R2: 0.6889652287283341\n"
          ],
          "name": "stdout"
        }
      ]
    },
    {
      "cell_type": "markdown",
      "metadata": {
        "id": "qq6D7JxYAn8c",
        "colab_type": "text"
      },
      "source": [
        "### Test on Memphis\n",
        "Train on Los Angeles, San Antonio, Bellevue"
      ]
    },
    {
      "cell_type": "code",
      "metadata": {
        "id": "2DjwdugEeISR",
        "colab_type": "code",
        "outputId": "e5a9118d-954b-4a41-cebe-102397e3f697",
        "colab": {
          "base_uri": "https://localhost:8080/",
          "height": 408
        }
      },
      "source": [
        "multimodal_multicity_cross_city(data, \"Memphis\")"
      ],
      "execution_count": 0,
      "outputs": [
        {
          "output_type": "stream",
          "text": [
            "SVR:\n",
            "Mean Absolute Error: 3.218758980293201\n",
            "Mean Squared Error: 13.28241025556028\n",
            "Root Mean Squared Error: 3.6445041165514245\n",
            "R2: 0.0010238617132847239\n",
            "\n",
            "LASSO:\n",
            "Mean Absolute Error: 3.726039290360468\n",
            "Mean Squared Error: 19.761136925788172\n",
            "Root Mean Squared Error: 4.445350034112969\n",
            "R2: -0.4862441284717094\n",
            "\n",
            "LINEAR:\n",
            "Mean Absolute Error: 3.6844107189389486\n",
            "Mean Squared Error: 19.188323653522147\n",
            "Root Mean Squared Error: 4.3804478827537885\n",
            "R2: -0.4431625807949129\n",
            "\n",
            "GBR:\n",
            "Mean Absolute Error: 2.4094373041926\n",
            "Mean Squared Error: 8.620535045087706\n",
            "Root Mean Squared Error: 2.936074768306779\n",
            "R2: 0.3516456242795255\n"
          ],
          "name": "stdout"
        }
      ]
    },
    {
      "cell_type": "markdown",
      "metadata": {
        "id": "c292kBhZAyQo",
        "colab_type": "text"
      },
      "source": [
        "### Test on Los Angeles\n",
        "Train on Memphis, San Antonio, Bellevue"
      ]
    },
    {
      "cell_type": "code",
      "metadata": {
        "id": "CtXCHFfTefoH",
        "colab_type": "code",
        "outputId": "d47a9521-d9ea-49f9-a6a5-bf165aad13de",
        "colab": {
          "base_uri": "https://localhost:8080/",
          "height": 408
        }
      },
      "source": [
        "multimodal_multicity_cross_city(data, \"LA\")"
      ],
      "execution_count": 0,
      "outputs": [
        {
          "output_type": "stream",
          "text": [
            "SVR:\n",
            "Mean Absolute Error: 2.1687844481808773\n",
            "Mean Squared Error: 8.027617733245803\n",
            "Root Mean Squared Error: 2.833305090039864\n",
            "R2: 0.2891133494928436\n",
            "\n",
            "LASSO:\n",
            "Mean Absolute Error: 2.2440157968944603\n",
            "Mean Squared Error: 9.960369086393793\n",
            "Root Mean Squared Error: 3.156005241819759\n",
            "R2: 0.11795832176744969\n",
            "\n",
            "LINEAR:\n",
            "Mean Absolute Error: 4.7702517349551465\n",
            "Mean Squared Error: 53.90165685915789\n",
            "Root Mean Squared Error: 7.3417747758398235\n",
            "R2: -3.7732676834749777\n",
            "\n",
            "GBR:\n",
            "Mean Absolute Error: 1.224400316754422\n",
            "Mean Squared Error: 2.4934193319815092\n",
            "Root Mean Squared Error: 1.5790564689020812\n",
            "R2: 0.77919495221088\n"
          ],
          "name": "stdout"
        }
      ]
    },
    {
      "cell_type": "markdown",
      "metadata": {
        "id": "p4FA4AmOA4IS",
        "colab_type": "text"
      },
      "source": [
        "### Test on Bellevue\n",
        "Train on Los Angeles, San Antonio, Memphis"
      ]
    },
    {
      "cell_type": "code",
      "metadata": {
        "id": "ZmEAEQjgACR2",
        "colab_type": "code",
        "outputId": "6b3c7ec7-f67c-4f7d-a5ab-96d0778f4d39",
        "colab": {
          "base_uri": "https://localhost:8080/",
          "height": 408
        }
      },
      "source": [
        "multimodal_multicity_cross_city(data, \"Bellevue\")"
      ],
      "execution_count": 0,
      "outputs": [
        {
          "output_type": "stream",
          "text": [
            "SVR:\n",
            "Mean Absolute Error: 0.9576040191525702\n",
            "Mean Squared Error: 1.3569703952308316\n",
            "Root Mean Squared Error: 1.1648907224417369\n",
            "R2: -0.6167420784173552\n",
            "\n",
            "LASSO:\n",
            "Mean Absolute Error: 2.5189002659097652\n",
            "Mean Squared Error: 7.344473992358621\n",
            "Root Mean Squared Error: 2.7100690014017395\n",
            "R2: -7.750463671882983\n",
            "\n",
            "LINEAR:\n",
            "Mean Absolute Error: 4.817192420225076\n",
            "Mean Squared Error: 37.384682044525654\n",
            "Root Mean Squared Error: 6.114301435530117\n",
            "R2: -43.54142018283074\n",
            "\n",
            "GBR:\n",
            "Mean Absolute Error: 1.4984342898981287\n",
            "Mean Squared Error: 2.5964936990867558\n",
            "Root Mean Squared Error: 1.611363925091646\n",
            "R2: -2.0935535767123334\n"
          ],
          "name": "stdout"
        }
      ]
    },
    {
      "cell_type": "code",
      "metadata": {
        "id": "ZuhF9yCs9xBF",
        "colab_type": "code",
        "colab": {}
      },
      "source": [
        ""
      ],
      "execution_count": 0,
      "outputs": []
    }
  ]
}