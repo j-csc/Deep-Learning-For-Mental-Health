{
 "cells": [
  {
   "cell_type": "markdown",
   "metadata": {},
   "source": [
    "## Models evaluation"
   ]
  },
  {
   "cell_type": "markdown",
   "metadata": {},
   "source": [
    "This notebook runs different models on image features extracted from satellite images using the CNN. Models regress to predict prevalence of mental health issues within cities."
   ]
  },
  {
   "cell_type": "code",
   "execution_count": 118,
   "metadata": {},
   "outputs": [],
   "source": [
    "import pandas as pd\n",
    "import numpy as np\n",
    "from keras.applications.vgg16 import VGG16, preprocess_input\n",
    "from keras.preprocessing import image\n",
    "from keras.models import Model, Sequential\n",
    "import os, sys\n",
    "import glob\n",
    "import matplotlib.pyplot as plt\n",
    "# from PIL import Image\n",
    "# from PIL import ImageOps\n",
    "import csv"
   ]
  },
  {
   "cell_type": "code",
   "execution_count": 3,
   "metadata": {},
   "outputs": [
    {
     "name": "stdout",
     "output_type": "stream",
     "text": [
      "(993, 4096)\n",
      "(994, 14)\n"
     ]
    },
    {
     "name": "stderr",
     "output_type": "stream",
     "text": [
      "/usr/local/lib/python3.7/site-packages/ipykernel_launcher.py:8: FutureWarning: from_csv is deprecated. Please use read_csv(...) instead. Note that some of the default arguments are different, so please refer to the documentation for from_csv when changing your function calls\n",
      "  \n"
     ]
    }
   ],
   "source": [
    "# Los Angeles\n",
    "\n",
    "# Loading VGG extracted features\n",
    "x_lacity = np.loadtxt('./pretrained_output/X_lacity_fc7_vggf_z18.txt')\n",
    "print(x_lacity.shape)\n",
    "\n",
    "# Loading target variables\n",
    "la_df = pd.DataFrame.from_csv('./data/lacity/500_cities_lacity_mental_health.csv')\n",
    "print(la_df.shape)"
   ]
  },
  {
   "cell_type": "code",
   "execution_count": 3,
   "metadata": {
    "scrolled": true
   },
   "outputs": [
    {
     "name": "stdout",
     "output_type": "stream",
     "text": [
      "WARNING:tensorflow:From /anaconda3/lib/python3.7/site-packages/tensorflow/python/framework/op_def_library.py:263: colocate_with (from tensorflow.python.framework.ops) is deprecated and will be removed in a future version.\n",
      "Instructions for updating:\n",
      "Colocations handled automatically by placer.\n"
     ]
    }
   ],
   "source": [
    "vgg16_model = VGG16(weights='imagenet', include_top=True)\n"
   ]
  },
  {
   "cell_type": "code",
   "execution_count": 4,
   "metadata": {
    "scrolled": true
   },
   "outputs": [
    {
     "name": "stdout",
     "output_type": "stream",
     "text": [
      "_________________________________________________________________\n",
      "Layer (type)                 Output Shape              Param #   \n",
      "=================================================================\n",
      "input_1 (InputLayer)         (None, 224, 224, 3)       0         \n",
      "_________________________________________________________________\n",
      "block1_conv1 (Conv2D)        (None, 224, 224, 64)      1792      \n",
      "_________________________________________________________________\n",
      "block1_conv2 (Conv2D)        (None, 224, 224, 64)      36928     \n",
      "_________________________________________________________________\n",
      "block1_pool (MaxPooling2D)   (None, 112, 112, 64)      0         \n",
      "_________________________________________________________________\n",
      "block2_conv1 (Conv2D)        (None, 112, 112, 128)     73856     \n",
      "_________________________________________________________________\n",
      "block2_conv2 (Conv2D)        (None, 112, 112, 128)     147584    \n",
      "_________________________________________________________________\n",
      "block2_pool (MaxPooling2D)   (None, 56, 56, 128)       0         \n",
      "_________________________________________________________________\n",
      "block3_conv1 (Conv2D)        (None, 56, 56, 256)       295168    \n",
      "_________________________________________________________________\n",
      "block3_conv2 (Conv2D)        (None, 56, 56, 256)       590080    \n",
      "_________________________________________________________________\n",
      "block3_conv3 (Conv2D)        (None, 56, 56, 256)       590080    \n",
      "_________________________________________________________________\n",
      "block3_pool (MaxPooling2D)   (None, 28, 28, 256)       0         \n",
      "_________________________________________________________________\n",
      "block4_conv1 (Conv2D)        (None, 28, 28, 512)       1180160   \n",
      "_________________________________________________________________\n",
      "block4_conv2 (Conv2D)        (None, 28, 28, 512)       2359808   \n",
      "_________________________________________________________________\n",
      "block4_conv3 (Conv2D)        (None, 28, 28, 512)       2359808   \n",
      "_________________________________________________________________\n",
      "block4_pool (MaxPooling2D)   (None, 14, 14, 512)       0         \n",
      "_________________________________________________________________\n",
      "block5_conv1 (Conv2D)        (None, 14, 14, 512)       2359808   \n",
      "_________________________________________________________________\n",
      "block5_conv2 (Conv2D)        (None, 14, 14, 512)       2359808   \n",
      "_________________________________________________________________\n",
      "block5_conv3 (Conv2D)        (None, 14, 14, 512)       2359808   \n",
      "_________________________________________________________________\n",
      "block5_pool (MaxPooling2D)   (None, 7, 7, 512)         0         \n",
      "_________________________________________________________________\n",
      "flatten (Flatten)            (None, 25088)             0         \n",
      "_________________________________________________________________\n",
      "fc1 (Dense)                  (None, 4096)              102764544 \n",
      "_________________________________________________________________\n",
      "fc2 (Dense)                  (None, 4096)              16781312  \n",
      "_________________________________________________________________\n",
      "predictions (Dense)          (None, 1000)              4097000   \n",
      "=================================================================\n",
      "Total params: 138,357,544\n",
      "Trainable params: 138,357,544\n",
      "Non-trainable params: 0\n",
      "_________________________________________________________________\n"
     ]
    }
   ],
   "source": [
    "vgg16_model.summary()"
   ]
  },
  {
   "cell_type": "code",
   "execution_count": 5,
   "metadata": {},
   "outputs": [],
   "source": [
    "'''\n",
    "Image processing helper function\n",
    "'''\n",
    "#Size of images\n",
    "IMAGE_WIDTH = 224\n",
    "IMAGE_HEIGHT = 224\n",
    "imgdir = \"./data/lacity/img/*png\"\n",
    "\n",
    "def transform_img(img, img_width=IMAGE_WIDTH, img_height=IMAGE_HEIGHT):\n",
    "\n",
    "    r,g,b = img.split()\n",
    "    #Histogram Equalization\n",
    "    # img[:, :, 0] = cv2.equalizeHist(img[:, :, 0])\n",
    "    # img[:, :, 1] = cv2.equalizeHist(img[:, :, 1])\n",
    "    # img[:, :, 2] = cv2.equalizeHist(img[:, :, 2])\n",
    "    rnew = ImageOps.equalize(r)\n",
    "    gnew = ImageOps.equalize(g)\n",
    "    bnew = ImageOps.equalize(b)\n",
    "\n",
    "    #Image Resizing\n",
    "    # img = cv2.resize(img, (img_width, img_height), interpolation = cv2.INTER_CUBIC)\n",
    "    img = Image.merge(\"RGB\", (rnew,gnew,bnew))\n",
    "    img = img.resize((img_width, img_height), resample = Image.BICUBIC)\n",
    "    return img\n",
    "\n",
    "def vis_square(data):\n",
    "    data = (data - data.min()) / (data.max() - data.min())\n",
    "    n = int(np.ceil(np.sqrt(data.shape[0])))\n",
    "    padding = (((0, n ** 2 - data.shape[0]),\n",
    "               (0, 1), (0, 1))\n",
    "               + ((0, 0),) * (data.ndim - 3))\n",
    "    data = np.pad(data, padding, mode = 'constant', constant_values = 1)\n",
    "\n",
    "    data = data.reshape((n, n) + data.shape[1:]).transpose((0,2,1,3) + tuple(range(4, data.ndim + 1)))\n",
    "    data = data.reshape((n * data.shape[1], n * data.shape[3]) + data.shape[4:])\n",
    "    return(data)"
   ]
  },
  {
   "cell_type": "markdown",
   "metadata": {},
   "source": [
    "## Process images"
   ]
  },
  {
   "cell_type": "code",
   "execution_count": 6,
   "metadata": {},
   "outputs": [],
   "source": [
    "feature_extract_model = Model(inputs=vgg16_model.input,\n",
    "                              outputs=vgg16_model.get_layer('fc2').output)"
   ]
  },
  {
   "cell_type": "code",
   "execution_count": null,
   "metadata": {},
   "outputs": [],
   "source": [
    "test_img_paths = [img_path for img_path in glob.glob(imgdir)]\n",
    "\n",
    "# Extract features\n",
    "raw_features = []\n",
    "tractFIPS = []\n",
    "finalimgs = []\n",
    "count = 0\n",
    "split = 0\n",
    "outdir = './out'\n",
    "city = 'lacity'"
   ]
  },
  {
   "cell_type": "code",
   "execution_count": null,
   "metadata": {},
   "outputs": [],
   "source": [
    "for img_path in test_img_paths:\n",
    "    img = image.load_img(img_path, target_size=(224,224))\n",
    "    img = transform_img(img, img_width = IMAGE_WIDTH, img_height = IMAGE_HEIGHT)\n",
    "    img_data = image.img_to_array(img)\n",
    "    img_data = np.expand_dims(img_data, axis=0)\n",
    "    img_data = preprocess_input(img_data)\n",
    "    features = feature_extract_model.predict(img_data)\n",
    "    raw_features.append(features)\n",
    "    finalimgs.append(img_path.split()[-1])\n",
    "    tractFIPS.append(img_path.split('_')[1])\n",
    "    count += 1\n",
    "\n",
    "raw_features = np.vstack(raw_features)\n",
    "np.save(os.path.join(outdir, city, 'features_tracts_fc7_z18_vgg_' + str(split) + '.npy'), raw_features)\n",
    "np.save(os.path.join(outdir, city, 'filenames_tracts_fc7_z18_vgg_' + str(split) + '.npy'), finalimgs)"
   ]
  },
  {
   "cell_type": "code",
   "execution_count": null,
   "metadata": {},
   "outputs": [],
   "source": [
    "test_df = pd.DataFrame(raw_features)\n",
    "tractFIPS = [row.lstrip('0') for row in tractFIPS]\n",
    "test_df['TractFIPS'] = tractFIPS"
   ]
  },
  {
   "cell_type": "code",
   "execution_count": null,
   "metadata": {},
   "outputs": [],
   "source": [
    "la_df.TractFIPS = la_df.TractFIPS.astype('O')"
   ]
  },
  {
   "cell_type": "code",
   "execution_count": null,
   "metadata": {},
   "outputs": [],
   "source": [
    "test_df.to_csv('la_vgg.csv')"
   ]
  },
  {
   "cell_type": "markdown",
   "metadata": {},
   "source": [
    "## Training regression model"
   ]
  },
  {
   "cell_type": "code",
   "execution_count": 69,
   "metadata": {
    "scrolled": true
   },
   "outputs": [
    {
     "name": "stderr",
     "output_type": "stream",
     "text": [
      "/usr/local/lib/python3.7/site-packages/ipykernel_launcher.py:6: FutureWarning: from_csv is deprecated. Please use read_csv(...) instead. Note that some of the default arguments are different, so please refer to the documentation for from_csv when changing your function calls\n",
      "  \n"
     ]
    }
   ],
   "source": [
    "from sklearn.model_selection import train_test_split, KFold, cross_val_score, cross_validate, GridSearchCV\n",
    "from sklearn.linear_model import LinearRegression, RidgeCV, LassoCV, Ridge, Lasso, ElasticNet\n",
    "from sklearn import metrics\n",
    "from sklearn.svm import SVR\n",
    "from scipy.stats.stats import pearsonr\n",
    "X = pd.DataFrame.from_csv('la_vgg.csv').sort_values(by=['TractFIPS']).reset_index().drop([\"index\"], axis=1)"
   ]
  },
  {
   "cell_type": "markdown",
   "metadata": {},
   "source": [
    "## Preparing data"
   ]
  },
  {
   "cell_type": "code",
   "execution_count": 70,
   "metadata": {},
   "outputs": [
    {
     "data": {
      "text/html": [
       "<div>\n",
       "<style scoped>\n",
       "    .dataframe tbody tr th:only-of-type {\n",
       "        vertical-align: middle;\n",
       "    }\n",
       "\n",
       "    .dataframe tbody tr th {\n",
       "        vertical-align: top;\n",
       "    }\n",
       "\n",
       "    .dataframe thead th {\n",
       "        text-align: right;\n",
       "    }\n",
       "</style>\n",
       "<table border=\"1\" class=\"dataframe\">\n",
       "  <thead>\n",
       "    <tr style=\"text-align: right;\">\n",
       "      <th></th>\n",
       "      <th>0</th>\n",
       "      <th>1</th>\n",
       "      <th>2</th>\n",
       "      <th>3</th>\n",
       "      <th>4</th>\n",
       "      <th>5</th>\n",
       "      <th>6</th>\n",
       "      <th>7</th>\n",
       "      <th>8</th>\n",
       "      <th>9</th>\n",
       "      <th>...</th>\n",
       "      <th>4087</th>\n",
       "      <th>4088</th>\n",
       "      <th>4089</th>\n",
       "      <th>4090</th>\n",
       "      <th>4091</th>\n",
       "      <th>4092</th>\n",
       "      <th>4093</th>\n",
       "      <th>4094</th>\n",
       "      <th>4095</th>\n",
       "      <th>TractFIPS</th>\n",
       "    </tr>\n",
       "  </thead>\n",
       "  <tbody>\n",
       "    <tr>\n",
       "      <th>0</th>\n",
       "      <td>1.535566</td>\n",
       "      <td>1.229616</td>\n",
       "      <td>0.658255</td>\n",
       "      <td>1.507081</td>\n",
       "      <td>2.624575</td>\n",
       "      <td>1.061752</td>\n",
       "      <td>3.536164</td>\n",
       "      <td>-0.0</td>\n",
       "      <td>1.219561</td>\n",
       "      <td>-0.0</td>\n",
       "      <td>...</td>\n",
       "      <td>-0.0</td>\n",
       "      <td>-0.0</td>\n",
       "      <td>-0.0</td>\n",
       "      <td>-0.0</td>\n",
       "      <td>2.447415</td>\n",
       "      <td>0.510135</td>\n",
       "      <td>-0.000000</td>\n",
       "      <td>-0.000000</td>\n",
       "      <td>-0.000000</td>\n",
       "      <td>6037101110</td>\n",
       "    </tr>\n",
       "    <tr>\n",
       "      <th>1</th>\n",
       "      <td>1.408049</td>\n",
       "      <td>3.885460</td>\n",
       "      <td>0.551711</td>\n",
       "      <td>-0.000000</td>\n",
       "      <td>8.767652</td>\n",
       "      <td>-0.000000</td>\n",
       "      <td>0.880536</td>\n",
       "      <td>-0.0</td>\n",
       "      <td>-0.000000</td>\n",
       "      <td>-0.0</td>\n",
       "      <td>...</td>\n",
       "      <td>-0.0</td>\n",
       "      <td>-0.0</td>\n",
       "      <td>-0.0</td>\n",
       "      <td>-0.0</td>\n",
       "      <td>0.288755</td>\n",
       "      <td>1.299185</td>\n",
       "      <td>2.104688</td>\n",
       "      <td>-0.000000</td>\n",
       "      <td>0.312325</td>\n",
       "      <td>6037101122</td>\n",
       "    </tr>\n",
       "    <tr>\n",
       "      <th>2</th>\n",
       "      <td>1.340590</td>\n",
       "      <td>5.633620</td>\n",
       "      <td>2.135561</td>\n",
       "      <td>1.388060</td>\n",
       "      <td>4.021668</td>\n",
       "      <td>1.746387</td>\n",
       "      <td>0.374989</td>\n",
       "      <td>-0.0</td>\n",
       "      <td>1.078838</td>\n",
       "      <td>-0.0</td>\n",
       "      <td>...</td>\n",
       "      <td>-0.0</td>\n",
       "      <td>-0.0</td>\n",
       "      <td>-0.0</td>\n",
       "      <td>-0.0</td>\n",
       "      <td>1.080878</td>\n",
       "      <td>1.162551</td>\n",
       "      <td>-0.000000</td>\n",
       "      <td>-0.000000</td>\n",
       "      <td>-0.000000</td>\n",
       "      <td>6037101210</td>\n",
       "    </tr>\n",
       "    <tr>\n",
       "      <th>3</th>\n",
       "      <td>4.680807</td>\n",
       "      <td>2.878426</td>\n",
       "      <td>1.926969</td>\n",
       "      <td>-0.000000</td>\n",
       "      <td>3.836767</td>\n",
       "      <td>-0.000000</td>\n",
       "      <td>1.900073</td>\n",
       "      <td>-0.0</td>\n",
       "      <td>-0.000000</td>\n",
       "      <td>-0.0</td>\n",
       "      <td>...</td>\n",
       "      <td>-0.0</td>\n",
       "      <td>-0.0</td>\n",
       "      <td>-0.0</td>\n",
       "      <td>-0.0</td>\n",
       "      <td>3.632332</td>\n",
       "      <td>1.926144</td>\n",
       "      <td>-0.000000</td>\n",
       "      <td>3.650725</td>\n",
       "      <td>-0.000000</td>\n",
       "      <td>6037101220</td>\n",
       "    </tr>\n",
       "    <tr>\n",
       "      <th>4</th>\n",
       "      <td>2.665981</td>\n",
       "      <td>6.372698</td>\n",
       "      <td>1.211612</td>\n",
       "      <td>1.325631</td>\n",
       "      <td>4.293569</td>\n",
       "      <td>-0.000000</td>\n",
       "      <td>2.716865</td>\n",
       "      <td>-0.0</td>\n",
       "      <td>-0.000000</td>\n",
       "      <td>-0.0</td>\n",
       "      <td>...</td>\n",
       "      <td>-0.0</td>\n",
       "      <td>-0.0</td>\n",
       "      <td>-0.0</td>\n",
       "      <td>-0.0</td>\n",
       "      <td>2.999381</td>\n",
       "      <td>-0.000000</td>\n",
       "      <td>-0.000000</td>\n",
       "      <td>-0.000000</td>\n",
       "      <td>-0.000000</td>\n",
       "      <td>6037101300</td>\n",
       "    </tr>\n",
       "  </tbody>\n",
       "</table>\n",
       "<p>5 rows × 4097 columns</p>\n",
       "</div>"
      ],
      "text/plain": [
       "          0         1         2         3         4         5         6    7  \\\n",
       "0  1.535566  1.229616  0.658255  1.507081  2.624575  1.061752  3.536164 -0.0   \n",
       "1  1.408049  3.885460  0.551711 -0.000000  8.767652 -0.000000  0.880536 -0.0   \n",
       "2  1.340590  5.633620  2.135561  1.388060  4.021668  1.746387  0.374989 -0.0   \n",
       "3  4.680807  2.878426  1.926969 -0.000000  3.836767 -0.000000  1.900073 -0.0   \n",
       "4  2.665981  6.372698  1.211612  1.325631  4.293569 -0.000000  2.716865 -0.0   \n",
       "\n",
       "          8    9  ...  4087  4088  4089  4090      4091      4092      4093  \\\n",
       "0  1.219561 -0.0  ...  -0.0  -0.0  -0.0  -0.0  2.447415  0.510135 -0.000000   \n",
       "1 -0.000000 -0.0  ...  -0.0  -0.0  -0.0  -0.0  0.288755  1.299185  2.104688   \n",
       "2  1.078838 -0.0  ...  -0.0  -0.0  -0.0  -0.0  1.080878  1.162551 -0.000000   \n",
       "3 -0.000000 -0.0  ...  -0.0  -0.0  -0.0  -0.0  3.632332  1.926144 -0.000000   \n",
       "4 -0.000000 -0.0  ...  -0.0  -0.0  -0.0  -0.0  2.999381 -0.000000 -0.000000   \n",
       "\n",
       "       4094      4095   TractFIPS  \n",
       "0 -0.000000 -0.000000  6037101110  \n",
       "1 -0.000000  0.312325  6037101122  \n",
       "2 -0.000000 -0.000000  6037101210  \n",
       "3  3.650725 -0.000000  6037101220  \n",
       "4 -0.000000 -0.000000  6037101300  \n",
       "\n",
       "[5 rows x 4097 columns]"
      ]
     },
     "execution_count": 70,
     "metadata": {},
     "output_type": "execute_result"
    }
   ],
   "source": [
    "X.head()"
   ]
  },
  {
   "cell_type": "code",
   "execution_count": 71,
   "metadata": {
    "scrolled": true
   },
   "outputs": [
    {
     "data": {
      "text/html": [
       "<div>\n",
       "<style scoped>\n",
       "    .dataframe tbody tr th:only-of-type {\n",
       "        vertical-align: middle;\n",
       "    }\n",
       "\n",
       "    .dataframe tbody tr th {\n",
       "        vertical-align: top;\n",
       "    }\n",
       "\n",
       "    .dataframe thead th {\n",
       "        text-align: right;\n",
       "    }\n",
       "</style>\n",
       "<table border=\"1\" class=\"dataframe\">\n",
       "  <thead>\n",
       "    <tr style=\"text-align: right;\">\n",
       "      <th></th>\n",
       "      <th>Year</th>\n",
       "      <th>StateAbbr</th>\n",
       "      <th>StateDesc</th>\n",
       "      <th>CityName</th>\n",
       "      <th>GeographicLevel</th>\n",
       "      <th>UniqueID</th>\n",
       "      <th>DataValueTypeID</th>\n",
       "      <th>Data_Value</th>\n",
       "      <th>Low_Confidence_Limit</th>\n",
       "      <th>High_Confidence_Limit</th>\n",
       "      <th>PopulationCount</th>\n",
       "      <th>GeoLocation</th>\n",
       "      <th>CityFIPS</th>\n",
       "      <th>TractFIPS</th>\n",
       "    </tr>\n",
       "  </thead>\n",
       "  <tbody>\n",
       "    <tr>\n",
       "      <th>0</th>\n",
       "      <td>2016</td>\n",
       "      <td>CA</td>\n",
       "      <td>California</td>\n",
       "      <td>Los Angeles</td>\n",
       "      <td>Census Tract</td>\n",
       "      <td>0644000-06037101110</td>\n",
       "      <td>CrdPrv</td>\n",
       "      <td>13.8</td>\n",
       "      <td>12.6</td>\n",
       "      <td>15.1</td>\n",
       "      <td>4,731</td>\n",
       "      <td>(34.2594736124, -118.292986888)</td>\n",
       "      <td>644000.0</td>\n",
       "      <td>6037101110</td>\n",
       "    </tr>\n",
       "    <tr>\n",
       "      <th>1</th>\n",
       "      <td>2016</td>\n",
       "      <td>CA</td>\n",
       "      <td>California</td>\n",
       "      <td>Los Angeles</td>\n",
       "      <td>Census Tract</td>\n",
       "      <td>0644000-06037101122</td>\n",
       "      <td>CrdPrv</td>\n",
       "      <td>10.7</td>\n",
       "      <td>9.7</td>\n",
       "      <td>11.7</td>\n",
       "      <td>3,664</td>\n",
       "      <td>(34.2677215381, -118.290147139)</td>\n",
       "      <td>644000.0</td>\n",
       "      <td>6037101122</td>\n",
       "    </tr>\n",
       "    <tr>\n",
       "      <th>2</th>\n",
       "      <td>2016</td>\n",
       "      <td>CA</td>\n",
       "      <td>California</td>\n",
       "      <td>Los Angeles</td>\n",
       "      <td>Census Tract</td>\n",
       "      <td>0644000-06037101210</td>\n",
       "      <td>CrdPrv</td>\n",
       "      <td>15.7</td>\n",
       "      <td>14.3</td>\n",
       "      <td>16.9</td>\n",
       "      <td>5,990</td>\n",
       "      <td>(34.2529723884, -118.29073093)</td>\n",
       "      <td>644000.0</td>\n",
       "      <td>6037101210</td>\n",
       "    </tr>\n",
       "    <tr>\n",
       "      <th>3</th>\n",
       "      <td>2016</td>\n",
       "      <td>CA</td>\n",
       "      <td>California</td>\n",
       "      <td>Los Angeles</td>\n",
       "      <td>Census Tract</td>\n",
       "      <td>0644000-06037101220</td>\n",
       "      <td>CrdPrv</td>\n",
       "      <td>14.1</td>\n",
       "      <td>12.9</td>\n",
       "      <td>15.3</td>\n",
       "      <td>3,363</td>\n",
       "      <td>(34.251608492, -118.281632269)</td>\n",
       "      <td>644000.0</td>\n",
       "      <td>6037101220</td>\n",
       "    </tr>\n",
       "    <tr>\n",
       "      <th>4</th>\n",
       "      <td>2016</td>\n",
       "      <td>CA</td>\n",
       "      <td>California</td>\n",
       "      <td>Los Angeles</td>\n",
       "      <td>Census Tract</td>\n",
       "      <td>0644000-06037101300</td>\n",
       "      <td>CrdPrv</td>\n",
       "      <td>11.0</td>\n",
       "      <td>9.8</td>\n",
       "      <td>12.3</td>\n",
       "      <td>4,199</td>\n",
       "      <td>(34.2487781261, -118.270998916)</td>\n",
       "      <td>644000.0</td>\n",
       "      <td>6037101300</td>\n",
       "    </tr>\n",
       "  </tbody>\n",
       "</table>\n",
       "</div>"
      ],
      "text/plain": [
       "   Year StateAbbr   StateDesc     CityName GeographicLevel  \\\n",
       "0  2016        CA  California  Los Angeles    Census Tract   \n",
       "1  2016        CA  California  Los Angeles    Census Tract   \n",
       "2  2016        CA  California  Los Angeles    Census Tract   \n",
       "3  2016        CA  California  Los Angeles    Census Tract   \n",
       "4  2016        CA  California  Los Angeles    Census Tract   \n",
       "\n",
       "              UniqueID DataValueTypeID  Data_Value  Low_Confidence_Limit  \\\n",
       "0  0644000-06037101110          CrdPrv        13.8                  12.6   \n",
       "1  0644000-06037101122          CrdPrv        10.7                   9.7   \n",
       "2  0644000-06037101210          CrdPrv        15.7                  14.3   \n",
       "3  0644000-06037101220          CrdPrv        14.1                  12.9   \n",
       "4  0644000-06037101300          CrdPrv        11.0                   9.8   \n",
       "\n",
       "   High_Confidence_Limit PopulationCount                      GeoLocation  \\\n",
       "0                   15.1           4,731  (34.2594736124, -118.292986888)   \n",
       "1                   11.7           3,664  (34.2677215381, -118.290147139)   \n",
       "2                   16.9           5,990   (34.2529723884, -118.29073093)   \n",
       "3                   15.3           3,363   (34.251608492, -118.281632269)   \n",
       "4                   12.3           4,199  (34.2487781261, -118.270998916)   \n",
       "\n",
       "   CityFIPS   TractFIPS  \n",
       "0  644000.0  6037101110  \n",
       "1  644000.0  6037101122  \n",
       "2  644000.0  6037101210  \n",
       "3  644000.0  6037101220  \n",
       "4  644000.0  6037101300  "
      ]
     },
     "execution_count": 71,
     "metadata": {},
     "output_type": "execute_result"
    }
   ],
   "source": [
    "target = la_df.sort_values(by=\"TractFIPS\").reset_index().drop([\"index\"], axis=1)\n",
    "target.head()"
   ]
  },
  {
   "cell_type": "code",
   "execution_count": 72,
   "metadata": {},
   "outputs": [
    {
     "data": {
      "text/plain": [
       "{6037930401}"
      ]
     },
     "execution_count": 72,
     "metadata": {},
     "output_type": "execute_result"
    }
   ],
   "source": [
    "# Check outstanding rows\n",
    "s = set(target['TractFIPS']).symmetric_difference(set(X['TractFIPS']))\n",
    "s"
   ]
  },
  {
   "cell_type": "code",
   "execution_count": 73,
   "metadata": {},
   "outputs": [],
   "source": [
    "target = target[target.TractFIPS != 6037930401]"
   ]
  },
  {
   "cell_type": "code",
   "execution_count": 74,
   "metadata": {},
   "outputs": [
    {
     "name": "stdout",
     "output_type": "stream",
     "text": [
      "(993, 14) (993, 4097)\n"
     ]
    }
   ],
   "source": [
    "print(target.shape, X.shape)"
   ]
  },
  {
   "cell_type": "markdown",
   "metadata": {},
   "source": [
    "## Train on LA and test on LA"
   ]
  },
  {
   "cell_type": "code",
   "execution_count": 75,
   "metadata": {},
   "outputs": [],
   "source": [
    "y = target.Data_Value\n",
    "X = X.drop(['TractFIPS'], axis=1)"
   ]
  },
  {
   "cell_type": "code",
   "execution_count": 76,
   "metadata": {},
   "outputs": [],
   "source": [
    "X_train, X_test, y_train, y_test = train_test_split(X, y, test_size=0.2)"
   ]
  },
  {
   "cell_type": "code",
   "execution_count": 77,
   "metadata": {},
   "outputs": [
    {
     "name": "stderr",
     "output_type": "stream",
     "text": [
      "/usr/local/lib/python3.7/site-packages/sklearn/linear_model/coordinate_descent.py:475: ConvergenceWarning: Objective did not converge. You might want to increase the number of iterations. Duality gap: 100.72611474808346, tolerance: 0.7361209763779529\n",
      "  positive)\n",
      "/usr/local/lib/python3.7/site-packages/sklearn/linear_model/coordinate_descent.py:475: ConvergenceWarning: Objective did not converge. You might want to increase the number of iterations. Duality gap: 109.6783211482473, tolerance: 0.7213264629921261\n",
      "  positive)\n",
      "/usr/local/lib/python3.7/site-packages/sklearn/linear_model/coordinate_descent.py:475: ConvergenceWarning: Objective did not converge. You might want to increase the number of iterations. Duality gap: 109.67232414187939, tolerance: 0.7571831023622049\n",
      "  positive)\n",
      "/usr/local/lib/python3.7/site-packages/sklearn/linear_model/coordinate_descent.py:475: ConvergenceWarning: Objective did not converge. You might want to increase the number of iterations. Duality gap: 129.30096480177144, tolerance: 0.7141387181102365\n",
      "  positive)\n",
      "/usr/local/lib/python3.7/site-packages/sklearn/linear_model/coordinate_descent.py:475: ConvergenceWarning: Objective did not converge. You might want to increase the number of iterations. Duality gap: 82.56007859502206, tolerance: 0.7367325597484278\n",
      "  positive)\n",
      "/usr/local/lib/python3.7/site-packages/sklearn/linear_model/coordinate_descent.py:475: ConvergenceWarning: Objective did not converge. You might want to increase the number of iterations. Duality gap: 1.2207875399071781, tolerance: 0.7361209763779529\n",
      "  positive)\n",
      "/usr/local/lib/python3.7/site-packages/sklearn/linear_model/coordinate_descent.py:475: ConvergenceWarning: Objective did not converge. You might want to increase the number of iterations. Duality gap: 3.0864268772925243, tolerance: 0.7141387181102365\n",
      "  positive)\n",
      "/usr/local/lib/python3.7/site-packages/sklearn/model_selection/_search.py:813: DeprecationWarning: The default of the `iid` parameter will change from True to False in version 0.22 and will be removed in 0.24. This will change numeric results when test-set sizes are unequal.\n",
      "  DeprecationWarning)\n",
      "/usr/local/lib/python3.7/site-packages/sklearn/linear_model/coordinate_descent.py:475: ConvergenceWarning: Objective did not converge. You might want to increase the number of iterations. Duality gap: 1.5038836770368107, tolerance: 0.9166011901763225\n",
      "  positive)\n"
     ]
    },
    {
     "data": {
      "text/plain": [
       "GridSearchCV(cv=5, error_score='raise-deprecating',\n",
       "             estimator=Lasso(alpha=1.0, copy_X=True, fit_intercept=True,\n",
       "                             max_iter=1000, normalize=False, positive=False,\n",
       "                             precompute=False, random_state=None,\n",
       "                             selection='cyclic', tol=0.0001, warm_start=False),\n",
       "             iid='warn', n_jobs=None, param_grid={'alpha': [0.01, 0.1, 1, 1.5]},\n",
       "             pre_dispatch='2*n_jobs', refit=True, return_train_score=False,\n",
       "             scoring=None, verbose=0)"
      ]
     },
     "execution_count": 77,
     "metadata": {},
     "output_type": "execute_result"
    }
   ],
   "source": [
    "lasso_model = Lasso()\n",
    "parameter = {\"alpha\": [0.01, 0.1, 1, 1.5]}\n",
    "las_clf = GridSearchCV(lasso_model, parameter, cv=5)\n",
    "las_clf.fit(X_train, y_train)"
   ]
  },
  {
   "cell_type": "code",
   "execution_count": 79,
   "metadata": {},
   "outputs": [
    {
     "data": {
      "text/plain": [
       "{'mean_fit_time': array([1.47346101, 1.58521228, 0.07564797, 0.07578039]),\n",
       " 'std_fit_time': array([0.04365597, 0.20771234, 0.00927709, 0.01428849]),\n",
       " 'mean_score_time': array([0.00255971, 0.00280042, 0.00242314, 0.0025249 ]),\n",
       " 'std_score_time': array([0.00021778, 0.00027529, 0.00027935, 0.00023059]),\n",
       " 'param_alpha': masked_array(data=[0.01, 0.1, 1, 1.5],\n",
       "              mask=[False, False, False, False],\n",
       "        fill_value='?',\n",
       "             dtype=object),\n",
       " 'params': [{'alpha': 0.01}, {'alpha': 0.1}, {'alpha': 1}, {'alpha': 1.5}],\n",
       " 'split0_test_score': array([0.00150102, 0.28180221, 0.19852277, 0.12879174]),\n",
       " 'split1_test_score': array([-0.13833558,  0.36611455,  0.18818118,  0.11512749]),\n",
       " 'split2_test_score': array([0.05660908, 0.25272031, 0.18677861, 0.13247776]),\n",
       " 'split3_test_score': array([0.06067536, 0.39296619, 0.23938489, 0.16477676]),\n",
       " 'split4_test_score': array([-0.16085679,  0.26723918,  0.13211947,  0.07090756]),\n",
       " 'mean_test_score': array([-0.03592423,  0.31222507,  0.18906902,  0.12248114]),\n",
       " 'std_test_score': array([0.09523618, 0.05642801, 0.03422664, 0.03043578]),\n",
       " 'rank_test_score': array([4, 1, 2, 3], dtype=int32)}"
      ]
     },
     "execution_count": 79,
     "metadata": {},
     "output_type": "execute_result"
    }
   ],
   "source": [
    "las_clf.cv_results_"
   ]
  },
  {
   "cell_type": "code",
   "execution_count": 107,
   "metadata": {},
   "outputs": [
    {
     "name": "stderr",
     "output_type": "stream",
     "text": [
      "/usr/local/lib/python3.7/site-packages/sklearn/linear_model/coordinate_descent.py:475: ConvergenceWarning: Objective did not converge. You might want to increase the number of iterations. Duality gap: 1.5038836770368107, tolerance: 0.9166011901763225\n",
      "  positive)\n"
     ]
    },
    {
     "name": "stdout",
     "output_type": "stream",
     "text": [
      "12.536065855676192 [ 0.02912207 -0.03362535  0.05403682 ... -0.03642579  0.03171541\n",
      "  0.10398077]\n"
     ]
    }
   ],
   "source": [
    "# Lasso\n",
    "las_model = Lasso(alpha=0.1)\n",
    "las_model.fit(X_train, y_train)\n",
    "\n",
    "# Linear\n",
    "lr_model = LinearRegression()\n",
    "lr_model.fit(X_train, y_train)\n",
    "\n",
    "# SVR\n",
    "svr_model = SVR(gamma='scale', C=1.0, epsilon=0.2)\n",
    "svr_model.fit(X_train, y_train)\n",
    "\n",
    "print(lr_model.intercept_, lr_model.coef_)"
   ]
  },
  {
   "cell_type": "code",
   "execution_count": 108,
   "metadata": {},
   "outputs": [],
   "source": [
    "y_pred_lr = lr_model.predict(X_test)\n",
    "y_pred_svr = svr_model.predict(X_test)"
   ]
  },
  {
   "cell_type": "code",
   "execution_count": 109,
   "metadata": {},
   "outputs": [
    {
     "data": {
      "text/html": [
       "<div>\n",
       "<style scoped>\n",
       "    .dataframe tbody tr th:only-of-type {\n",
       "        vertical-align: middle;\n",
       "    }\n",
       "\n",
       "    .dataframe tbody tr th {\n",
       "        vertical-align: top;\n",
       "    }\n",
       "\n",
       "    .dataframe thead th {\n",
       "        text-align: right;\n",
       "    }\n",
       "</style>\n",
       "<table border=\"1\" class=\"dataframe\">\n",
       "  <thead>\n",
       "    <tr style=\"text-align: right;\">\n",
       "      <th></th>\n",
       "      <th>Actual</th>\n",
       "      <th>Predicted</th>\n",
       "    </tr>\n",
       "  </thead>\n",
       "  <tbody>\n",
       "    <tr>\n",
       "      <th>433</th>\n",
       "      <td>14.8</td>\n",
       "      <td>18.172863</td>\n",
       "    </tr>\n",
       "    <tr>\n",
       "      <th>58</th>\n",
       "      <td>14.0</td>\n",
       "      <td>17.001035</td>\n",
       "    </tr>\n",
       "    <tr>\n",
       "      <th>684</th>\n",
       "      <td>15.4</td>\n",
       "      <td>13.117144</td>\n",
       "    </tr>\n",
       "    <tr>\n",
       "      <th>614</th>\n",
       "      <td>13.9</td>\n",
       "      <td>14.987080</td>\n",
       "    </tr>\n",
       "    <tr>\n",
       "      <th>281</th>\n",
       "      <td>9.4</td>\n",
       "      <td>11.956714</td>\n",
       "    </tr>\n",
       "  </tbody>\n",
       "</table>\n",
       "</div>"
      ],
      "text/plain": [
       "     Actual  Predicted\n",
       "433    14.8  18.172863\n",
       "58     14.0  17.001035\n",
       "684    15.4  13.117144\n",
       "614    13.9  14.987080\n",
       "281     9.4  11.956714"
      ]
     },
     "execution_count": 109,
     "metadata": {},
     "output_type": "execute_result"
    }
   ],
   "source": [
    "true_pred_df = pd.DataFrame({'Actual': y_test, 'Predicted': y_pred_lr})\n",
    "true_pred_df.head()"
   ]
  },
  {
   "cell_type": "code",
   "execution_count": 83,
   "metadata": {},
   "outputs": [
    {
     "data": {
      "text/plain": [
       "<matplotlib.axes._subplots.AxesSubplot at 0x1409e6090>"
      ]
     },
     "execution_count": 83,
     "metadata": {},
     "output_type": "execute_result"
    },
    {
     "data": {
      "image/png": "[encoded data removed]",
      "text/plain": [
       "<Figure size 432x288 with 1 Axes>"
      ]
     },
     "metadata": {
      "needs_background": "light"
     },
     "output_type": "display_data"
    }
   ],
   "source": [
    "true_pred_df.plot(x='Actual', y='Predicted', kind=\"scatter\")"
   ]
  },
  {
   "cell_type": "code",
   "execution_count": 110,
   "metadata": {},
   "outputs": [
    {
     "name": "stdout",
     "output_type": "stream",
     "text": [
      "Mean Absolute Error: 2.811833567184968\n",
      "Mean Squared Error: 11.545948537425295\n",
      "Root Mean Squared Error: 3.3979329801256077\n",
      "R2: -0.13246655842401478\n"
     ]
    }
   ],
   "source": [
    "print('Mean Absolute Error:', metrics.mean_absolute_error(y_test, y_pred_lr))  \n",
    "print('Mean Squared Error:', metrics.mean_squared_error(y_test, y_pred_lr))  \n",
    "print('Root Mean Squared Error:', np.sqrt(metrics.mean_squared_error(y_test, y_pred_lr)))\n",
    "print('R2:', metrics.r2_score(y_test, y_pred_lr))"
   ]
  },
  {
   "cell_type": "code",
   "execution_count": 85,
   "metadata": {},
   "outputs": [
    {
     "name": "stdout",
     "output_type": "stream",
     "text": [
      "Mean Absolute Error: 2.4936142830336308\n",
      "Mean Squared Error: 8.918910735052762\n",
      "Root Mean Squared Error: 2.9864545426061255\n",
      "R2: 0.22740498271995102\n"
     ]
    }
   ],
   "source": [
    "y_pred_lr = lr_model.predict(X_train)\n",
    "print('Mean Absolute Error:', metrics.mean_absolute_error(y_train, y_pred_lr))  \n",
    "print('Mean Squared Error:', metrics.mean_squared_error(y_train, y_pred_lr))  \n",
    "print('Root Mean Squared Error:', np.sqrt(metrics.mean_squared_error(y_train, y_pred_lr)))\n",
    "print('R2:', metrics.r2_score(y_train, y_pred_lr))"
   ]
  },
  {
   "cell_type": "code",
   "execution_count": 26,
   "metadata": {},
   "outputs": [
    {
     "data": {
      "text/html": [
       "<div>\n",
       "<style scoped>\n",
       "    .dataframe tbody tr th:only-of-type {\n",
       "        vertical-align: middle;\n",
       "    }\n",
       "\n",
       "    .dataframe tbody tr th {\n",
       "        vertical-align: top;\n",
       "    }\n",
       "\n",
       "    .dataframe thead th {\n",
       "        text-align: right;\n",
       "    }\n",
       "</style>\n",
       "<table border=\"1\" class=\"dataframe\">\n",
       "  <thead>\n",
       "    <tr style=\"text-align: right;\">\n",
       "      <th></th>\n",
       "      <th>Actual</th>\n",
       "      <th>Predicted</th>\n",
       "    </tr>\n",
       "  </thead>\n",
       "  <tbody>\n",
       "    <tr>\n",
       "      <th>128</th>\n",
       "      <td>12.8</td>\n",
       "      <td>10.813125</td>\n",
       "    </tr>\n",
       "    <tr>\n",
       "      <th>753</th>\n",
       "      <td>15.9</td>\n",
       "      <td>15.266446</td>\n",
       "    </tr>\n",
       "    <tr>\n",
       "      <th>175</th>\n",
       "      <td>16.6</td>\n",
       "      <td>15.006275</td>\n",
       "    </tr>\n",
       "    <tr>\n",
       "      <th>970</th>\n",
       "      <td>10.8</td>\n",
       "      <td>15.190196</td>\n",
       "    </tr>\n",
       "    <tr>\n",
       "      <th>340</th>\n",
       "      <td>10.3</td>\n",
       "      <td>15.648595</td>\n",
       "    </tr>\n",
       "  </tbody>\n",
       "</table>\n",
       "</div>"
      ],
      "text/plain": [
       "     Actual  Predicted\n",
       "128    12.8  10.813125\n",
       "753    15.9  15.266446\n",
       "175    16.6  15.006275\n",
       "970    10.8  15.190196\n",
       "340    10.3  15.648595"
      ]
     },
     "execution_count": 26,
     "metadata": {},
     "output_type": "execute_result"
    }
   ],
   "source": [
    "true_pred_df_svr = pd.DataFrame({'Actual': y_test, 'Predicted': y_pred_svr})\n",
    "true_pred_df_svr.head()"
   ]
  },
  {
   "cell_type": "code",
   "execution_count": 47,
   "metadata": {},
   "outputs": [
    {
     "name": "stdout",
     "output_type": "stream",
     "text": [
      "Mean Absolute Error: 2.2539133756627465\n",
      "Mean Squared Error: 7.872453838928432\n",
      "Root Mean Squared Error: 2.8057893432915506\n",
      "R2: 0.24055537892323176\n"
     ]
    }
   ],
   "source": [
    "print('Mean Absolute Error:', metrics.mean_absolute_error(y_test, y_pred_svr))  \n",
    "print('Mean Squared Error:', metrics.mean_squared_error(y_test, y_pred_svr))  \n",
    "print('Root Mean Squared Error:', np.sqrt(metrics.mean_squared_error(y_test, y_pred_svr)))\n",
    "print('R2:', metrics.r2_score(y_test, y_pred_svr))"
   ]
  },
  {
   "cell_type": "markdown",
   "metadata": {},
   "source": [
    "## Gradient Boosting Trees"
   ]
  },
  {
   "cell_type": "code",
   "execution_count": 104,
   "metadata": {},
   "outputs": [
    {
     "name": "stdout",
     "output_type": "stream",
     "text": [
      "Mean Absolute Error: 2.213712187600308\n",
      "Mean Squared Error: 7.257479537738195\n",
      "Root Mean Squared Error: 2.693970960819399\n",
      "R2: 0.2881613105848939\n"
     ]
    }
   ],
   "source": [
    "from sklearn.ensemble import GradientBoostingRegressor\n",
    "\n",
    "gbr = GradientBoostingRegressor()\n",
    "gbr.fit(X_train, y_train)\n",
    "y_pred_gbr = gbr.predict(X_test)\n",
    "print('Mean Absolute Error:', metrics.mean_absolute_error(y_test, y_pred_gbr))  \n",
    "print('Mean Squared Error:', metrics.mean_squared_error(y_test, y_pred_gbr))  \n",
    "print('Root Mean Squared Error:', np.sqrt(metrics.mean_squared_error(y_test, y_pred_gbr)))\n",
    "print('R2:', metrics.r2_score(y_test, y_pred_gbr))"
   ]
  },
  {
   "cell_type": "code",
   "execution_count": 105,
   "metadata": {},
   "outputs": [
    {
     "name": "stdout",
     "output_type": "stream",
     "text": [
      "Mean Absolute Error: 1.0478737348591654\n",
      "Mean Squared Error: 1.5921207260628478\n",
      "Root Mean Squared Error: 1.2617926636586725\n",
      "R2: 0.8620835462530085\n"
     ]
    }
   ],
   "source": [
    "y_pred_gbr_train = gbr.predict(X_train)\n",
    "print('Mean Absolute Error:', metrics.mean_absolute_error(y_train, y_pred_gbr_train))  \n",
    "print('Mean Squared Error:', metrics.mean_squared_error(y_train, y_pred_gbr_train))  \n",
    "print('Root Mean Squared Error:', np.sqrt(metrics.mean_squared_error(y_train, y_pred_gbr_train)))\n",
    "print('R2:', metrics.r2_score(y_train, y_pred_gbr_train))"
   ]
  },
  {
   "cell_type": "markdown",
   "metadata": {},
   "source": [
    "### K-fold"
   ]
  },
  {
   "cell_type": "code",
   "execution_count": 150,
   "metadata": {},
   "outputs": [],
   "source": [
    "scoring = ['explained_variance', 'r2', 'neg_mean_squared_error']"
   ]
  },
  {
   "cell_type": "code",
   "execution_count": 151,
   "metadata": {},
   "outputs": [],
   "source": [
    "kfold = KFold(n_splits=5, random_state=42)\n",
    "results = cross_validate(lr_model, X, y, cv=kfold, scoring=scoring)"
   ]
  },
  {
   "cell_type": "code",
   "execution_count": 154,
   "metadata": {},
   "outputs": [
    {
     "name": "stderr",
     "output_type": "stream",
     "text": [
      "/anaconda3/lib/python3.7/site-packages/sklearn/utils/deprecation.py:125: FutureWarning: You are accessing a training score ('train_explained_variance'), which will not be available by default any more in 0.21. If you need training scores, please set return_train_score=True\n",
      "  warnings.warn(*warn_args, **warn_kwargs)\n",
      "/anaconda3/lib/python3.7/site-packages/sklearn/utils/deprecation.py:125: FutureWarning: You are accessing a training score ('train_r2'), which will not be available by default any more in 0.21. If you need training scores, please set return_train_score=True\n",
      "  warnings.warn(*warn_args, **warn_kwargs)\n",
      "/anaconda3/lib/python3.7/site-packages/sklearn/utils/deprecation.py:125: FutureWarning: You are accessing a training score ('train_neg_mean_squared_error'), which will not be available by default any more in 0.21. If you need training scores, please set return_train_score=True\n",
      "  warnings.warn(*warn_args, **warn_kwargs)\n"
     ]
    },
    {
     "data": {
      "text/plain": [
       "{'fit_time': array([0.15501094, 0.11206985, 0.13935685, 0.13656688, 0.12068105]),\n",
       " 'score_time': array([0.00471187, 0.00417519, 0.00409698, 0.00497007, 0.00557494]),\n",
       " 'test_explained_variance': array([ 0.09476348,  0.11429798, -0.07783324,  0.18347151,  0.15243254]),\n",
       " 'train_explained_variance': array([0.34635403, 0.33319477, 0.38323875, 0.25718806, 0.31201466]),\n",
       " 'test_r2': array([ 0.0844247 , -0.10987472, -0.08122855, -0.20920419, -0.01293109]),\n",
       " 'train_r2': array([0.34635403, 0.33319477, 0.38323875, 0.25718806, 0.31201466]),\n",
       " 'test_neg_mean_squared_error': array([ -6.72324047,  -6.82868438, -10.14418232, -13.5870567 ,\n",
       "        -14.37673135]),\n",
       " 'train_neg_mean_squared_error': array([-8.02478725, -8.00202879, -7.23926017, -7.22994163, -7.0218529 ])}"
      ]
     },
     "execution_count": 154,
     "metadata": {},
     "output_type": "execute_result"
    }
   ],
   "source": [
    "results"
   ]
  },
  {
   "cell_type": "code",
   "execution_count": 155,
   "metadata": {},
   "outputs": [
    {
     "name": "stderr",
     "output_type": "stream",
     "text": [
      "/anaconda3/lib/python3.7/site-packages/sklearn/utils/deprecation.py:125: FutureWarning: You are accessing a training score ('train_explained_variance'), which will not be available by default any more in 0.21. If you need training scores, please set return_train_score=True\n",
      "  warnings.warn(*warn_args, **warn_kwargs)\n",
      "/anaconda3/lib/python3.7/site-packages/sklearn/utils/deprecation.py:125: FutureWarning: You are accessing a training score ('train_r2'), which will not be available by default any more in 0.21. If you need training scores, please set return_train_score=True\n",
      "  warnings.warn(*warn_args, **warn_kwargs)\n",
      "/anaconda3/lib/python3.7/site-packages/sklearn/utils/deprecation.py:125: FutureWarning: You are accessing a training score ('train_neg_mean_squared_error'), which will not be available by default any more in 0.21. If you need training scores, please set return_train_score=True\n",
      "  warnings.warn(*warn_args, **warn_kwargs)\n"
     ]
    },
    {
     "data": {
      "text/plain": [
       "{'fit_time': array([3.22312713, 3.51311612, 3.13985586, 3.20719218, 3.01713586]),\n",
       " 'score_time': array([2.34534597, 2.67100596, 2.12981033, 2.99375796, 2.25244808]),\n",
       " 'test_explained_variance': array([ 0.03523648,  0.09235473, -0.1873359 ,  0.30288832,  0.16293978]),\n",
       " 'train_explained_variance': array([0.53912274, 0.52400165, 0.55159811, 0.47280413, 0.53584075]),\n",
       " 'test_r2': array([-0.10852244,  0.01733664, -0.22574826, -0.09496374, -0.0025052 ]),\n",
       " 'train_r2': array([0.52853058, 0.52007295, 0.54496085, 0.45790535, 0.53130477]),\n",
       " 'test_neg_mean_squared_error': array([ -8.14008737,  -6.04599584, -11.50007904, -12.30340967,\n",
       "        -14.22875462]),\n",
       " 'train_neg_mean_squared_error': array([-5.78821257, -5.75938805, -5.34104041, -5.27631886, -4.78369059])}"
      ]
     },
     "execution_count": 155,
     "metadata": {},
     "output_type": "execute_result"
    }
   ],
   "source": [
    "kfold = KFold(n_splits=5, random_state=42)\n",
    "results = cross_validate(svr_model, X, y, cv=kfold, scoring=scoring)\n",
    "results"
   ]
  },
  {
   "cell_type": "markdown",
   "metadata": {},
   "source": [
    "## Train on Memphis and Test on Los Angeles"
   ]
  },
  {
   "cell_type": "code",
   "execution_count": 9,
   "metadata": {},
   "outputs": [],
   "source": [
    "imgdir = \"./data/Memphis/img/*png\"\n",
    "test_img_paths = [img_path for img_path in glob.glob(imgdir)]\n",
    "\n",
    "# Extract features\n",
    "raw_features = []\n",
    "tractFIPS = []\n",
    "finalimgs = []\n",
    "count = 0\n",
    "split = 0\n",
    "outdir = './out'\n",
    "city = 'Memphis'\n",
    "\n",
    "for img_path in test_img_paths:\n",
    "    img = image.load_img(img_path, target_size=(224,224))\n",
    "    img = transform_img(img, img_width = IMAGE_WIDTH, img_height = IMAGE_HEIGHT)\n",
    "    img_data = image.img_to_array(img)\n",
    "    img_data = np.expand_dims(img_data, axis=0)\n",
    "    img_data = preprocess_input(img_data)\n",
    "    features = feature_extract_model.predict(img_data)\n",
    "    raw_features.append(features)\n",
    "    finalimgs.append(img_path.split()[-1])\n",
    "    tractFIPS.append(img_path.split('_')[1])\n",
    "    count += 1\n",
    "\n",
    "raw_features = np.vstack(raw_features)\n",
    "np.save(os.path.join(outdir, city, 'features_tracts_fc7_z18_vgg_' + str(split) + '.npy'), raw_features)\n",
    "np.save(os.path.join(outdir, city, 'filenames_tracts_fc7_z18_vgg_' + str(split) + '.npy'), finalimgs)"
   ]
  },
  {
   "cell_type": "code",
   "execution_count": 10,
   "metadata": {},
   "outputs": [
    {
     "data": {
      "text/plain": [
       "array([[ 2.6538467 ,  2.7231848 , -0.        , ..., -0.        ,\n",
       "        -0.        , -0.        ],\n",
       "       [ 4.6476846 ,  4.350603  , -0.        , ..., -0.        ,\n",
       "        -0.        , -0.        ],\n",
       "       [ 1.7411264 ,  5.718193  , -0.        , ..., -0.        ,\n",
       "        -0.        ,  0.20723626],\n",
       "       ...,\n",
       "       [ 2.8682804 ,  3.4405468 , -0.        , ...,  0.7383866 ,\n",
       "        -0.        , -0.        ],\n",
       "       [ 1.3137286 ,  2.0395072 ,  0.53068143, ..., -0.        ,\n",
       "        -0.        , -0.        ],\n",
       "       [ 0.44492626,  7.709108  , -0.        , ...,  0.04092008,\n",
       "        -0.        , -0.        ]], dtype=float32)"
      ]
     },
     "execution_count": 10,
     "metadata": {},
     "output_type": "execute_result"
    }
   ],
   "source": [
    "raw_features"
   ]
  },
  {
   "cell_type": "markdown",
   "metadata": {},
   "source": [
    "#### Loading memphis df and vgg extracted features for memphis"
   ]
  },
  {
   "cell_type": "code",
   "execution_count": 86,
   "metadata": {},
   "outputs": [
    {
     "name": "stderr",
     "output_type": "stream",
     "text": [
      "/usr/local/lib/python3.7/site-packages/ipykernel_launcher.py:1: FutureWarning: from_csv is deprecated. Please use read_csv(...) instead. Note that some of the default arguments are different, so please refer to the documentation for from_csv when changing your function calls\n",
      "  \"\"\"Entry point for launching an IPython kernel.\n"
     ]
    },
    {
     "data": {
      "text/html": [
       "<div>\n",
       "<style scoped>\n",
       "    .dataframe tbody tr th:only-of-type {\n",
       "        vertical-align: middle;\n",
       "    }\n",
       "\n",
       "    .dataframe tbody tr th {\n",
       "        vertical-align: top;\n",
       "    }\n",
       "\n",
       "    .dataframe thead th {\n",
       "        text-align: right;\n",
       "    }\n",
       "</style>\n",
       "<table border=\"1\" class=\"dataframe\">\n",
       "  <thead>\n",
       "    <tr style=\"text-align: right;\">\n",
       "      <th></th>\n",
       "      <th>0</th>\n",
       "      <th>1</th>\n",
       "      <th>2</th>\n",
       "      <th>3</th>\n",
       "      <th>4</th>\n",
       "      <th>5</th>\n",
       "      <th>6</th>\n",
       "      <th>7</th>\n",
       "      <th>8</th>\n",
       "      <th>9</th>\n",
       "      <th>...</th>\n",
       "      <th>4087</th>\n",
       "      <th>4088</th>\n",
       "      <th>4089</th>\n",
       "      <th>4090</th>\n",
       "      <th>4091</th>\n",
       "      <th>4092</th>\n",
       "      <th>4093</th>\n",
       "      <th>4094</th>\n",
       "      <th>4095</th>\n",
       "      <th>TractFIPS</th>\n",
       "    </tr>\n",
       "  </thead>\n",
       "  <tbody>\n",
       "    <tr>\n",
       "      <th>0</th>\n",
       "      <td>2.653847</td>\n",
       "      <td>2.723185</td>\n",
       "      <td>-0.000000</td>\n",
       "      <td>-0.000000</td>\n",
       "      <td>5.317121</td>\n",
       "      <td>-0.000000</td>\n",
       "      <td>-0.000000</td>\n",
       "      <td>-0.0</td>\n",
       "      <td>1.383776</td>\n",
       "      <td>-0.0</td>\n",
       "      <td>...</td>\n",
       "      <td>-0.0</td>\n",
       "      <td>-0.0</td>\n",
       "      <td>-0.0</td>\n",
       "      <td>-0.0</td>\n",
       "      <td>4.604869</td>\n",
       "      <td>-0.000000</td>\n",
       "      <td>-0.000000</td>\n",
       "      <td>-0.0</td>\n",
       "      <td>-0.000000</td>\n",
       "      <td>47157000100</td>\n",
       "    </tr>\n",
       "    <tr>\n",
       "      <th>1</th>\n",
       "      <td>4.647685</td>\n",
       "      <td>4.350603</td>\n",
       "      <td>-0.000000</td>\n",
       "      <td>-0.000000</td>\n",
       "      <td>4.715180</td>\n",
       "      <td>-0.000000</td>\n",
       "      <td>1.061728</td>\n",
       "      <td>-0.0</td>\n",
       "      <td>3.839718</td>\n",
       "      <td>-0.0</td>\n",
       "      <td>...</td>\n",
       "      <td>-0.0</td>\n",
       "      <td>-0.0</td>\n",
       "      <td>-0.0</td>\n",
       "      <td>-0.0</td>\n",
       "      <td>5.305475</td>\n",
       "      <td>1.006699</td>\n",
       "      <td>-0.000000</td>\n",
       "      <td>-0.0</td>\n",
       "      <td>-0.000000</td>\n",
       "      <td>47157000200</td>\n",
       "    </tr>\n",
       "    <tr>\n",
       "      <th>2</th>\n",
       "      <td>1.741126</td>\n",
       "      <td>5.718193</td>\n",
       "      <td>-0.000000</td>\n",
       "      <td>0.002466</td>\n",
       "      <td>4.898664</td>\n",
       "      <td>-0.000000</td>\n",
       "      <td>-0.000000</td>\n",
       "      <td>-0.0</td>\n",
       "      <td>2.145909</td>\n",
       "      <td>-0.0</td>\n",
       "      <td>...</td>\n",
       "      <td>-0.0</td>\n",
       "      <td>-0.0</td>\n",
       "      <td>-0.0</td>\n",
       "      <td>-0.0</td>\n",
       "      <td>2.228650</td>\n",
       "      <td>-0.000000</td>\n",
       "      <td>-0.000000</td>\n",
       "      <td>-0.0</td>\n",
       "      <td>0.207236</td>\n",
       "      <td>47157000300</td>\n",
       "    </tr>\n",
       "    <tr>\n",
       "      <th>3</th>\n",
       "      <td>1.007668</td>\n",
       "      <td>0.507188</td>\n",
       "      <td>1.100591</td>\n",
       "      <td>-0.000000</td>\n",
       "      <td>6.252783</td>\n",
       "      <td>-0.000000</td>\n",
       "      <td>-0.000000</td>\n",
       "      <td>-0.0</td>\n",
       "      <td>-0.000000</td>\n",
       "      <td>-0.0</td>\n",
       "      <td>...</td>\n",
       "      <td>-0.0</td>\n",
       "      <td>-0.0</td>\n",
       "      <td>-0.0</td>\n",
       "      <td>-0.0</td>\n",
       "      <td>4.165075</td>\n",
       "      <td>2.338985</td>\n",
       "      <td>0.728974</td>\n",
       "      <td>-0.0</td>\n",
       "      <td>-0.000000</td>\n",
       "      <td>47157000400</td>\n",
       "    </tr>\n",
       "    <tr>\n",
       "      <th>4</th>\n",
       "      <td>2.416122</td>\n",
       "      <td>0.927236</td>\n",
       "      <td>-0.000000</td>\n",
       "      <td>-0.000000</td>\n",
       "      <td>5.628539</td>\n",
       "      <td>0.038797</td>\n",
       "      <td>1.105345</td>\n",
       "      <td>-0.0</td>\n",
       "      <td>1.454052</td>\n",
       "      <td>-0.0</td>\n",
       "      <td>...</td>\n",
       "      <td>-0.0</td>\n",
       "      <td>-0.0</td>\n",
       "      <td>-0.0</td>\n",
       "      <td>-0.0</td>\n",
       "      <td>5.352806</td>\n",
       "      <td>-0.000000</td>\n",
       "      <td>-0.000000</td>\n",
       "      <td>-0.0</td>\n",
       "      <td>-0.000000</td>\n",
       "      <td>47157000600</td>\n",
       "    </tr>\n",
       "  </tbody>\n",
       "</table>\n",
       "<p>5 rows × 4097 columns</p>\n",
       "</div>"
      ],
      "text/plain": [
       "          0         1         2         3         4         5         6    7  \\\n",
       "0  2.653847  2.723185 -0.000000 -0.000000  5.317121 -0.000000 -0.000000 -0.0   \n",
       "1  4.647685  4.350603 -0.000000 -0.000000  4.715180 -0.000000  1.061728 -0.0   \n",
       "2  1.741126  5.718193 -0.000000  0.002466  4.898664 -0.000000 -0.000000 -0.0   \n",
       "3  1.007668  0.507188  1.100591 -0.000000  6.252783 -0.000000 -0.000000 -0.0   \n",
       "4  2.416122  0.927236 -0.000000 -0.000000  5.628539  0.038797  1.105345 -0.0   \n",
       "\n",
       "          8    9  ...  4087  4088  4089  4090      4091      4092      4093  \\\n",
       "0  1.383776 -0.0  ...  -0.0  -0.0  -0.0  -0.0  4.604869 -0.000000 -0.000000   \n",
       "1  3.839718 -0.0  ...  -0.0  -0.0  -0.0  -0.0  5.305475  1.006699 -0.000000   \n",
       "2  2.145909 -0.0  ...  -0.0  -0.0  -0.0  -0.0  2.228650 -0.000000 -0.000000   \n",
       "3 -0.000000 -0.0  ...  -0.0  -0.0  -0.0  -0.0  4.165075  2.338985  0.728974   \n",
       "4  1.454052 -0.0  ...  -0.0  -0.0  -0.0  -0.0  5.352806 -0.000000 -0.000000   \n",
       "\n",
       "   4094      4095    TractFIPS  \n",
       "0  -0.0 -0.000000  47157000100  \n",
       "1  -0.0 -0.000000  47157000200  \n",
       "2  -0.0  0.207236  47157000300  \n",
       "3  -0.0 -0.000000  47157000400  \n",
       "4  -0.0 -0.000000  47157000600  \n",
       "\n",
       "[5 rows x 4097 columns]"
      ]
     },
     "execution_count": 86,
     "metadata": {},
     "output_type": "execute_result"
    }
   ],
   "source": [
    "test_mem_df = pd.DataFrame.from_csv('mem_vgg.csv')\n",
    "test_mem_df = test_mem_df.sort_values(by=['TractFIPS']).reset_index().drop(['index'], axis=1)\n",
    "test_mem_df.head()"
   ]
  },
  {
   "cell_type": "code",
   "execution_count": 87,
   "metadata": {
    "scrolled": false
   },
   "outputs": [
    {
     "name": "stderr",
     "output_type": "stream",
     "text": [
      "/usr/local/lib/python3.7/site-packages/ipykernel_launcher.py:1: FutureWarning: from_csv is deprecated. Please use read_csv(...) instead. Note that some of the default arguments are different, so please refer to the documentation for from_csv when changing your function calls\n",
      "  \"\"\"Entry point for launching an IPython kernel.\n"
     ]
    }
   ],
   "source": [
    "mem_df = pd.DataFrame.from_csv('./data/Memphis/500_cities_memphis_mental_health.csv').sort_values(by=['TractFIPS']).reset_index().drop(['index'], axis=1)"
   ]
  },
  {
   "cell_type": "code",
   "execution_count": 88,
   "metadata": {},
   "outputs": [],
   "source": [
    "test_mem_df = test_mem_df.drop(['TractFIPS'], axis=1)"
   ]
  },
  {
   "cell_type": "code",
   "execution_count": 89,
   "metadata": {},
   "outputs": [],
   "source": [
    "X_mem = test_mem_df\n",
    "y_mem = mem_df['Data_Value']"
   ]
  },
  {
   "cell_type": "code",
   "execution_count": 93,
   "metadata": {},
   "outputs": [
    {
     "name": "stderr",
     "output_type": "stream",
     "text": [
      "/usr/local/lib/python3.7/site-packages/sklearn/linear_model/coordinate_descent.py:475: ConvergenceWarning: Objective did not converge. You might want to increase the number of iterations. Duality gap: 55.895012572998894, tolerance: 1.1213355045317221\n",
      "  positive)\n"
     ]
    },
    {
     "data": {
      "text/plain": [
       "SVR(C=1.0, cache_size=200, coef0=0.0, degree=3, epsilon=0.2, gamma='scale',\n",
       "    kernel='rbf', max_iter=-1, shrinking=True, tol=0.001, verbose=False)"
      ]
     },
     "execution_count": 93,
     "metadata": {},
     "output_type": "execute_result"
    }
   ],
   "source": [
    "# LR\n",
    "lr_model = ElasticNet(alpha=0.1)\n",
    "lr_model.fit(X, y)\n",
    "\n",
    "# SVR\n",
    "svr_model = SVR(gamma='scale', C=1.0, epsilon=0.2)\n",
    "svr_model.fit(X, y)"
   ]
  },
  {
   "cell_type": "code",
   "execution_count": 94,
   "metadata": {},
   "outputs": [],
   "source": [
    "y_pred_lr_mem = lr_model.predict(X_mem)\n",
    "y_pred_svr_mem = svr_model.predict(X_mem)"
   ]
  },
  {
   "cell_type": "markdown",
   "metadata": {},
   "source": [
    "Elastic Net regression res"
   ]
  },
  {
   "cell_type": "code",
   "execution_count": 95,
   "metadata": {},
   "outputs": [
    {
     "name": "stdout",
     "output_type": "stream",
     "text": [
      "Mean Absolute Error: 5.544912855614435\n",
      "Mean Squared Error: 40.36360072948616\n",
      "Root Mean Squared Error: 6.353235453647705\n",
      "R2: -2.0357648354679623\n"
     ]
    }
   ],
   "source": [
    "true_pred_mem_df = pd.DataFrame({'Actual': y_mem, 'Predicted': y_pred_lr_mem})\n",
    "true_pred_mem_df.head()\n",
    "\n",
    "print('Mean Absolute Error:', metrics.mean_absolute_error(y_mem, y_pred_lr_mem))  \n",
    "print('Mean Squared Error:', metrics.mean_squared_error(y_mem, y_pred_lr_mem))  \n",
    "print('Root Mean Squared Error:', np.sqrt(metrics.mean_squared_error(y_mem, y_pred_lr_mem)))\n",
    "print('R2:', metrics.r2_score(y_mem, y_pred_lr_mem))"
   ]
  },
  {
   "cell_type": "code",
   "execution_count": 113,
   "metadata": {},
   "outputs": [
    {
     "name": "stdout",
     "output_type": "stream",
     "text": [
      "Mean Absolute Error: 5.438897298237762\n",
      "Mean Squared Error: 39.32518672829245\n",
      "Root Mean Squared Error: 6.270979726349978\n",
      "R2: -1.9576652444377056\n"
     ]
    }
   ],
   "source": [
    "las_model = Lasso(alpha=0.1)\n",
    "las_model.fit(X,y)\n",
    "y_pred_las_mem = las_model.predict(X_mem)\n",
    "true_pred_mem_df = pd.DataFrame({'Actual': y_mem, 'Predicted': y_pred_las_mem})\n",
    "true_pred_mem_df.head()\n",
    "\n",
    "print('Mean Absolute Error:', metrics.mean_absolute_error(y_mem, y_pred_las_mem))  \n",
    "print('Mean Squared Error:', metrics.mean_squared_error(y_mem, y_pred_las_mem))  \n",
    "print('Root Mean Squared Error:', np.sqrt(metrics.mean_squared_error(y_mem, y_pred_las_mem)))\n",
    "print('R2:', metrics.r2_score(y_mem, y_pred_las_mem))"
   ]
  },
  {
   "cell_type": "code",
   "execution_count": 112,
   "metadata": {},
   "outputs": [
    {
     "name": "stdout",
     "output_type": "stream",
     "text": [
      "Mean Absolute Error: 5.438897298237762\n",
      "Mean Squared Error: 39.32518672829245\n",
      "Root Mean Squared Error: 6.270979726349978\n",
      "R2: -1.9576652444377056\n"
     ]
    }
   ],
   "source": [
    "lr_model = LinearRegression()\n",
    "lr_model.fit(X,y)\n",
    "y_pred_lr_mem = las_model.predict(X_mem)\n",
    "true_pred_mem_df = pd.DataFrame({'Actual': y_mem, 'Predicted': y_pred_las_mem})\n",
    "true_pred_mem_df.head()\n",
    "\n",
    "print('Mean Absolute Error:', metrics.mean_absolute_error(y_mem, y_pred_lr_mem))  \n",
    "print('Mean Squared Error:', metrics.mean_squared_error(y_mem, y_pred_lr_mem))  \n",
    "print('Root Mean Squared Error:', np.sqrt(metrics.mean_squared_error(y_mem, y_pred_lr_mem)))\n",
    "print('R2:', metrics.r2_score(y_mem, y_pred_lr_mem\n",
    "                             ))"
   ]
  },
  {
   "cell_type": "markdown",
   "metadata": {},
   "source": [
    "SVR res"
   ]
  },
  {
   "cell_type": "code",
   "execution_count": 97,
   "metadata": {},
   "outputs": [
    {
     "name": "stdout",
     "output_type": "stream",
     "text": [
      "Mean Absolute Error: 5.6790426298058\n",
      "Mean Squared Error: 42.51249432231487\n",
      "Root Mean Squared Error: 6.520160605561405\n",
      "R2: -2.1973841034810433\n"
     ]
    }
   ],
   "source": [
    "true_pred_mem_df = pd.DataFrame({'Actual': y_mem, 'Predicted': y_pred_svr_mem})\n",
    "true_pred_mem_df.head()\n",
    "\n",
    "print('Mean Absolute Error:', metrics.mean_absolute_error(y_mem, y_pred_svr_mem))  \n",
    "print('Mean Squared Error:', metrics.mean_squared_error(y_mem, y_pred_svr_mem))  \n",
    "print('Root Mean Squared Error:', np.sqrt(metrics.mean_squared_error(y_mem, y_pred_svr_mem)))\n",
    "print('R2:', metrics.r2_score(y_mem, y_pred_svr_mem))"
   ]
  },
  {
   "cell_type": "code",
   "execution_count": 115,
   "metadata": {},
   "outputs": [
    {
     "name": "stdout",
     "output_type": "stream",
     "text": [
      "Mean Absolute Error: 5.307457818046341\n",
      "Mean Squared Error: 38.101314284971004\n",
      "Root Mean Squared Error: 6.172626206483834\n",
      "R2: -1.865617239319585\n"
     ]
    }
   ],
   "source": [
    "gbr = GradientBoostingRegressor()\n",
    "gbr.fit(X, y)\n",
    "y_pred_gbr = gbr.predict(X_mem)\n",
    "print('Mean Absolute Error:', metrics.mean_absolute_error(y_mem, y_pred_gbr))  \n",
    "print('Mean Squared Error:', metrics.mean_squared_error(y_mem, y_pred_gbr))  \n",
    "print('Root Mean Squared Error:', np.sqrt(metrics.mean_squared_error(y_mem, y_pred_gbr)))\n",
    "print('R2:', metrics.r2_score(y_mem, y_pred_gbr))"
   ]
  },
  {
   "cell_type": "markdown",
   "metadata": {},
   "source": [
    "## Using neural nets"
   ]
  },
  {
   "cell_type": "code",
   "execution_count": null,
   "metadata": {},
   "outputs": [
    {
     "name": "stdout",
     "output_type": "stream",
     "text": [
      "WARNING:tensorflow:From /anaconda3/lib/python3.7/site-packages/keras/backend/tensorflow_backend.py:3445: calling dropout (from tensorflow.python.ops.nn_ops) with keep_prob is deprecated and will be removed in a future version.\n",
      "Instructions for updating:\n",
      "Please use `rate` instead of `keep_prob`. Rate should be set to `rate = 1 - keep_prob`.\n",
      "WARNING:tensorflow:From /anaconda3/lib/python3.7/site-packages/tensorflow/python/ops/math_ops.py:3066: to_int32 (from tensorflow.python.ops.math_ops) is deprecated and will be removed in a future version.\n",
      "Instructions for updating:\n",
      "Use tf.cast instead.\n"
     ]
    },
    {
     "name": "stderr",
     "output_type": "stream",
     "text": [
      "/anaconda3/lib/python3.7/site-packages/ipykernel_launcher.py:26: UserWarning: The `nb_epoch` argument in `fit` has been renamed `epochs`.\n"
     ]
    },
    {
     "name": "stdout",
     "output_type": "stream",
     "text": [
      "Train on 893 samples, validate on 100 samples\n",
      "Epoch 1/200\n"
     ]
    }
   ],
   "source": [
    "from keras.models import Sequential\n",
    "from keras.layers.core import Dense, Activation, Dropout\n",
    "from keras.objectives import MSE, MAE\n",
    "from keras.callbacks import EarlyStopping\n",
    "\n",
    "model = Sequential()\n",
    "model.add(Dense(input_dim=X.shape[1], units=2048))\n",
    "model.add(Activation(\"tanh\"))\n",
    "model.add(Dropout(0.50))\n",
    "model.add(Dense(1024))\n",
    "model.add(Activation(\"relu\"))\n",
    "model.add(Dropout(0.50))\n",
    "model.add(Dense(512))\n",
    "model.add(Activation(\"relu\"))\n",
    "model.add(Dropout(0.50))\n",
    "model.add(Dense(256))\n",
    "model.add(Activation(\"relu\"))\n",
    "model.add(Dropout(0.50))\n",
    "model.add(Dense(128))\n",
    "model.add(Activation(\"relu\"))\n",
    "model.add(Dropout(0.50))\n",
    "model.add(Dense(units=1))\n",
    "model.compile(\"nadam\", \"mae\")\n",
    "\n",
    "early_stopping = EarlyStopping(monitor='val_loss', patience=10)\n",
    "train_log = model.fit(X, y, batch_size=128, epochs=200, validation_split=0.1, verbose=2, callbacks=[early_stopping])\n"
   ]
  },
  {
   "cell_type": "markdown",
   "metadata": {},
   "source": [
    "## Visualizing regression model estimates"
   ]
  },
  {
   "cell_type": "code",
   "execution_count": null,
   "metadata": {},
   "outputs": [],
   "source": [
    "!conda install geopandas;y"
   ]
  },
  {
   "cell_type": "code",
   "execution_count": 119,
   "metadata": {},
   "outputs": [
    {
     "ename": "ModuleNotFoundError",
     "evalue": "No module named 'geopandas'",
     "output_type": "error",
     "traceback": [
      "\u001b[0;31m---------------------------------------------------------------------------\u001b[0m",
      "\u001b[0;31mModuleNotFoundError\u001b[0m                       Traceback (most recent call last)",
      "\u001b[0;32m<ipython-input-119-6e55ea3a6c01>\u001b[0m in \u001b[0;36m<module>\u001b[0;34m\u001b[0m\n\u001b[0;32m----> 1\u001b[0;31m \u001b[0;32mimport\u001b[0m \u001b[0mgeopandas\u001b[0m \u001b[0;32mas\u001b[0m \u001b[0mgpd\u001b[0m\u001b[0;34m\u001b[0m\u001b[0;34m\u001b[0m\u001b[0m\n\u001b[0m\u001b[1;32m      2\u001b[0m \u001b[0;32mimport\u001b[0m \u001b[0mdescartes\u001b[0m\u001b[0;34m\u001b[0m\u001b[0;34m\u001b[0m\u001b[0m\n\u001b[1;32m      3\u001b[0m \u001b[0;32mfrom\u001b[0m \u001b[0mshapely\u001b[0m\u001b[0;34m.\u001b[0m\u001b[0mgeometry\u001b[0m \u001b[0;32mimport\u001b[0m \u001b[0mPoint\u001b[0m\u001b[0;34m,\u001b[0m \u001b[0mPolygon\u001b[0m\u001b[0;34m\u001b[0m\u001b[0;34m\u001b[0m\u001b[0m\n\u001b[1;32m      4\u001b[0m \u001b[0mcrs\u001b[0m\u001b[0;34m=\u001b[0m\u001b[0;34m{\u001b[0m\u001b[0;34m'init'\u001b[0m\u001b[0;34m:\u001b[0m \u001b[0;34m'epsg:4326'\u001b[0m\u001b[0;34m}\u001b[0m\u001b[0;34m\u001b[0m\u001b[0;34m\u001b[0m\u001b[0m\n\u001b[1;32m      5\u001b[0m \u001b[0mmem_gdf\u001b[0m \u001b[0;34m=\u001b[0m \u001b[0mgpd\u001b[0m\u001b[0;34m.\u001b[0m\u001b[0mread_file\u001b[0m\u001b[0;34m(\u001b[0m\u001b[0;34m'./data/Memphis/memphis_census_tracts_2010.shp'\u001b[0m\u001b[0;34m)\u001b[0m\u001b[0;34m.\u001b[0m\u001b[0mto_crs\u001b[0m\u001b[0;34m(\u001b[0m\u001b[0mcrs\u001b[0m\u001b[0;34m)\u001b[0m\u001b[0;34m\u001b[0m\u001b[0;34m\u001b[0m\u001b[0m\n",
      "\u001b[0;31mModuleNotFoundError\u001b[0m: No module named 'geopandas'"
     ]
    }
   ],
   "source": [
    "import geopandas as gpd\n",
    "import descartes\n",
    "from shapely.geometry import Point, Polygon\n",
    "crs={'init': 'epsg:4326'}\n",
    "mem_gdf = gpd.read_file('./data/Memphis/memphis_census_tracts_2010.shp').to_crs(crs)"
   ]
  },
  {
   "cell_type": "code",
   "execution_count": 45,
   "metadata": {},
   "outputs": [],
   "source": [
    "# Make copy of la df\n",
    "temp_df = mem_df\n",
    "\n",
    "# Change geolocation to latitude longitude\n",
    "def convertToLat(row):\n",
    "    tempRow = eval(row)\n",
    "    return (tempRow[0]) \n",
    "\n",
    "def convertToLong(row):\n",
    "    tempRow = eval(row)\n",
    "    return (tempRow[1]) \n",
    "\n",
    "temp_df['Latitude'] = temp_df['GeoLocation'].apply(lambda row: convertToLat(row))\n",
    "temp_df['Longitude'] = temp_df['GeoLocation'].apply(lambda row: convertToLong(row))\n",
    "temp_df['Prediction'] = y_pred_las_mem"
   ]
  },
  {
   "cell_type": "code",
   "execution_count": 46,
   "metadata": {},
   "outputs": [],
   "source": [
    "geometry_mem = [Point(xy) for xy in zip(mem_df['Longitude'],mem_df['Latitude'])]\n",
    "# Prepare df for plot\n",
    "geo_mem_df = gpd.GeoDataFrame(temp_df, geometry=geometry_mem, crs=crs)\n",
    "vmax_mem = geo_mem_df.Data_Value.max()\n",
    "vmin_mem = geo_mem_df.Data_Value.min()"
   ]
  },
  {
   "cell_type": "code",
   "execution_count": 47,
   "metadata": {},
   "outputs": [
    {
     "data": {
      "image/png": "[encoded data removed]",
      "text/plain": [
       "<Figure size 720x864 with 2 Axes>"
      ]
     },
     "metadata": {
      "needs_background": "light"
     },
     "output_type": "display_data"
    }
   ],
   "source": [
    " # create map\n",
    "fig, ax = plt.subplots(figsize=(10,12))\n",
    "mem_gdf.plot(ax=ax, color='grey', alpha=0.8)\n",
    "geo_mem_df.to_crs(crs).plot(column=\"Prediction\", cmap=\"Blues\",ax=ax, linewidth=0.8, edgecolor='0.9')\n",
    "\n",
    "# customize\n",
    "ax.set_title(('Predicted prevalence of mental health issues in {}').format(\"Memphis\"),fontdict={\"fontsize\": \"15\", \"fontweight\" : \"3\"})\n",
    "ax.annotate('Source: 500 Cities Project - Model-based estimates for mental health not good for >=14 days among adults aged >=18 years – 2016', xy=(0.1,0.03), xycoords=\"figure fraction\", horizontalalignment=\"left\", verticalalignment=\"top\", fontsize=\"10\")\n",
    "\n",
    "# set colorbar\n",
    "sm = plt.cm.ScalarMappable(cmap=\"Blues\", norm=plt.Normalize(vmin=vmin_mem, vmax=vmax_mem))\n",
    "sm._A = []\n",
    "cbar = fig.colorbar(sm, fraction=0.046,pad=0.04)\n",
    "\n",
    "# remove axis\n",
    "ax.axis('off')\n",
    "plt.savefig('mem_pred_vis.png')"
   ]
  },
  {
   "cell_type": "code",
   "execution_count": null,
   "metadata": {},
   "outputs": [],
   "source": []
  }
 ],
 "metadata": {
  "kernelspec": {
   "display_name": "Python 3",
   "language": "python",
   "name": "python3"
  },
  "language_info": {
   "codemirror_mode": {
    "name": "ipython",
    "version": 3
   },
   "file_extension": ".py",
   "mimetype": "text/x-python",
   "name": "python",
   "nbconvert_exporter": "python",
   "pygments_lexer": "ipython3",
   "version": "3.7.5"
  }
 },
 "nbformat": 4,
 "nbformat_minor": 2
}
