{
 "cells": [
  {
   "cell_type": "markdown",
   "metadata": {},
   "source": [
    "## Models evaluation"
   ]
  },
  {
   "cell_type": "markdown",
   "metadata": {},
   "source": [
    "This notebook runs different models on image features extracted from satellite images using the CNN. Models regress to predict prevalence of mental health issues within cities."
   ]
  },
  {
   "cell_type": "code",
   "execution_count": 3,
   "metadata": {},
   "outputs": [],
   "source": [
    "import pandas as pd\n",
    "import numpy as np\n",
    "from keras.applications.vgg16 import VGG16, preprocess_input\n",
    "from keras.preprocessing import image\n",
    "from keras.models import Model, Sequential\n",
    "import os, sys\n",
    "import glob\n",
    "import matplotlib.pyplot as plt\n",
    "from PIL import Image\n",
    "from PIL import ImageOps\n",
    "import csv"
   ]
  },
  {
   "cell_type": "code",
   "execution_count": 4,
   "metadata": {},
   "outputs": [
    {
     "name": "stdout",
     "output_type": "stream",
     "text": [
      "(993, 4096)\n",
      "(994, 14)\n"
     ]
    },
    {
     "name": "stderr",
     "output_type": "stream",
     "text": [
      "/anaconda3/lib/python3.7/site-packages/ipykernel_launcher.py:8: FutureWarning: from_csv is deprecated. Please use read_csv(...) instead. Note that some of the default arguments are different, so please refer to the documentation for from_csv when changing your function calls\n",
      "  \n"
     ]
    }
   ],
   "source": [
    "# Los Angeles\n",
    "\n",
    "# Loading VGG extracted features\n",
    "x_lacity = np.loadtxt('./pretrained_output/X_lacity_fc7_vggf_z18.txt')\n",
    "print(x_lacity.shape)\n",
    "\n",
    "# Loading target variables\n",
    "la_df = pd.DataFrame.from_csv('./data/lacity/500_cities_lacity_mental_health.csv')\n",
    "print(la_df.shape)"
   ]
  },
  {
   "cell_type": "code",
   "execution_count": 3,
   "metadata": {
    "scrolled": true
   },
   "outputs": [
    {
     "name": "stdout",
     "output_type": "stream",
     "text": [
      "WARNING:tensorflow:From /anaconda3/lib/python3.7/site-packages/tensorflow/python/framework/op_def_library.py:263: colocate_with (from tensorflow.python.framework.ops) is deprecated and will be removed in a future version.\n",
      "Instructions for updating:\n",
      "Colocations handled automatically by placer.\n"
     ]
    }
   ],
   "source": [
    "vgg16_model = VGG16(weights='imagenet', include_top=True)\n"
   ]
  },
  {
   "cell_type": "code",
   "execution_count": 4,
   "metadata": {
    "scrolled": true
   },
   "outputs": [
    {
     "name": "stdout",
     "output_type": "stream",
     "text": [
      "_________________________________________________________________\n",
      "Layer (type)                 Output Shape              Param #   \n",
      "=================================================================\n",
      "input_1 (InputLayer)         (None, 224, 224, 3)       0         \n",
      "_________________________________________________________________\n",
      "block1_conv1 (Conv2D)        (None, 224, 224, 64)      1792      \n",
      "_________________________________________________________________\n",
      "block1_conv2 (Conv2D)        (None, 224, 224, 64)      36928     \n",
      "_________________________________________________________________\n",
      "block1_pool (MaxPooling2D)   (None, 112, 112, 64)      0         \n",
      "_________________________________________________________________\n",
      "block2_conv1 (Conv2D)        (None, 112, 112, 128)     73856     \n",
      "_________________________________________________________________\n",
      "block2_conv2 (Conv2D)        (None, 112, 112, 128)     147584    \n",
      "_________________________________________________________________\n",
      "block2_pool (MaxPooling2D)   (None, 56, 56, 128)       0         \n",
      "_________________________________________________________________\n",
      "block3_conv1 (Conv2D)        (None, 56, 56, 256)       295168    \n",
      "_________________________________________________________________\n",
      "block3_conv2 (Conv2D)        (None, 56, 56, 256)       590080    \n",
      "_________________________________________________________________\n",
      "block3_conv3 (Conv2D)        (None, 56, 56, 256)       590080    \n",
      "_________________________________________________________________\n",
      "block3_pool (MaxPooling2D)   (None, 28, 28, 256)       0         \n",
      "_________________________________________________________________\n",
      "block4_conv1 (Conv2D)        (None, 28, 28, 512)       1180160   \n",
      "_________________________________________________________________\n",
      "block4_conv2 (Conv2D)        (None, 28, 28, 512)       2359808   \n",
      "_________________________________________________________________\n",
      "block4_conv3 (Conv2D)        (None, 28, 28, 512)       2359808   \n",
      "_________________________________________________________________\n",
      "block4_pool (MaxPooling2D)   (None, 14, 14, 512)       0         \n",
      "_________________________________________________________________\n",
      "block5_conv1 (Conv2D)        (None, 14, 14, 512)       2359808   \n",
      "_________________________________________________________________\n",
      "block5_conv2 (Conv2D)        (None, 14, 14, 512)       2359808   \n",
      "_________________________________________________________________\n",
      "block5_conv3 (Conv2D)        (None, 14, 14, 512)       2359808   \n",
      "_________________________________________________________________\n",
      "block5_pool (MaxPooling2D)   (None, 7, 7, 512)         0         \n",
      "_________________________________________________________________\n",
      "flatten (Flatten)            (None, 25088)             0         \n",
      "_________________________________________________________________\n",
      "fc1 (Dense)                  (None, 4096)              102764544 \n",
      "_________________________________________________________________\n",
      "fc2 (Dense)                  (None, 4096)              16781312  \n",
      "_________________________________________________________________\n",
      "predictions (Dense)          (None, 1000)              4097000   \n",
      "=================================================================\n",
      "Total params: 138,357,544\n",
      "Trainable params: 138,357,544\n",
      "Non-trainable params: 0\n",
      "_________________________________________________________________\n"
     ]
    }
   ],
   "source": [
    "vgg16_model.summary()"
   ]
  },
  {
   "cell_type": "code",
   "execution_count": 5,
   "metadata": {},
   "outputs": [],
   "source": [
    "'''\n",
    "Image processing helper function\n",
    "'''\n",
    "#Size of images\n",
    "IMAGE_WIDTH = 224\n",
    "IMAGE_HEIGHT = 224\n",
    "imgdir = \"./data/lacity/img/*png\"\n",
    "\n",
    "def transform_img(img, img_width=IMAGE_WIDTH, img_height=IMAGE_HEIGHT):\n",
    "\n",
    "    r,g,b = img.split()\n",
    "    #Histogram Equalization\n",
    "    # img[:, :, 0] = cv2.equalizeHist(img[:, :, 0])\n",
    "    # img[:, :, 1] = cv2.equalizeHist(img[:, :, 1])\n",
    "    # img[:, :, 2] = cv2.equalizeHist(img[:, :, 2])\n",
    "    rnew = ImageOps.equalize(r)\n",
    "    gnew = ImageOps.equalize(g)\n",
    "    bnew = ImageOps.equalize(b)\n",
    "\n",
    "    #Image Resizing\n",
    "    # img = cv2.resize(img, (img_width, img_height), interpolation = cv2.INTER_CUBIC)\n",
    "    img = Image.merge(\"RGB\", (rnew,gnew,bnew))\n",
    "    img = img.resize((img_width, img_height), resample = Image.BICUBIC)\n",
    "    return img\n",
    "\n",
    "def vis_square(data):\n",
    "    data = (data - data.min()) / (data.max() - data.min())\n",
    "    n = int(np.ceil(np.sqrt(data.shape[0])))\n",
    "    padding = (((0, n ** 2 - data.shape[0]),\n",
    "               (0, 1), (0, 1))\n",
    "               + ((0, 0),) * (data.ndim - 3))\n",
    "    data = np.pad(data, padding, mode = 'constant', constant_values = 1)\n",
    "\n",
    "    data = data.reshape((n, n) + data.shape[1:]).transpose((0,2,1,3) + tuple(range(4, data.ndim + 1)))\n",
    "    data = data.reshape((n * data.shape[1], n * data.shape[3]) + data.shape[4:])\n",
    "    return(data)"
   ]
  },
  {
   "cell_type": "markdown",
   "metadata": {},
   "source": [
    "## Process images"
   ]
  },
  {
   "cell_type": "code",
   "execution_count": 6,
   "metadata": {},
   "outputs": [],
   "source": [
    "feature_extract_model = Model(inputs=vgg16_model.input,\n",
    "                              outputs=vgg16_model.get_layer('fc2').output)"
   ]
  },
  {
   "cell_type": "code",
   "execution_count": 12,
   "metadata": {},
   "outputs": [],
   "source": [
    "test_img_paths = [img_path for img_path in glob.glob(imgdir)]\n",
    "\n",
    "# Extract features\n",
    "raw_features = []\n",
    "tractFIPS = []\n",
    "finalimgs = []\n",
    "count = 0\n",
    "split = 0\n",
    "outdir = './out'\n",
    "city = 'lacity'"
   ]
  },
  {
   "cell_type": "code",
   "execution_count": 13,
   "metadata": {},
   "outputs": [
    {
     "data": {
      "text/plain": [
       "993"
      ]
     },
     "execution_count": 13,
     "metadata": {},
     "output_type": "execute_result"
    }
   ],
   "source": [
    "len(test_img_paths)"
   ]
  },
  {
   "cell_type": "code",
   "execution_count": 14,
   "metadata": {},
   "outputs": [
    {
     "data": {
      "text/plain": [
       "'06037240010'"
      ]
     },
     "execution_count": 14,
     "metadata": {},
     "output_type": "execute_result"
    }
   ],
   "source": [
    "test_img_paths[2].split('_')[1]"
   ]
  },
  {
   "cell_type": "code",
   "execution_count": 17,
   "metadata": {},
   "outputs": [],
   "source": [
    "for img_path in test_img_paths:\n",
    "    img = image.load_img(img_path, target_size=(224,224))\n",
    "    img = transform_img(img, img_width = IMAGE_WIDTH, img_height = IMAGE_HEIGHT)\n",
    "    img_data = image.img_to_array(img)\n",
    "    img_data = np.expand_dims(img_data, axis=0)\n",
    "    img_data = preprocess_input(img_data)\n",
    "    features = feature_extract_model.predict(img_data)\n",
    "    raw_features.append(features)\n",
    "    finalimgs.append(img_path.split()[-1])\n",
    "    tractFIPS.append(img_path.split('_')[1])\n",
    "    count += 1\n",
    "\n",
    "raw_features = np.vstack(raw_features)\n",
    "np.save(os.path.join(outdir, city, 'features_tracts_fc7_z18_vgg_' + str(split) + '.npy'), raw_features)\n",
    "np.save(os.path.join(outdir, city, 'filenames_tracts_fc7_z18_vgg_' + str(split) + '.npy'), finalimgs)"
   ]
  },
  {
   "cell_type": "code",
   "execution_count": 20,
   "metadata": {},
   "outputs": [],
   "source": [
    "test_df = pd.DataFrame(raw_features)\n",
    "tractFIPS = [row.lstrip('0') for row in tractFIPS]\n",
    "test_df['TractFIPS'] = tractFIPS"
   ]
  },
  {
   "cell_type": "code",
   "execution_count": 21,
   "metadata": {},
   "outputs": [],
   "source": [
    "la_df.TractFIPS = la_df.TractFIPS.astype('O')"
   ]
  },
  {
   "cell_type": "code",
   "execution_count": 23,
   "metadata": {},
   "outputs": [],
   "source": [
    "test_df.to_csv('la_vgg.csv')"
   ]
  },
  {
   "cell_type": "markdown",
   "metadata": {},
   "source": [
    "### Checking to see 2 dataframes are in order"
   ]
  },
  {
   "cell_type": "code",
   "execution_count": 34,
   "metadata": {},
   "outputs": [],
   "source": [
    "test_df = test_df.sort_values(by=[\"TractFIPS\"])"
   ]
  },
  {
   "cell_type": "code",
   "execution_count": 35,
   "metadata": {},
   "outputs": [],
   "source": [
    "la_df = la_df.sort_values(by=[\"TractFIPS\"])"
   ]
  },
  {
   "cell_type": "code",
   "execution_count": 49,
   "metadata": {
    "scrolled": true
   },
   "outputs": [
    {
     "data": {
      "text/plain": [
       "476    6037101110\n",
       "785    6037101122\n",
       "171    6037101210\n",
       "512    6037101220\n",
       "497    6037101300\n",
       "123    6037101400\n",
       "114    6037102103\n",
       "420    6037102104\n",
       "230    6037102105\n",
       "163    6037102107\n",
       "6      6037103101\n",
       "300    6037103102\n",
       "1      6037103200\n",
       "201    6037103300\n",
       "661    6037103400\n",
       "479    6037104103\n",
       "352    6037104105\n",
       "936    6037104108\n",
       "225    6037104124\n",
       "210    6037104201\n",
       "169    6037104203\n",
       "356    6037104204\n",
       "777    6037104310\n",
       "403    6037104320\n",
       "580    6037104401\n",
       "513    6037104403\n",
       "949    6037104404\n",
       "988    6037104500\n",
       "202    6037104610\n",
       "598    6037104620\n",
       "          ...    \n",
       "807    6037294830\n",
       "309    6037294900\n",
       "127    6037295103\n",
       "100    6037296210\n",
       "716    6037296220\n",
       "736    6037296300\n",
       "451    6037296401\n",
       "246    6037296402\n",
       "79     6037296500\n",
       "278    6037296600\n",
       "645    6037296901\n",
       "863    6037296902\n",
       "889    6037297000\n",
       "261    6037297110\n",
       "905    6037297120\n",
       "842    6037297201\n",
       "545    6037297202\n",
       "739    6037297300\n",
       "145    6037297400\n",
       "76     6037297500\n",
       "69     6037297601\n",
       "363    6037297602\n",
       "62     6037800204\n",
       "765    6037980008\n",
       "581    6037980010\n",
       "609    6037980014\n",
       "951    6037980015\n",
       "48     6037980019\n",
       "55     6037980024\n",
       "963    6037980031\n",
       "Name: TractFIPS, Length: 993, dtype: object"
      ]
     },
     "execution_count": 49,
     "metadata": {},
     "output_type": "execute_result"
    }
   ],
   "source": [
    "test_df.TractFIPS"
   ]
  },
  {
   "cell_type": "code",
   "execution_count": 46,
   "metadata": {
    "scrolled": true
   },
   "outputs": [
    {
     "data": {
      "text/plain": [
       "7938     6037101110\n",
       "14686    6037101122\n",
       "26595    6037101210\n",
       "21812    6037101220\n",
       "22840    6037101300\n",
       "28589    6037101400\n",
       "3636     6037102103\n",
       "24987    6037102104\n",
       "17790    6037102105\n",
       "20369    6037102107\n",
       "1296     6037103101\n",
       "26009    6037103102\n",
       "13962    6037103200\n",
       "9098     6037103300\n",
       "7429     6037103400\n",
       "3678     6037104103\n",
       "6952     6037104105\n",
       "7679     6037104108\n",
       "26420    6037104124\n",
       "24751    6037104201\n",
       "11622    6037104203\n",
       "8870     6037104204\n",
       "10369    6037104310\n",
       "18072    6037104320\n",
       "17114    6037104401\n",
       "22442    6037104403\n",
       "22867    6037104404\n",
       "15674    6037104500\n",
       "7657     6037104610\n",
       "13105    6037104620\n",
       "            ...    \n",
       "11796    6037294900\n",
       "18871    6037295103\n",
       "938      6037296210\n",
       "23870    6037296220\n",
       "24165    6037296300\n",
       "2833     6037296401\n",
       "12162    6037296402\n",
       "23675    6037296500\n",
       "5897     6037296600\n",
       "28025    6037296901\n",
       "3401     6037296902\n",
       "4286     6037297000\n",
       "1683     6037297110\n",
       "5809     6037297120\n",
       "27808    6037297201\n",
       "1177     6037297202\n",
       "5314     6037297300\n",
       "11185    6037297400\n",
       "10394    6037297500\n",
       "18884    6037297601\n",
       "22874    6037297602\n",
       "4550     6037800204\n",
       "11317    6037930401\n",
       "23075    6037980008\n",
       "26735    6037980010\n",
       "25000    6037980014\n",
       "22077    6037980015\n",
       "3177     6037980019\n",
       "24171    6037980024\n",
       "7864     6037980031\n",
       "Name: TractFIPS, Length: 994, dtype: object"
      ]
     },
     "execution_count": 46,
     "metadata": {},
     "output_type": "execute_result"
    }
   ],
   "source": [
    "la_df.TractFIPS"
   ]
  },
  {
   "cell_type": "markdown",
   "metadata": {},
   "source": [
    "## Training regression model"
   ]
  },
  {
   "cell_type": "code",
   "execution_count": 5,
   "metadata": {},
   "outputs": [
    {
     "name": "stderr",
     "output_type": "stream",
     "text": [
      "/anaconda3/lib/python3.7/site-packages/ipykernel_launcher.py:6: FutureWarning: from_csv is deprecated. Please use read_csv(...) instead. Note that some of the default arguments are different, so please refer to the documentation for from_csv when changing your function calls\n",
      "  \n"
     ]
    }
   ],
   "source": [
    "from sklearn.model_selection import train_test_split, KFold, cross_val_score\n",
    "from sklearn.linear_model import LinearRegression, RidgeCV, LassoCV, Ridge, Lasso\n",
    "from sklearn import metrics\n",
    "from sklearn.svm import SVR\n",
    "from scipy.stats.stats import pearsonr\n",
    "X = pd.DataFrame.from_csv('la_vgg.csv').sort_values(by=['TractFIPS']).reset_index()"
   ]
  },
  {
   "cell_type": "code",
   "execution_count": 27,
   "metadata": {
    "scrolled": true
   },
   "outputs": [
    {
     "data": {
      "text/plain": [
       "7938     6037101110\n",
       "14686    6037101122\n",
       "26595    6037101210\n",
       "21812    6037101220\n",
       "22840    6037101300\n",
       "28589    6037101400\n",
       "3636     6037102103\n",
       "24987    6037102104\n",
       "17790    6037102105\n",
       "20369    6037102107\n",
       "1296     6037103101\n",
       "26009    6037103102\n",
       "13962    6037103200\n",
       "9098     6037103300\n",
       "7429     6037103400\n",
       "3678     6037104103\n",
       "6952     6037104105\n",
       "7679     6037104108\n",
       "26420    6037104124\n",
       "24751    6037104201\n",
       "11622    6037104203\n",
       "8870     6037104204\n",
       "10369    6037104310\n",
       "18072    6037104320\n",
       "17114    6037104401\n",
       "22442    6037104403\n",
       "22867    6037104404\n",
       "15674    6037104500\n",
       "7657     6037104610\n",
       "13105    6037104620\n",
       "            ...    \n",
       "11796    6037294900\n",
       "18871    6037295103\n",
       "938      6037296210\n",
       "23870    6037296220\n",
       "24165    6037296300\n",
       "2833     6037296401\n",
       "12162    6037296402\n",
       "23675    6037296500\n",
       "5897     6037296600\n",
       "28025    6037296901\n",
       "3401     6037296902\n",
       "4286     6037297000\n",
       "1683     6037297110\n",
       "5809     6037297120\n",
       "27808    6037297201\n",
       "1177     6037297202\n",
       "5314     6037297300\n",
       "11185    6037297400\n",
       "10394    6037297500\n",
       "18884    6037297601\n",
       "22874    6037297602\n",
       "4550     6037800204\n",
       "11317    6037930401\n",
       "23075    6037980008\n",
       "26735    6037980010\n",
       "25000    6037980014\n",
       "22077    6037980015\n",
       "3177     6037980019\n",
       "24171    6037980024\n",
       "7864     6037980031\n",
       "Name: TractFIPS, Length: 994, dtype: int64"
      ]
     },
     "execution_count": 27,
     "metadata": {},
     "output_type": "execute_result"
    }
   ],
   "source": [
    "target = la_df.sort_values(by=\"TractFIPS\")\n",
    "target.TractFIPS"
   ]
  },
  {
   "cell_type": "code",
   "execution_count": null,
   "metadata": {},
   "outputs": [],
   "source": [
    "# Check outstanding rows\n",
    "s = set(target['TractFIPS']).symmetric_difference(set(X['TractFIPS']))\n",
    "s"
   ]
  },
  {
   "cell_type": "code",
   "execution_count": 28,
   "metadata": {},
   "outputs": [],
   "source": [
    "target = target[target.TractFIPS != 6037930401]"
   ]
  },
  {
   "cell_type": "code",
   "execution_count": 32,
   "metadata": {},
   "outputs": [],
   "source": [
    "y = target.Data_Value"
   ]
  },
  {
   "cell_type": "markdown",
   "metadata": {},
   "source": [
    "## Train on LA and test on LA"
   ]
  },
  {
   "cell_type": "code",
   "execution_count": 33,
   "metadata": {},
   "outputs": [],
   "source": [
    "X_train, X_test, y_train, y_test = train_test_split(X, y, test_size=0.2)"
   ]
  },
  {
   "cell_type": "code",
   "execution_count": 34,
   "metadata": {},
   "outputs": [
    {
     "name": "stdout",
     "output_type": "stream",
     "text": [
      "12677.515540286813 [ 7.86229992e-04 -3.77012247e-02  5.05105994e-03 ...  5.83115275e-02\n",
      "  8.81374536e-02 -2.09773742e-06]\n"
     ]
    }
   ],
   "source": [
    "# LR\n",
    "lr_model = LinearRegression()\n",
    "lr_model.fit(X_train, y_train)\n",
    "\n",
    "# SVR\n",
    "svr_model = SVR(gamma='scale', C=1.0, epsilon=0.2)\n",
    "svr_model.fit(X_train, y_train)\n",
    "\n",
    "print(lr_model.intercept_, lr_model.coef_)"
   ]
  },
  {
   "cell_type": "code",
   "execution_count": 35,
   "metadata": {},
   "outputs": [],
   "source": [
    "y_pred_lr = lr_model.predict(X_test)\n",
    "y_pred_svr = svr_model.predict(X_test)"
   ]
  },
  {
   "cell_type": "code",
   "execution_count": 36,
   "metadata": {},
   "outputs": [
    {
     "data": {
      "text/html": [
       "<div>\n",
       "<style scoped>\n",
       "    .dataframe tbody tr th:only-of-type {\n",
       "        vertical-align: middle;\n",
       "    }\n",
       "\n",
       "    .dataframe tbody tr th {\n",
       "        vertical-align: top;\n",
       "    }\n",
       "\n",
       "    .dataframe thead th {\n",
       "        text-align: right;\n",
       "    }\n",
       "</style>\n",
       "<table border=\"1\" class=\"dataframe\">\n",
       "  <thead>\n",
       "    <tr style=\"text-align: right;\">\n",
       "      <th></th>\n",
       "      <th>Actual</th>\n",
       "      <th>Predicted</th>\n",
       "    </tr>\n",
       "  </thead>\n",
       "  <tbody>\n",
       "    <tr>\n",
       "      <th>15434</th>\n",
       "      <td>13.7</td>\n",
       "      <td>11.274867</td>\n",
       "    </tr>\n",
       "    <tr>\n",
       "      <th>1899</th>\n",
       "      <td>14.6</td>\n",
       "      <td>16.752663</td>\n",
       "    </tr>\n",
       "    <tr>\n",
       "      <th>24987</th>\n",
       "      <td>10.7</td>\n",
       "      <td>14.237731</td>\n",
       "    </tr>\n",
       "    <tr>\n",
       "      <th>20381</th>\n",
       "      <td>8.8</td>\n",
       "      <td>9.051664</td>\n",
       "    </tr>\n",
       "    <tr>\n",
       "      <th>18056</th>\n",
       "      <td>10.8</td>\n",
       "      <td>11.671513</td>\n",
       "    </tr>\n",
       "  </tbody>\n",
       "</table>\n",
       "</div>"
      ],
      "text/plain": [
       "       Actual  Predicted\n",
       "15434    13.7  11.274867\n",
       "1899     14.6  16.752663\n",
       "24987    10.7  14.237731\n",
       "20381     8.8   9.051664\n",
       "18056    10.8  11.671513"
      ]
     },
     "execution_count": 36,
     "metadata": {},
     "output_type": "execute_result"
    }
   ],
   "source": [
    "true_pred_df = pd.DataFrame({'Actual': y_test, 'Predicted': y_pred_lr})\n",
    "true_pred_df.head()"
   ]
  },
  {
   "cell_type": "code",
   "execution_count": 37,
   "metadata": {},
   "outputs": [
    {
     "name": "stdout",
     "output_type": "stream",
     "text": [
      "Mean Absolute Error: 2.559877612140193\n",
      "Mean Squared Error: 10.229721967079504\n",
      "Root Mean Squared Error: 3.198393654176969\n"
     ]
    }
   ],
   "source": [
    "print('Mean Absolute Error:', metrics.mean_absolute_error(y_test, y_pred_lr))  \n",
    "print('Mean Squared Error:', metrics.mean_squared_error(y_test, y_pred_lr))  \n",
    "print('Root Mean Squared Error:', np.sqrt(metrics.mean_squared_error(y_test, y_pred_lr)))"
   ]
  },
  {
   "cell_type": "code",
   "execution_count": 38,
   "metadata": {},
   "outputs": [
    {
     "data": {
      "text/html": [
       "<div>\n",
       "<style scoped>\n",
       "    .dataframe tbody tr th:only-of-type {\n",
       "        vertical-align: middle;\n",
       "    }\n",
       "\n",
       "    .dataframe tbody tr th {\n",
       "        vertical-align: top;\n",
       "    }\n",
       "\n",
       "    .dataframe thead th {\n",
       "        text-align: right;\n",
       "    }\n",
       "</style>\n",
       "<table border=\"1\" class=\"dataframe\">\n",
       "  <thead>\n",
       "    <tr style=\"text-align: right;\">\n",
       "      <th></th>\n",
       "      <th>Actual</th>\n",
       "      <th>Predicted</th>\n",
       "    </tr>\n",
       "  </thead>\n",
       "  <tbody>\n",
       "    <tr>\n",
       "      <th>15434</th>\n",
       "      <td>13.7</td>\n",
       "      <td>13.059802</td>\n",
       "    </tr>\n",
       "    <tr>\n",
       "      <th>1899</th>\n",
       "      <td>14.6</td>\n",
       "      <td>13.279165</td>\n",
       "    </tr>\n",
       "    <tr>\n",
       "      <th>24987</th>\n",
       "      <td>10.7</td>\n",
       "      <td>12.374142</td>\n",
       "    </tr>\n",
       "    <tr>\n",
       "      <th>20381</th>\n",
       "      <td>8.8</td>\n",
       "      <td>13.288148</td>\n",
       "    </tr>\n",
       "    <tr>\n",
       "      <th>18056</th>\n",
       "      <td>10.8</td>\n",
       "      <td>12.452103</td>\n",
       "    </tr>\n",
       "  </tbody>\n",
       "</table>\n",
       "</div>"
      ],
      "text/plain": [
       "       Actual  Predicted\n",
       "15434    13.7  13.059802\n",
       "1899     14.6  13.279165\n",
       "24987    10.7  12.374142\n",
       "20381     8.8  13.288148\n",
       "18056    10.8  12.452103"
      ]
     },
     "execution_count": 38,
     "metadata": {},
     "output_type": "execute_result"
    }
   ],
   "source": [
    "true_pred_df_svr = pd.DataFrame({'Actual': y_test, 'Predicted': y_pred_svr})\n",
    "true_pred_df_svr.head()"
   ]
  },
  {
   "cell_type": "code",
   "execution_count": 39,
   "metadata": {},
   "outputs": [
    {
     "name": "stdout",
     "output_type": "stream",
     "text": [
      "Mean Absolute Error: 2.7604386428704415\n",
      "Mean Squared Error: 10.378346766053545\n",
      "Root Mean Squared Error: 3.2215441586378333\n"
     ]
    }
   ],
   "source": [
    "print('Mean Absolute Error:', metrics.mean_absolute_error(y_test, y_pred_svr))  \n",
    "print('Mean Squared Error:', metrics.mean_squared_error(y_test, y_pred_svr))  \n",
    "print('Root Mean Squared Error:', np.sqrt(metrics.mean_squared_error(y_test, y_pred_svr)))"
   ]
  },
  {
   "cell_type": "markdown",
   "metadata": {},
   "source": [
    "### K-fold"
   ]
  },
  {
   "cell_type": "code",
   "execution_count": 40,
   "metadata": {},
   "outputs": [],
   "source": [
    "kfold = KFold(n_splits=5, random_state=42)\n",
    "results = cross_val_score(lr_model, X, y, cv=kfold, scoring='r2')"
   ]
  },
  {
   "cell_type": "code",
   "execution_count": 41,
   "metadata": {},
   "outputs": [
    {
     "name": "stdout",
     "output_type": "stream",
     "text": [
      "-0.8666738778252224\n"
     ]
    }
   ],
   "source": [
    "print(results.mean())"
   ]
  },
  {
   "cell_type": "code",
   "execution_count": 42,
   "metadata": {},
   "outputs": [
    {
     "name": "stdout",
     "output_type": "stream",
     "text": [
      "-0.47754928802915064\n"
     ]
    }
   ],
   "source": [
    "kfold = KFold(n_splits=5, random_state=42)\n",
    "results = cross_val_score(svr_model, X, y, cv=kfold, scoring='r2')\n",
    "print(results.mean())"
   ]
  },
  {
   "cell_type": "code",
   "execution_count": null,
   "metadata": {},
   "outputs": [],
   "source": []
  }
 ],
 "metadata": {
  "kernelspec": {
   "display_name": "Python 3",
   "language": "python",
   "name": "python3"
  },
  "language_info": {
   "codemirror_mode": {
    "name": "ipython",
    "version": 3
   },
   "file_extension": ".py",
   "mimetype": "text/x-python",
   "name": "python",
   "nbconvert_exporter": "python",
   "pygments_lexer": "ipython3",
   "version": "3.7.1"
  }
 },
 "nbformat": 4,
 "nbformat_minor": 2
}
