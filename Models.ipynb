{
 "cells": [
  {
   "cell_type": "markdown",
   "metadata": {},
   "source": [
    "## Models evaluation"
   ]
  },
  {
   "cell_type": "markdown",
   "metadata": {},
   "source": [
    "This notebook runs different models on image features extracted from satellite images using the CNN. Models regress to predict prevalence of mental health issues within cities."
   ]
  },
  {
   "cell_type": "code",
   "execution_count": 2,
   "metadata": {},
   "outputs": [],
   "source": [
    "import pandas as pd\n",
    "import numpy as np\n",
    "from keras.applications.vgg16 import VGG16, preprocess_input\n",
    "from keras.preprocessing import image\n",
    "from keras.models import Model, Sequential\n",
    "import os, sys\n",
    "import glob\n",
    "import matplotlib.pyplot as plt\n",
    "from PIL import Image\n",
    "from PIL import ImageOps\n",
    "import csv"
   ]
  },
  {
   "cell_type": "code",
   "execution_count": 77,
   "metadata": {},
   "outputs": [
    {
     "name": "stdout",
     "output_type": "stream",
     "text": [
      "(993, 4096)\n",
      "(994, 14)\n"
     ]
    },
    {
     "name": "stderr",
     "output_type": "stream",
     "text": [
      "/anaconda3/lib/python3.7/site-packages/ipykernel_launcher.py:8: FutureWarning: from_csv is deprecated. Please use read_csv(...) instead. Note that some of the default arguments are different, so please refer to the documentation for from_csv when changing your function calls\n",
      "  \n"
     ]
    }
   ],
   "source": [
    "# Los Angeles\n",
    "\n",
    "# Loading VGG extracted features\n",
    "x_lacity = np.loadtxt('./pretrained_output/X_lacity_fc7_vggf_z18.txt')\n",
    "print(x_lacity.shape)\n",
    "\n",
    "# Loading target variables\n",
    "la_df = pd.DataFrame.from_csv('./data/lacity/500_cities_lacity_mental_health.csv')\n",
    "print(la_df.shape)"
   ]
  },
  {
   "cell_type": "code",
   "execution_count": 4,
   "metadata": {
    "scrolled": true
   },
   "outputs": [
    {
     "name": "stdout",
     "output_type": "stream",
     "text": [
      "WARNING:tensorflow:From /anaconda3/lib/python3.7/site-packages/tensorflow/python/framework/op_def_library.py:263: colocate_with (from tensorflow.python.framework.ops) is deprecated and will be removed in a future version.\n",
      "Instructions for updating:\n",
      "Colocations handled automatically by placer.\n"
     ]
    }
   ],
   "source": [
    "vgg16_model = VGG16(weights='imagenet', include_top=True)\n"
   ]
  },
  {
   "cell_type": "code",
   "execution_count": null,
   "metadata": {
    "scrolled": true
   },
   "outputs": [],
   "source": [
    "vgg16_model.summary()"
   ]
  },
  {
   "cell_type": "code",
   "execution_count": null,
   "metadata": {},
   "outputs": [],
   "source": [
    "'''\n",
    "Image processing helper function\n",
    "'''\n",
    "#Size of images\n",
    "IMAGE_WIDTH = 224\n",
    "IMAGE_HEIGHT = 224\n",
    "imgdir = \"./data/lacity/img/*png\"\n",
    "\n",
    "def transform_img(img, img_width=IMAGE_WIDTH, img_height=IMAGE_HEIGHT):\n",
    "\n",
    "    r,g,b = img.split()\n",
    "    #Histogram Equalization\n",
    "    # img[:, :, 0] = cv2.equalizeHist(img[:, :, 0])\n",
    "    # img[:, :, 1] = cv2.equalizeHist(img[:, :, 1])\n",
    "    # img[:, :, 2] = cv2.equalizeHist(img[:, :, 2])\n",
    "    rnew = ImageOps.equalize(r)\n",
    "    gnew = ImageOps.equalize(g)\n",
    "    bnew = ImageOps.equalize(b)\n",
    "\n",
    "    #Image Resizing\n",
    "    # img = cv2.resize(img, (img_width, img_height), interpolation = cv2.INTER_CUBIC)\n",
    "    img = Image.merge(\"RGB\", (rnew,gnew,bnew))\n",
    "    img = img.resize((img_width, img_height), resample = Image.BICUBIC)\n",
    "    return img\n",
    "\n",
    "def vis_square(data):\n",
    "    data = (data - data.min()) / (data.max() - data.min())\n",
    "    n = int(np.ceil(np.sqrt(data.shape[0])))\n",
    "    padding = (((0, n ** 2 - data.shape[0]),\n",
    "               (0, 1), (0, 1))\n",
    "               + ((0, 0),) * (data.ndim - 3))\n",
    "    data = np.pad(data, padding, mode = 'constant', constant_values = 1)\n",
    "\n",
    "    data = data.reshape((n, n) + data.shape[1:]).transpose((0,2,1,3) + tuple(range(4, data.ndim + 1)))\n",
    "    data = data.reshape((n * data.shape[1], n * data.shape[3]) + data.shape[4:])\n",
    "    return(data)"
   ]
  },
  {
   "cell_type": "markdown",
   "metadata": {},
   "source": [
    "## Process images"
   ]
  },
  {
   "cell_type": "code",
   "execution_count": null,
   "metadata": {},
   "outputs": [],
   "source": [
    "feature_extract_model = Model(inputs=vgg16_model.input,\n",
    "                              outputs=vgg16_model.get_layer('fc2').output)"
   ]
  },
  {
   "cell_type": "code",
   "execution_count": null,
   "metadata": {},
   "outputs": [],
   "source": [
    "test_img_paths = [img_path for img_path in glob.glob(imgdir)]\n",
    "\n",
    "# Extract features\n",
    "raw_features = []\n",
    "tractFIPS = []\n",
    "finalimgs = []\n",
    "count = 0\n",
    "split = 0\n",
    "outdir = './out'\n",
    "city = 'lacity'"
   ]
  },
  {
   "cell_type": "code",
   "execution_count": null,
   "metadata": {},
   "outputs": [],
   "source": [
    "for img_path in test_img_paths:\n",
    "    img = image.load_img(img_path, target_size=(224,224))\n",
    "    img = transform_img(img, img_width = IMAGE_WIDTH, img_height = IMAGE_HEIGHT)\n",
    "    img_data = image.img_to_array(img)\n",
    "    img_data = np.expand_dims(img_data, axis=0)\n",
    "    img_data = preprocess_input(img_data)\n",
    "    features = feature_extract_model.predict(img_data)\n",
    "    raw_features.append(features)\n",
    "    finalimgs.append(img_path.split()[-1])\n",
    "    tractFIPS.append(img_path.split('_')[1])\n",
    "    count += 1\n",
    "\n",
    "raw_features = np.vstack(raw_features)\n",
    "np.save(os.path.join(outdir, city, 'features_tracts_fc7_z18_vgg_' + str(split) + '.npy'), raw_features)\n",
    "np.save(os.path.join(outdir, city, 'filenames_tracts_fc7_z18_vgg_' + str(split) + '.npy'), finalimgs)"
   ]
  },
  {
   "cell_type": "code",
   "execution_count": null,
   "metadata": {},
   "outputs": [],
   "source": [
    "test_df = pd.DataFrame(raw_features)\n",
    "tractFIPS = [row.lstrip('0') for row in tractFIPS]\n",
    "test_df['TractFIPS'] = tractFIPS"
   ]
  },
  {
   "cell_type": "code",
   "execution_count": null,
   "metadata": {},
   "outputs": [],
   "source": [
    "la_df.TractFIPS = la_df.TractFIPS.astype('O')"
   ]
  },
  {
   "cell_type": "code",
   "execution_count": null,
   "metadata": {},
   "outputs": [],
   "source": [
    "test_df.to_csv('la_vgg.csv')"
   ]
  },
  {
   "cell_type": "markdown",
   "metadata": {},
   "source": [
    "## Visualizing layers"
   ]
  },
  {
   "cell_type": "code",
   "execution_count": null,
   "metadata": {},
   "outputs": [],
   "source": [
    "from keras.utils import plot_model\n",
    "!conda install pydot"
   ]
  },
  {
   "cell_type": "code",
   "execution_count": null,
   "metadata": {},
   "outputs": [],
   "source": [
    "img = image.load_img(test_img_paths[0], target_size=(224,224))\n",
    "img = transform_img(img, img_width = IMAGE_WIDTH, img_height = IMAGE_HEIGHT)\n",
    "img_data = image.img_to_array(img)\n",
    "img_data = np.expand_dims(img_data, axis=0)\n",
    "img_data = preprocess_input(img_data)\n",
    "features = feature_extract_model.predict(img_data)"
   ]
  },
  {
   "cell_type": "code",
   "execution_count": null,
   "metadata": {},
   "outputs": [],
   "source": [
    "plot_model(feature_extract_model)"
   ]
  },
  {
   "cell_type": "markdown",
   "metadata": {},
   "source": [
    "### Checking to see 2 dataframes are in order"
   ]
  },
  {
   "cell_type": "code",
   "execution_count": 5,
   "metadata": {},
   "outputs": [
    {
     "ename": "NameError",
     "evalue": "name 'test_df' is not defined",
     "output_type": "error",
     "traceback": [
      "\u001b[0;31m---------------------------------------------------------------------------\u001b[0m",
      "\u001b[0;31mNameError\u001b[0m                                 Traceback (most recent call last)",
      "\u001b[0;32m<ipython-input-5-df7af7cd3667>\u001b[0m in \u001b[0;36m<module>\u001b[0;34m\u001b[0m\n\u001b[0;32m----> 1\u001b[0;31m \u001b[0mtest_df\u001b[0m \u001b[0;34m=\u001b[0m \u001b[0mtest_df\u001b[0m\u001b[0;34m.\u001b[0m\u001b[0msort_values\u001b[0m\u001b[0;34m(\u001b[0m\u001b[0mby\u001b[0m\u001b[0;34m=\u001b[0m\u001b[0;34m[\u001b[0m\u001b[0;34m\"TractFIPS\"\u001b[0m\u001b[0;34m]\u001b[0m\u001b[0;34m)\u001b[0m\u001b[0;34m\u001b[0m\u001b[0;34m\u001b[0m\u001b[0m\n\u001b[0m",
      "\u001b[0;31mNameError\u001b[0m: name 'test_df' is not defined"
     ]
    }
   ],
   "source": [
    "test_df = test_df.sort_values(by=[\"TractFIPS\"])"
   ]
  },
  {
   "cell_type": "code",
   "execution_count": null,
   "metadata": {},
   "outputs": [],
   "source": [
    "la_df = la_df.sort_values(by=[\"TractFIPS\"])"
   ]
  },
  {
   "cell_type": "code",
   "execution_count": null,
   "metadata": {
    "scrolled": true
   },
   "outputs": [],
   "source": [
    "test_df.TractFIPS"
   ]
  },
  {
   "cell_type": "code",
   "execution_count": null,
   "metadata": {
    "scrolled": true
   },
   "outputs": [],
   "source": [
    "la_df.TractFIPS"
   ]
  },
  {
   "cell_type": "markdown",
   "metadata": {},
   "source": [
    "## Training regression model"
   ]
  },
  {
   "cell_type": "code",
   "execution_count": 78,
   "metadata": {
    "scrolled": true
   },
   "outputs": [
    {
     "name": "stderr",
     "output_type": "stream",
     "text": [
      "/anaconda3/lib/python3.7/site-packages/ipykernel_launcher.py:6: FutureWarning: from_csv is deprecated. Please use read_csv(...) instead. Note that some of the default arguments are different, so please refer to the documentation for from_csv when changing your function calls\n",
      "  \n"
     ]
    }
   ],
   "source": [
    "from sklearn.model_selection import train_test_split, KFold, cross_val_score\n",
    "from sklearn.linear_model import LinearRegression, RidgeCV, LassoCV, Ridge, Lasso\n",
    "from sklearn import metrics\n",
    "from sklearn.svm import SVR\n",
    "from scipy.stats.stats import pearsonr\n",
    "X = pd.DataFrame.from_csv('la_vgg.csv').sort_values(by=['TractFIPS']).reset_index().drop([\"index\"], axis=1)"
   ]
  },
  {
   "cell_type": "code",
   "execution_count": 79,
   "metadata": {},
   "outputs": [
    {
     "data": {
      "text/html": [
       "<div>\n",
       "<style scoped>\n",
       "    .dataframe tbody tr th:only-of-type {\n",
       "        vertical-align: middle;\n",
       "    }\n",
       "\n",
       "    .dataframe tbody tr th {\n",
       "        vertical-align: top;\n",
       "    }\n",
       "\n",
       "    .dataframe thead th {\n",
       "        text-align: right;\n",
       "    }\n",
       "</style>\n",
       "<table border=\"1\" class=\"dataframe\">\n",
       "  <thead>\n",
       "    <tr style=\"text-align: right;\">\n",
       "      <th></th>\n",
       "      <th>0</th>\n",
       "      <th>1</th>\n",
       "      <th>2</th>\n",
       "      <th>3</th>\n",
       "      <th>4</th>\n",
       "      <th>5</th>\n",
       "      <th>6</th>\n",
       "      <th>7</th>\n",
       "      <th>8</th>\n",
       "      <th>9</th>\n",
       "      <th>...</th>\n",
       "      <th>4087</th>\n",
       "      <th>4088</th>\n",
       "      <th>4089</th>\n",
       "      <th>4090</th>\n",
       "      <th>4091</th>\n",
       "      <th>4092</th>\n",
       "      <th>4093</th>\n",
       "      <th>4094</th>\n",
       "      <th>4095</th>\n",
       "      <th>TractFIPS</th>\n",
       "    </tr>\n",
       "  </thead>\n",
       "  <tbody>\n",
       "    <tr>\n",
       "      <th>0</th>\n",
       "      <td>1.535566</td>\n",
       "      <td>1.229616</td>\n",
       "      <td>0.658255</td>\n",
       "      <td>1.507081</td>\n",
       "      <td>2.624575</td>\n",
       "      <td>1.061752</td>\n",
       "      <td>3.536164</td>\n",
       "      <td>-0.0</td>\n",
       "      <td>1.219561</td>\n",
       "      <td>-0.0</td>\n",
       "      <td>...</td>\n",
       "      <td>-0.0</td>\n",
       "      <td>-0.0</td>\n",
       "      <td>-0.0</td>\n",
       "      <td>-0.0</td>\n",
       "      <td>2.447415</td>\n",
       "      <td>0.510135</td>\n",
       "      <td>-0.000000</td>\n",
       "      <td>-0.000000</td>\n",
       "      <td>-0.000000</td>\n",
       "      <td>6037101110</td>\n",
       "    </tr>\n",
       "    <tr>\n",
       "      <th>1</th>\n",
       "      <td>1.408049</td>\n",
       "      <td>3.885460</td>\n",
       "      <td>0.551711</td>\n",
       "      <td>-0.000000</td>\n",
       "      <td>8.767652</td>\n",
       "      <td>-0.000000</td>\n",
       "      <td>0.880536</td>\n",
       "      <td>-0.0</td>\n",
       "      <td>-0.000000</td>\n",
       "      <td>-0.0</td>\n",
       "      <td>...</td>\n",
       "      <td>-0.0</td>\n",
       "      <td>-0.0</td>\n",
       "      <td>-0.0</td>\n",
       "      <td>-0.0</td>\n",
       "      <td>0.288755</td>\n",
       "      <td>1.299185</td>\n",
       "      <td>2.104688</td>\n",
       "      <td>-0.000000</td>\n",
       "      <td>0.312325</td>\n",
       "      <td>6037101122</td>\n",
       "    </tr>\n",
       "    <tr>\n",
       "      <th>2</th>\n",
       "      <td>1.340590</td>\n",
       "      <td>5.633620</td>\n",
       "      <td>2.135561</td>\n",
       "      <td>1.388060</td>\n",
       "      <td>4.021668</td>\n",
       "      <td>1.746387</td>\n",
       "      <td>0.374989</td>\n",
       "      <td>-0.0</td>\n",
       "      <td>1.078838</td>\n",
       "      <td>-0.0</td>\n",
       "      <td>...</td>\n",
       "      <td>-0.0</td>\n",
       "      <td>-0.0</td>\n",
       "      <td>-0.0</td>\n",
       "      <td>-0.0</td>\n",
       "      <td>1.080878</td>\n",
       "      <td>1.162551</td>\n",
       "      <td>-0.000000</td>\n",
       "      <td>-0.000000</td>\n",
       "      <td>-0.000000</td>\n",
       "      <td>6037101210</td>\n",
       "    </tr>\n",
       "    <tr>\n",
       "      <th>3</th>\n",
       "      <td>4.680807</td>\n",
       "      <td>2.878426</td>\n",
       "      <td>1.926969</td>\n",
       "      <td>-0.000000</td>\n",
       "      <td>3.836767</td>\n",
       "      <td>-0.000000</td>\n",
       "      <td>1.900073</td>\n",
       "      <td>-0.0</td>\n",
       "      <td>-0.000000</td>\n",
       "      <td>-0.0</td>\n",
       "      <td>...</td>\n",
       "      <td>-0.0</td>\n",
       "      <td>-0.0</td>\n",
       "      <td>-0.0</td>\n",
       "      <td>-0.0</td>\n",
       "      <td>3.632332</td>\n",
       "      <td>1.926144</td>\n",
       "      <td>-0.000000</td>\n",
       "      <td>3.650725</td>\n",
       "      <td>-0.000000</td>\n",
       "      <td>6037101220</td>\n",
       "    </tr>\n",
       "    <tr>\n",
       "      <th>4</th>\n",
       "      <td>2.665981</td>\n",
       "      <td>6.372698</td>\n",
       "      <td>1.211612</td>\n",
       "      <td>1.325631</td>\n",
       "      <td>4.293569</td>\n",
       "      <td>-0.000000</td>\n",
       "      <td>2.716865</td>\n",
       "      <td>-0.0</td>\n",
       "      <td>-0.000000</td>\n",
       "      <td>-0.0</td>\n",
       "      <td>...</td>\n",
       "      <td>-0.0</td>\n",
       "      <td>-0.0</td>\n",
       "      <td>-0.0</td>\n",
       "      <td>-0.0</td>\n",
       "      <td>2.999381</td>\n",
       "      <td>-0.000000</td>\n",
       "      <td>-0.000000</td>\n",
       "      <td>-0.000000</td>\n",
       "      <td>-0.000000</td>\n",
       "      <td>6037101300</td>\n",
       "    </tr>\n",
       "  </tbody>\n",
       "</table>\n",
       "<p>5 rows × 4097 columns</p>\n",
       "</div>"
      ],
      "text/plain": [
       "          0         1         2         3         4         5         6    7  \\\n",
       "0  1.535566  1.229616  0.658255  1.507081  2.624575  1.061752  3.536164 -0.0   \n",
       "1  1.408049  3.885460  0.551711 -0.000000  8.767652 -0.000000  0.880536 -0.0   \n",
       "2  1.340590  5.633620  2.135561  1.388060  4.021668  1.746387  0.374989 -0.0   \n",
       "3  4.680807  2.878426  1.926969 -0.000000  3.836767 -0.000000  1.900073 -0.0   \n",
       "4  2.665981  6.372698  1.211612  1.325631  4.293569 -0.000000  2.716865 -0.0   \n",
       "\n",
       "          8    9     ...      4087  4088  4089  4090      4091      4092  \\\n",
       "0  1.219561 -0.0     ...      -0.0  -0.0  -0.0  -0.0  2.447415  0.510135   \n",
       "1 -0.000000 -0.0     ...      -0.0  -0.0  -0.0  -0.0  0.288755  1.299185   \n",
       "2  1.078838 -0.0     ...      -0.0  -0.0  -0.0  -0.0  1.080878  1.162551   \n",
       "3 -0.000000 -0.0     ...      -0.0  -0.0  -0.0  -0.0  3.632332  1.926144   \n",
       "4 -0.000000 -0.0     ...      -0.0  -0.0  -0.0  -0.0  2.999381 -0.000000   \n",
       "\n",
       "       4093      4094      4095   TractFIPS  \n",
       "0 -0.000000 -0.000000 -0.000000  6037101110  \n",
       "1  2.104688 -0.000000  0.312325  6037101122  \n",
       "2 -0.000000 -0.000000 -0.000000  6037101210  \n",
       "3 -0.000000  3.650725 -0.000000  6037101220  \n",
       "4 -0.000000 -0.000000 -0.000000  6037101300  \n",
       "\n",
       "[5 rows x 4097 columns]"
      ]
     },
     "execution_count": 79,
     "metadata": {},
     "output_type": "execute_result"
    }
   ],
   "source": [
    "X.head()"
   ]
  },
  {
   "cell_type": "code",
   "execution_count": 80,
   "metadata": {
    "scrolled": true
   },
   "outputs": [
    {
     "data": {
      "text/html": [
       "<div>\n",
       "<style scoped>\n",
       "    .dataframe tbody tr th:only-of-type {\n",
       "        vertical-align: middle;\n",
       "    }\n",
       "\n",
       "    .dataframe tbody tr th {\n",
       "        vertical-align: top;\n",
       "    }\n",
       "\n",
       "    .dataframe thead th {\n",
       "        text-align: right;\n",
       "    }\n",
       "</style>\n",
       "<table border=\"1\" class=\"dataframe\">\n",
       "  <thead>\n",
       "    <tr style=\"text-align: right;\">\n",
       "      <th></th>\n",
       "      <th>Year</th>\n",
       "      <th>StateAbbr</th>\n",
       "      <th>StateDesc</th>\n",
       "      <th>CityName</th>\n",
       "      <th>GeographicLevel</th>\n",
       "      <th>UniqueID</th>\n",
       "      <th>DataValueTypeID</th>\n",
       "      <th>Data_Value</th>\n",
       "      <th>Low_Confidence_Limit</th>\n",
       "      <th>High_Confidence_Limit</th>\n",
       "      <th>PopulationCount</th>\n",
       "      <th>GeoLocation</th>\n",
       "      <th>CityFIPS</th>\n",
       "      <th>TractFIPS</th>\n",
       "    </tr>\n",
       "  </thead>\n",
       "  <tbody>\n",
       "    <tr>\n",
       "      <th>0</th>\n",
       "      <td>2016</td>\n",
       "      <td>CA</td>\n",
       "      <td>California</td>\n",
       "      <td>Los Angeles</td>\n",
       "      <td>Census Tract</td>\n",
       "      <td>0644000-06037101110</td>\n",
       "      <td>CrdPrv</td>\n",
       "      <td>13.8</td>\n",
       "      <td>12.6</td>\n",
       "      <td>15.1</td>\n",
       "      <td>4,731</td>\n",
       "      <td>(34.2594736124, -118.292986888)</td>\n",
       "      <td>644000.0</td>\n",
       "      <td>6037101110</td>\n",
       "    </tr>\n",
       "    <tr>\n",
       "      <th>1</th>\n",
       "      <td>2016</td>\n",
       "      <td>CA</td>\n",
       "      <td>California</td>\n",
       "      <td>Los Angeles</td>\n",
       "      <td>Census Tract</td>\n",
       "      <td>0644000-06037101122</td>\n",
       "      <td>CrdPrv</td>\n",
       "      <td>10.7</td>\n",
       "      <td>9.7</td>\n",
       "      <td>11.7</td>\n",
       "      <td>3,664</td>\n",
       "      <td>(34.2677215381, -118.290147139)</td>\n",
       "      <td>644000.0</td>\n",
       "      <td>6037101122</td>\n",
       "    </tr>\n",
       "    <tr>\n",
       "      <th>2</th>\n",
       "      <td>2016</td>\n",
       "      <td>CA</td>\n",
       "      <td>California</td>\n",
       "      <td>Los Angeles</td>\n",
       "      <td>Census Tract</td>\n",
       "      <td>0644000-06037101210</td>\n",
       "      <td>CrdPrv</td>\n",
       "      <td>15.7</td>\n",
       "      <td>14.3</td>\n",
       "      <td>16.9</td>\n",
       "      <td>5,990</td>\n",
       "      <td>(34.2529723884, -118.29073093)</td>\n",
       "      <td>644000.0</td>\n",
       "      <td>6037101210</td>\n",
       "    </tr>\n",
       "    <tr>\n",
       "      <th>3</th>\n",
       "      <td>2016</td>\n",
       "      <td>CA</td>\n",
       "      <td>California</td>\n",
       "      <td>Los Angeles</td>\n",
       "      <td>Census Tract</td>\n",
       "      <td>0644000-06037101220</td>\n",
       "      <td>CrdPrv</td>\n",
       "      <td>14.1</td>\n",
       "      <td>12.9</td>\n",
       "      <td>15.3</td>\n",
       "      <td>3,363</td>\n",
       "      <td>(34.251608492, -118.281632269)</td>\n",
       "      <td>644000.0</td>\n",
       "      <td>6037101220</td>\n",
       "    </tr>\n",
       "    <tr>\n",
       "      <th>4</th>\n",
       "      <td>2016</td>\n",
       "      <td>CA</td>\n",
       "      <td>California</td>\n",
       "      <td>Los Angeles</td>\n",
       "      <td>Census Tract</td>\n",
       "      <td>0644000-06037101300</td>\n",
       "      <td>CrdPrv</td>\n",
       "      <td>11.0</td>\n",
       "      <td>9.8</td>\n",
       "      <td>12.3</td>\n",
       "      <td>4,199</td>\n",
       "      <td>(34.2487781261, -118.270998916)</td>\n",
       "      <td>644000.0</td>\n",
       "      <td>6037101300</td>\n",
       "    </tr>\n",
       "  </tbody>\n",
       "</table>\n",
       "</div>"
      ],
      "text/plain": [
       "   Year StateAbbr   StateDesc     CityName GeographicLevel  \\\n",
       "0  2016        CA  California  Los Angeles    Census Tract   \n",
       "1  2016        CA  California  Los Angeles    Census Tract   \n",
       "2  2016        CA  California  Los Angeles    Census Tract   \n",
       "3  2016        CA  California  Los Angeles    Census Tract   \n",
       "4  2016        CA  California  Los Angeles    Census Tract   \n",
       "\n",
       "              UniqueID DataValueTypeID  Data_Value  Low_Confidence_Limit  \\\n",
       "0  0644000-06037101110          CrdPrv        13.8                  12.6   \n",
       "1  0644000-06037101122          CrdPrv        10.7                   9.7   \n",
       "2  0644000-06037101210          CrdPrv        15.7                  14.3   \n",
       "3  0644000-06037101220          CrdPrv        14.1                  12.9   \n",
       "4  0644000-06037101300          CrdPrv        11.0                   9.8   \n",
       "\n",
       "   High_Confidence_Limit PopulationCount                      GeoLocation  \\\n",
       "0                   15.1           4,731  (34.2594736124, -118.292986888)   \n",
       "1                   11.7           3,664  (34.2677215381, -118.290147139)   \n",
       "2                   16.9           5,990   (34.2529723884, -118.29073093)   \n",
       "3                   15.3           3,363   (34.251608492, -118.281632269)   \n",
       "4                   12.3           4,199  (34.2487781261, -118.270998916)   \n",
       "\n",
       "   CityFIPS   TractFIPS  \n",
       "0  644000.0  6037101110  \n",
       "1  644000.0  6037101122  \n",
       "2  644000.0  6037101210  \n",
       "3  644000.0  6037101220  \n",
       "4  644000.0  6037101300  "
      ]
     },
     "execution_count": 80,
     "metadata": {},
     "output_type": "execute_result"
    }
   ],
   "source": [
    "target = la_df.sort_values(by=\"TractFIPS\").reset_index().drop([\"index\"], axis=1)\n",
    "target.head()"
   ]
  },
  {
   "cell_type": "code",
   "execution_count": 81,
   "metadata": {},
   "outputs": [
    {
     "data": {
      "text/plain": [
       "{6037930401}"
      ]
     },
     "execution_count": 81,
     "metadata": {},
     "output_type": "execute_result"
    }
   ],
   "source": [
    "# Check outstanding rows\n",
    "s = set(target['TractFIPS']).symmetric_difference(set(X['TractFIPS']))\n",
    "s"
   ]
  },
  {
   "cell_type": "code",
   "execution_count": 82,
   "metadata": {},
   "outputs": [],
   "source": [
    "target = target[target.TractFIPS != 6037930401]"
   ]
  },
  {
   "cell_type": "code",
   "execution_count": 83,
   "metadata": {},
   "outputs": [
    {
     "name": "stdout",
     "output_type": "stream",
     "text": [
      "(993, 14) (993, 4097)\n"
     ]
    }
   ],
   "source": [
    "print(target.shape, X.shape)"
   ]
  },
  {
   "cell_type": "code",
   "execution_count": 84,
   "metadata": {},
   "outputs": [],
   "source": [
    "y = target.Data_Value"
   ]
  },
  {
   "cell_type": "markdown",
   "metadata": {},
   "source": [
    "## Train on LA and test on LA"
   ]
  },
  {
   "cell_type": "code",
   "execution_count": 102,
   "metadata": {},
   "outputs": [],
   "source": [
    "X.to_csv(\"processed_la_VGG_X.csv\")"
   ]
  },
  {
   "cell_type": "code",
   "execution_count": 105,
   "metadata": {},
   "outputs": [],
   "source": [
    "target.to_csv(\"processed_la_VGG_Y.csv\")"
   ]
  },
  {
   "cell_type": "code",
   "execution_count": 85,
   "metadata": {},
   "outputs": [],
   "source": [
    "X = X.drop(['TractFIPS'], axis=1)"
   ]
  },
  {
   "cell_type": "code",
   "execution_count": 86,
   "metadata": {},
   "outputs": [],
   "source": [
    "X_train, X_test, y_train, y_test = train_test_split(X, y, test_size=0.2)"
   ]
  },
  {
   "cell_type": "code",
   "execution_count": 87,
   "metadata": {},
   "outputs": [
    {
     "name": "stdout",
     "output_type": "stream",
     "text": [
      "13.601589975513388 [ 0.02688559  0.02259937  0.10750992 ... -0.00982249 -0.03516909\n",
      "  0.20924499]\n"
     ]
    }
   ],
   "source": [
    "# LR\n",
    "lr_model = LinearRegression()\n",
    "lr_model.fit(X_train, y_train)\n",
    "\n",
    "# SVR\n",
    "svr_model = SVR(gamma='scale', C=1.0, epsilon=0.2)\n",
    "svr_model.fit(X_train, y_train)\n",
    "\n",
    "print(lr_model.intercept_, lr_model.coef_)"
   ]
  },
  {
   "cell_type": "code",
   "execution_count": 88,
   "metadata": {},
   "outputs": [],
   "source": [
    "y_pred_lr = lr_model.predict(X_test)\n",
    "y_pred_svr = svr_model.predict(X_test)"
   ]
  },
  {
   "cell_type": "code",
   "execution_count": 89,
   "metadata": {},
   "outputs": [
    {
     "data": {
      "text/html": [
       "<div>\n",
       "<style scoped>\n",
       "    .dataframe tbody tr th:only-of-type {\n",
       "        vertical-align: middle;\n",
       "    }\n",
       "\n",
       "    .dataframe tbody tr th {\n",
       "        vertical-align: top;\n",
       "    }\n",
       "\n",
       "    .dataframe thead th {\n",
       "        text-align: right;\n",
       "    }\n",
       "</style>\n",
       "<table border=\"1\" class=\"dataframe\">\n",
       "  <thead>\n",
       "    <tr style=\"text-align: right;\">\n",
       "      <th></th>\n",
       "      <th>Actual</th>\n",
       "      <th>Predicted</th>\n",
       "    </tr>\n",
       "  </thead>\n",
       "  <tbody>\n",
       "    <tr>\n",
       "      <th>11</th>\n",
       "      <td>12.3</td>\n",
       "      <td>15.150146</td>\n",
       "    </tr>\n",
       "    <tr>\n",
       "      <th>139</th>\n",
       "      <td>14.0</td>\n",
       "      <td>14.896165</td>\n",
       "    </tr>\n",
       "    <tr>\n",
       "      <th>493</th>\n",
       "      <td>14.6</td>\n",
       "      <td>12.269419</td>\n",
       "    </tr>\n",
       "    <tr>\n",
       "      <th>496</th>\n",
       "      <td>9.2</td>\n",
       "      <td>10.444927</td>\n",
       "    </tr>\n",
       "    <tr>\n",
       "      <th>46</th>\n",
       "      <td>16.3</td>\n",
       "      <td>13.543347</td>\n",
       "    </tr>\n",
       "  </tbody>\n",
       "</table>\n",
       "</div>"
      ],
      "text/plain": [
       "     Actual  Predicted\n",
       "11     12.3  15.150146\n",
       "139    14.0  14.896165\n",
       "493    14.6  12.269419\n",
       "496     9.2  10.444927\n",
       "46     16.3  13.543347"
      ]
     },
     "execution_count": 89,
     "metadata": {},
     "output_type": "execute_result"
    }
   ],
   "source": [
    "true_pred_df = pd.DataFrame({'Actual': y_test, 'Predicted': y_pred_lr})\n",
    "true_pred_df.head()"
   ]
  },
  {
   "cell_type": "code",
   "execution_count": 90,
   "metadata": {},
   "outputs": [
    {
     "name": "stdout",
     "output_type": "stream",
     "text": [
      "Mean Absolute Error: 2.7725461688683666\n",
      "Mean Squared Error: 12.315641448723252\n",
      "Root Mean Squared Error: 3.5093648212637074\n"
     ]
    }
   ],
   "source": [
    "print('Mean Absolute Error:', metrics.mean_absolute_error(y_test, y_pred_lr))  \n",
    "print('Mean Squared Error:', metrics.mean_squared_error(y_test, y_pred_lr))  \n",
    "print('Root Mean Squared Error:', np.sqrt(metrics.mean_squared_error(y_test, y_pred_lr)))"
   ]
  },
  {
   "cell_type": "code",
   "execution_count": 100,
   "metadata": {},
   "outputs": [
    {
     "data": {
      "text/html": [
       "<div>\n",
       "<style scoped>\n",
       "    .dataframe tbody tr th:only-of-type {\n",
       "        vertical-align: middle;\n",
       "    }\n",
       "\n",
       "    .dataframe tbody tr th {\n",
       "        vertical-align: top;\n",
       "    }\n",
       "\n",
       "    .dataframe thead th {\n",
       "        text-align: right;\n",
       "    }\n",
       "</style>\n",
       "<table border=\"1\" class=\"dataframe\">\n",
       "  <thead>\n",
       "    <tr style=\"text-align: right;\">\n",
       "      <th></th>\n",
       "      <th>Actual</th>\n",
       "      <th>Predicted</th>\n",
       "    </tr>\n",
       "  </thead>\n",
       "  <tbody>\n",
       "    <tr>\n",
       "      <th>11</th>\n",
       "      <td>12.3</td>\n",
       "      <td>13.668213</td>\n",
       "    </tr>\n",
       "    <tr>\n",
       "      <th>139</th>\n",
       "      <td>14.0</td>\n",
       "      <td>12.336964</td>\n",
       "    </tr>\n",
       "    <tr>\n",
       "      <th>493</th>\n",
       "      <td>14.6</td>\n",
       "      <td>13.358708</td>\n",
       "    </tr>\n",
       "    <tr>\n",
       "      <th>496</th>\n",
       "      <td>9.2</td>\n",
       "      <td>9.900695</td>\n",
       "    </tr>\n",
       "    <tr>\n",
       "      <th>46</th>\n",
       "      <td>16.3</td>\n",
       "      <td>12.962395</td>\n",
       "    </tr>\n",
       "  </tbody>\n",
       "</table>\n",
       "</div>"
      ],
      "text/plain": [
       "     Actual  Predicted\n",
       "11     12.3  13.668213\n",
       "139    14.0  12.336964\n",
       "493    14.6  13.358708\n",
       "496     9.2   9.900695\n",
       "46     16.3  12.962395"
      ]
     },
     "execution_count": 100,
     "metadata": {},
     "output_type": "execute_result"
    }
   ],
   "source": [
    "true_pred_df_svr = pd.DataFrame({'Actual': y_test, 'Predicted': y_pred_svr})\n",
    "true_pred_df_svr.head()"
   ]
  },
  {
   "cell_type": "code",
   "execution_count": 92,
   "metadata": {},
   "outputs": [
    {
     "name": "stdout",
     "output_type": "stream",
     "text": [
      "Mean Absolute Error: 2.1343798652100423\n",
      "Mean Squared Error: 7.175764939817218\n",
      "Root Mean Squared Error: 2.678761829617784\n"
     ]
    }
   ],
   "source": [
    "print('Mean Absolute Error:', metrics.mean_absolute_error(y_test, y_pred_svr))  \n",
    "print('Mean Squared Error:', metrics.mean_squared_error(y_test, y_pred_svr))  \n",
    "print('Root Mean Squared Error:', np.sqrt(metrics.mean_squared_error(y_test, y_pred_svr)))"
   ]
  },
  {
   "cell_type": "markdown",
   "metadata": {},
   "source": [
    "### K-fold"
   ]
  },
  {
   "cell_type": "code",
   "execution_count": 93,
   "metadata": {},
   "outputs": [],
   "source": [
    "kfold = KFold(n_splits=5, random_state=42)\n",
    "results = cross_val_score(lr_model, X, y, cv=kfold, scoring='r2')"
   ]
  },
  {
   "cell_type": "code",
   "execution_count": 94,
   "metadata": {},
   "outputs": [
    {
     "name": "stdout",
     "output_type": "stream",
     "text": [
      "-0.6080600264887941\n"
     ]
    }
   ],
   "source": [
    "print(results.mean())"
   ]
  },
  {
   "cell_type": "code",
   "execution_count": 95,
   "metadata": {},
   "outputs": [
    {
     "name": "stdout",
     "output_type": "stream",
     "text": [
      "-0.08288060067752259\n"
     ]
    }
   ],
   "source": [
    "kfold = KFold(n_splits=5, random_state=42)\n",
    "results = cross_val_score(svr_model, X, y, cv=kfold, scoring='r2')\n",
    "print(results.mean())"
   ]
  },
  {
   "cell_type": "markdown",
   "metadata": {},
   "source": [
    "## Visualizing regression model estimates"
   ]
  },
  {
   "cell_type": "code",
   "execution_count": 31,
   "metadata": {},
   "outputs": [],
   "source": [
    "import geopandas as gpd\n",
    "import descartes\n",
    "from shapely.geometry import Point, Polygon\n",
    "crs={'init': 'epsg:4326'}\n",
    "la_gdf = gpd.read_file('./data/lacity/lacity_census_tracts_2010.shp').to_crs(crs)"
   ]
  },
  {
   "cell_type": "code",
   "execution_count": 64,
   "metadata": {},
   "outputs": [],
   "source": [
    "temp_df = target.reset_index().drop([\"index\"], axis=1)"
   ]
  },
  {
   "cell_type": "code",
   "execution_count": 57,
   "metadata": {},
   "outputs": [
    {
     "data": {
      "text/html": [
       "<div>\n",
       "<style scoped>\n",
       "    .dataframe tbody tr th:only-of-type {\n",
       "        vertical-align: middle;\n",
       "    }\n",
       "\n",
       "    .dataframe tbody tr th {\n",
       "        vertical-align: top;\n",
       "    }\n",
       "\n",
       "    .dataframe thead th {\n",
       "        text-align: right;\n",
       "    }\n",
       "</style>\n",
       "<table border=\"1\" class=\"dataframe\">\n",
       "  <thead>\n",
       "    <tr style=\"text-align: right;\">\n",
       "      <th></th>\n",
       "      <th>index</th>\n",
       "      <th>0</th>\n",
       "      <th>1</th>\n",
       "      <th>2</th>\n",
       "      <th>3</th>\n",
       "      <th>4</th>\n",
       "      <th>5</th>\n",
       "      <th>6</th>\n",
       "      <th>7</th>\n",
       "      <th>8</th>\n",
       "      <th>...</th>\n",
       "      <th>4087</th>\n",
       "      <th>4088</th>\n",
       "      <th>4089</th>\n",
       "      <th>4090</th>\n",
       "      <th>4091</th>\n",
       "      <th>4092</th>\n",
       "      <th>4093</th>\n",
       "      <th>4094</th>\n",
       "      <th>4095</th>\n",
       "      <th>TractFIPS</th>\n",
       "    </tr>\n",
       "  </thead>\n",
       "  <tbody>\n",
       "    <tr>\n",
       "      <th>0</th>\n",
       "      <td>476</td>\n",
       "      <td>1.535566</td>\n",
       "      <td>1.229616</td>\n",
       "      <td>0.658255</td>\n",
       "      <td>1.507081</td>\n",
       "      <td>2.624575</td>\n",
       "      <td>1.061752</td>\n",
       "      <td>3.536164</td>\n",
       "      <td>-0.0</td>\n",
       "      <td>1.219561</td>\n",
       "      <td>...</td>\n",
       "      <td>-0.0</td>\n",
       "      <td>-0.0</td>\n",
       "      <td>-0.0</td>\n",
       "      <td>-0.0</td>\n",
       "      <td>2.447415</td>\n",
       "      <td>0.510135</td>\n",
       "      <td>-0.000000</td>\n",
       "      <td>-0.000000</td>\n",
       "      <td>-0.000000</td>\n",
       "      <td>6037101110</td>\n",
       "    </tr>\n",
       "    <tr>\n",
       "      <th>1</th>\n",
       "      <td>785</td>\n",
       "      <td>1.408049</td>\n",
       "      <td>3.885460</td>\n",
       "      <td>0.551711</td>\n",
       "      <td>-0.000000</td>\n",
       "      <td>8.767652</td>\n",
       "      <td>-0.000000</td>\n",
       "      <td>0.880536</td>\n",
       "      <td>-0.0</td>\n",
       "      <td>-0.000000</td>\n",
       "      <td>...</td>\n",
       "      <td>-0.0</td>\n",
       "      <td>-0.0</td>\n",
       "      <td>-0.0</td>\n",
       "      <td>-0.0</td>\n",
       "      <td>0.288755</td>\n",
       "      <td>1.299185</td>\n",
       "      <td>2.104688</td>\n",
       "      <td>-0.000000</td>\n",
       "      <td>0.312325</td>\n",
       "      <td>6037101122</td>\n",
       "    </tr>\n",
       "    <tr>\n",
       "      <th>2</th>\n",
       "      <td>171</td>\n",
       "      <td>1.340590</td>\n",
       "      <td>5.633620</td>\n",
       "      <td>2.135561</td>\n",
       "      <td>1.388060</td>\n",
       "      <td>4.021668</td>\n",
       "      <td>1.746387</td>\n",
       "      <td>0.374989</td>\n",
       "      <td>-0.0</td>\n",
       "      <td>1.078838</td>\n",
       "      <td>...</td>\n",
       "      <td>-0.0</td>\n",
       "      <td>-0.0</td>\n",
       "      <td>-0.0</td>\n",
       "      <td>-0.0</td>\n",
       "      <td>1.080878</td>\n",
       "      <td>1.162551</td>\n",
       "      <td>-0.000000</td>\n",
       "      <td>-0.000000</td>\n",
       "      <td>-0.000000</td>\n",
       "      <td>6037101210</td>\n",
       "    </tr>\n",
       "    <tr>\n",
       "      <th>3</th>\n",
       "      <td>512</td>\n",
       "      <td>4.680807</td>\n",
       "      <td>2.878426</td>\n",
       "      <td>1.926969</td>\n",
       "      <td>-0.000000</td>\n",
       "      <td>3.836767</td>\n",
       "      <td>-0.000000</td>\n",
       "      <td>1.900073</td>\n",
       "      <td>-0.0</td>\n",
       "      <td>-0.000000</td>\n",
       "      <td>...</td>\n",
       "      <td>-0.0</td>\n",
       "      <td>-0.0</td>\n",
       "      <td>-0.0</td>\n",
       "      <td>-0.0</td>\n",
       "      <td>3.632332</td>\n",
       "      <td>1.926144</td>\n",
       "      <td>-0.000000</td>\n",
       "      <td>3.650725</td>\n",
       "      <td>-0.000000</td>\n",
       "      <td>6037101220</td>\n",
       "    </tr>\n",
       "    <tr>\n",
       "      <th>4</th>\n",
       "      <td>497</td>\n",
       "      <td>2.665981</td>\n",
       "      <td>6.372698</td>\n",
       "      <td>1.211612</td>\n",
       "      <td>1.325631</td>\n",
       "      <td>4.293569</td>\n",
       "      <td>-0.000000</td>\n",
       "      <td>2.716865</td>\n",
       "      <td>-0.0</td>\n",
       "      <td>-0.000000</td>\n",
       "      <td>...</td>\n",
       "      <td>-0.0</td>\n",
       "      <td>-0.0</td>\n",
       "      <td>-0.0</td>\n",
       "      <td>-0.0</td>\n",
       "      <td>2.999381</td>\n",
       "      <td>-0.000000</td>\n",
       "      <td>-0.000000</td>\n",
       "      <td>-0.000000</td>\n",
       "      <td>-0.000000</td>\n",
       "      <td>6037101300</td>\n",
       "    </tr>\n",
       "  </tbody>\n",
       "</table>\n",
       "<p>5 rows × 4098 columns</p>\n",
       "</div>"
      ],
      "text/plain": [
       "   index         0         1         2         3         4         5  \\\n",
       "0    476  1.535566  1.229616  0.658255  1.507081  2.624575  1.061752   \n",
       "1    785  1.408049  3.885460  0.551711 -0.000000  8.767652 -0.000000   \n",
       "2    171  1.340590  5.633620  2.135561  1.388060  4.021668  1.746387   \n",
       "3    512  4.680807  2.878426  1.926969 -0.000000  3.836767 -0.000000   \n",
       "4    497  2.665981  6.372698  1.211612  1.325631  4.293569 -0.000000   \n",
       "\n",
       "          6    7         8     ...      4087  4088  4089  4090      4091  \\\n",
       "0  3.536164 -0.0  1.219561     ...      -0.0  -0.0  -0.0  -0.0  2.447415   \n",
       "1  0.880536 -0.0 -0.000000     ...      -0.0  -0.0  -0.0  -0.0  0.288755   \n",
       "2  0.374989 -0.0  1.078838     ...      -0.0  -0.0  -0.0  -0.0  1.080878   \n",
       "3  1.900073 -0.0 -0.000000     ...      -0.0  -0.0  -0.0  -0.0  3.632332   \n",
       "4  2.716865 -0.0 -0.000000     ...      -0.0  -0.0  -0.0  -0.0  2.999381   \n",
       "\n",
       "       4092      4093      4094      4095   TractFIPS  \n",
       "0  0.510135 -0.000000 -0.000000 -0.000000  6037101110  \n",
       "1  1.299185  2.104688 -0.000000  0.312325  6037101122  \n",
       "2  1.162551 -0.000000 -0.000000 -0.000000  6037101210  \n",
       "3  1.926144 -0.000000  3.650725 -0.000000  6037101220  \n",
       "4 -0.000000 -0.000000 -0.000000 -0.000000  6037101300  \n",
       "\n",
       "[5 rows x 4098 columns]"
      ]
     },
     "execution_count": 57,
     "metadata": {},
     "output_type": "execute_result"
    }
   ],
   "source": [
    "X.head()"
   ]
  },
  {
   "cell_type": "code",
   "execution_count": 44,
   "metadata": {},
   "outputs": [],
   "source": [
    "# Make copy of la df\n",
    "temp_df = la_df\n",
    "\n",
    "# Change geolocation to latitude longitude\n",
    "def convertToLat(row):\n",
    "    tempRow = eval(row)\n",
    "    return (tempRow[0]) \n",
    "\n",
    "def convertToLong(row):\n",
    "    tempRow = eval(row)\n",
    "    return (tempRow[1]) \n",
    "\n",
    "temp_df['Latitude'] = temp_df['GeoLocation'].apply(lambda row: convertToLat(row))\n",
    "temp_df['Longitude'] = temp_df['GeoLocation'].apply(lambda row: convertToLong(row))"
   ]
  },
  {
   "cell_type": "code",
   "execution_count": 50,
   "metadata": {},
   "outputs": [
    {
     "data": {
      "text/plain": [
       "13158    14.034483\n",
       "8806     13.629286\n",
       "5324     14.948726\n",
       "25423    11.456139\n",
       "14001    10.288399\n",
       "2833     13.767477\n",
       "27535    10.314208\n",
       "9249     12.010897\n",
       "24109    13.678319\n",
       "7140     13.210318\n",
       "7787     12.696889\n",
       "17332    14.381163\n",
       "7557     13.840053\n",
       "14690    12.337321\n",
       "8818     11.098270\n",
       "10529    13.769599\n",
       "15944    14.354193\n",
       "6835      9.799437\n",
       "5774     11.065653\n",
       "15713    11.397074\n",
       "1373     13.514615\n",
       "28552    11.733458\n",
       "12108    12.652118\n",
       "5301     14.505180\n",
       "26150    11.179875\n",
       "22840    12.026328\n",
       "28012    10.727224\n",
       "6829     11.007737\n",
       "12915    11.265945\n",
       "2519     13.566649\n",
       "           ...    \n",
       "3678     14.257813\n",
       "14248    11.651352\n",
       "2247     12.485111\n",
       "17430    11.582609\n",
       "14616    13.362966\n",
       "16256    14.052882\n",
       "15540    12.449606\n",
       "19986    11.433552\n",
       "25099    13.805759\n",
       "3401     14.527479\n",
       "3738     12.657967\n",
       "21785    15.837028\n",
       "20469    10.496192\n",
       "23570    14.260149\n",
       "5226     14.091195\n",
       "19217    13.640727\n",
       "8494     15.710560\n",
       "19421    14.123257\n",
       "25383     9.840457\n",
       "27484    17.120489\n",
       "18152    14.111138\n",
       "11622    12.592097\n",
       "20009    11.938471\n",
       "1177     14.574527\n",
       "8890      9.799447\n",
       "924      13.692908\n",
       "11840    11.352153\n",
       "18364    11.931957\n",
       "27925    13.657548\n",
       "23543    15.435870\n",
       "Name: Predicted, Length: 199, dtype: float64"
      ]
     },
     "execution_count": 50,
     "metadata": {},
     "output_type": "execute_result"
    }
   ],
   "source": [
    "true_pred_df_svr.Predicted"
   ]
  },
  {
   "cell_type": "code",
   "execution_count": null,
   "metadata": {},
   "outputs": [],
   "source": []
  }
 ],
 "metadata": {
  "kernelspec": {
   "display_name": "Python 3",
   "language": "python",
   "name": "python3"
  },
  "language_info": {
   "codemirror_mode": {
    "name": "ipython",
    "version": 3
   },
   "file_extension": ".py",
   "mimetype": "text/x-python",
   "name": "python",
   "nbconvert_exporter": "python",
   "pygments_lexer": "ipython3",
   "version": "3.7.1"
  }
 },
 "nbformat": 4,
 "nbformat_minor": 2
}
